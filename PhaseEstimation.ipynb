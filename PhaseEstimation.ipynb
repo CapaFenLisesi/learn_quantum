{
 "cells": [
  {
   "cell_type": "markdown",
   "metadata": {},
   "source": [
    "# Quantum Phase Estimation\n",
    "\n",
    "They theory of Quantum Phase Estimation will be covered in the book.  However, there are numerous resources online that cover the theory in detail.  This covers the implementation and notes several pitfals for new programmers -- namely in how various algorithums use slightly different versions of the Quantum Fourier Transformation. Two implementation are demonstrated here, but many more exist.  Which one you use depends on what you are trying to do inside your circuit.  The \"textbook\" definition is easiest for beginers to follow along with, but because of the number of gates used, it is rarely actually used in any of the larger alrogithums. \n",
    "\n",
    "Note that Qiskit stores its matricies in \"reverse\" order, and the learn_quantum library displays them in \"normal\" order so they match up with textbooks and academic papers."
   ]
  },
  {
   "cell_type": "code",
   "execution_count": 1,
   "metadata": {},
   "outputs": [],
   "source": [
    "import numpy as np\n",
    "import decimal \n",
    "from math import ceil, sqrt, log2\n",
    "from random import randint\n",
    "import random, time\n",
    "from sympy import mod_inverse\n",
    "import sympy\n",
    "import random\n",
    "from fractions import Fraction\n",
    "\n",
    "from qiskit.visualization import plot_bloch_multivector\n",
    "from qiskit.visualization import plot_histogram\n",
    "from qiskit import QuantumCircuit, QuantumRegister\n",
    "from qiskit import QuantumRegister, ClassicalRegister, QuantumCircuit, execute\n",
    "import learn_quantum as lq\n",
    "from learn_quantum import imag, ket, bra\n",
    "from learn_quantum import np_array_to_latex as a_to_l\n",
    "from IPython.display import Latex\n",
    "import math\n",
    "import numpy as np\n",
    "from numpy import pi, cos, sin, exp, gcd, lcm\n",
    "from numpy import pi as π\n",
    "import random\n",
    "import matplotlib.pyplot as plt"
   ]
  },
  {
   "cell_type": "code",
   "execution_count": 2,
   "metadata": {},
   "outputs": [],
   "source": [
    "def textbook_qft(qr, cr, n, start_at=0):\n",
    "    circuit = QuantumCircuit(qr, cr)\n",
    "\n",
    "    for j in range(n + start_at):\n",
    "        circuit.h(qr[j])\n",
    "        for k in range(j + 1 + start_at, n + start_at):\n",
    "            circuit.cu1(np.pi/float(2**(k-j)), qr[k], qr[j])\n",
    "    \n",
    "    for i in range(n//2 + start_at):\n",
    "        circuit.swap(qr[i], qr[n-i-1])\n",
    "    return circuit\n",
    "\n",
    "\n",
    "def textbook_qft_no_swap(qr, cr, n, start_at=0):\n",
    "    circuit = QuantumCircuit(qr, cr)\n",
    "\n",
    "    for j in range(n + start_at):\n",
    "        circuit.h(qr[j])\n",
    "        for k in range(j + 1 + start_at, n + start_at):\n",
    "            circuit.cu1(np.pi/float(2**(k-j)), qr[k], qr[j])\n",
    "    return circuit\n",
    "\n",
    "\n",
    "def signal_qft(qr, cr ,n, start_at=0):\n",
    "    circuit = QuantumCircuit(qr, cr)\n",
    "\n",
    "    for k in range(n + start_at):\n",
    "        j = n - k\n",
    "        circuit.h(qr[j-1])\n",
    "        for i in reversed(range(j-1)):\n",
    "            circuit.cu1(2*np.pi/2**(j-i),qr[i], qr[j-1])\n",
    "\n",
    "    for i in range(n//2):\n",
    "        circuit.swap(qr[i], qr[n-i-1])\n",
    "    return circuit\n",
    "\n",
    "def np_textbook_qft_matrix(size):\n",
    "    if size > 16:\n",
    "        print('Too large.')\n",
    "        return\n",
    "    \n",
    "    qft = np.zeros([2**size, 2**size], dtype=complex)\n",
    "    for m in range(2**size):\n",
    "        for n in range(2**size):\n",
    "            qft[m, n] = exp(2*π*m*n*lq.imag/(2**size))\n",
    "    return 1/sqrt(2**size)*qft"
   ]
  },
  {
   "cell_type": "code",
   "execution_count": 3,
   "metadata": {},
   "outputs": [],
   "source": [
    "def input_state(circ, q, value_to_encode, size ):\n",
    "    for bit in range(size):\n",
    "        circ.rz(value_to_encode*float(π)/(2**bit), q[size-1-bit])"
   ]
  },
  {
   "cell_type": "code",
   "execution_count": 4,
   "metadata": {},
   "outputs": [
    {
     "data": {
      "text/plain": [
       "<qiskit.circuit.instructionset.InstructionSet at 0x1051e7390>"
      ]
     },
     "execution_count": 4,
     "metadata": {},
     "output_type": "execute_result"
    }
   ],
   "source": [
    "size = 3\n",
    "value_to_encode = 2\n",
    "\n",
    "q = QuantumRegister(size)\n",
    "c = ClassicalRegister(size)\n",
    "\n",
    "initial_qft = QuantumCircuit(q, c)\n",
    "initial_qft.h(q)\n",
    "\n",
    "signal = QuantumCircuit(q, c)\n",
    "input_state(signal, q, value_to_encode, size)\n",
    "\n",
    "inverse_qft = signal_qft(q, c, size).inverse()\n",
    "\n",
    "m = QuantumCircuit(q, c)\n",
    "m.measure(q,c)\n",
    "\n"
   ]
  },
  {
   "cell_type": "code",
   "execution_count": 5,
   "metadata": {},
   "outputs": [
    {
     "name": "stdout",
     "output_type": "stream",
     "text": [
      "Reversed:Direct Signal: [('010', 1000)]\n",
      "2\n"
     ]
    }
   ],
   "source": [
    "shots = 1000\n",
    "answers = lq.execute_simulated(initial_qft + signal + inverse_qft + m ,shots)\n",
    "lq.print_reverse_results(answers, label='Direct Signal')\n",
    "for key in answers:\n",
    "    print(int(key,2))"
   ]
  },
  {
   "cell_type": "code",
   "execution_count": 6,
   "metadata": {},
   "outputs": [
    {
     "data": {
      "image/png": "[encoded data removed]",
      "text/plain": [
       "<Figure size 889.756x264.88 with 1 Axes>"
      ]
     },
     "execution_count": 6,
     "metadata": {},
     "output_type": "execute_result"
    }
   ],
   "source": [
    "(initial_qft + signal + inverse_qft + m).draw(output='mpl')"
   ]
  },
  {
   "cell_type": "code",
   "execution_count": 7,
   "metadata": {},
   "outputs": [
    {
     "data": {
      "image/png": "[encoded data removed]",
      "text/plain": [
       "<Figure size 588.756x264.88 with 1 Axes>"
      ]
     },
     "execution_count": 7,
     "metadata": {},
     "output_type": "execute_result"
    }
   ],
   "source": [
    "(inverse_qft).draw(output='mpl')"
   ]
  },
  {
   "cell_type": "markdown",
   "metadata": {},
   "source": [
    "# Generate a Standard QFT and compare it to the textbook definition"
   ]
  },
  {
   "cell_type": "code",
   "execution_count": 9,
   "metadata": {},
   "outputs": [
    {
     "data": {
      "text/latex": [
       "\\begin{equation*}\\frac{1}{2}\\begin{pmatrix}1 & 1 & 1 & 1 \\\\ \n",
       "1 & i & -1 & -i \\\\ \n",
       "1 & -1 & 1 & -1 \\\\ \n",
       "1 & -i & -1 & i \\\\ \n",
       "\\end{pmatrix}\\end{equation*}"
      ],
      "text/plain": [
       "<IPython.core.display.Latex object>"
      ]
     },
     "execution_count": 9,
     "metadata": {},
     "output_type": "execute_result"
    }
   ],
   "source": [
    "\n",
    "N=2\n",
    "q1= QuantumRegister(N)\n",
    "c1 = ClassicalRegister(N)\n",
    "\n",
    "qft_stand = QuantumCircuit(q1, c1)\n",
    "qft_stand = textbook_qft(q1, c1, N)\n",
    "\n",
    "Latex(lq.show_me_the_matrix(qft_stand))"
   ]
  },
  {
   "cell_type": "code",
   "execution_count": 10,
   "metadata": {},
   "outputs": [
    {
     "data": {
      "text/latex": [
       "\\begin{equation*}\\frac{1}{2}\\begin{pmatrix}1 & 1 & 1 & 1 \\\\ \n",
       "1 & i & -1 & -i \\\\ \n",
       "1 & -1 & 1 & -1 \\\\ \n",
       "1 & -i & -1 & i \\\\ \n",
       "\\end{pmatrix}\\end{equation*}"
      ],
      "text/plain": [
       "<IPython.core.display.Latex object>"
      ]
     },
     "execution_count": 10,
     "metadata": {},
     "output_type": "execute_result"
    }
   ],
   "source": [
    "Latex(a_to_l(np_textbook_qft_matrix(2)))"
   ]
  },
  {
   "cell_type": "code",
   "execution_count": 12,
   "metadata": {},
   "outputs": [
    {
     "data": {
      "text/latex": [
       "\\begin{equation*}\\frac{1}{2\\sqrt{2}}\\begin{pmatrix}1 & 1 & 1 & 1 & 1 & 1 & 1 & 1 \\\\ \n",
       "1 & \\frac{1}{\\sqrt{2}}+\\frac{1}{\\sqrt{2}}i & i & -\\frac{1}{\\sqrt{2}}+\\frac{1}{\\sqrt{2}}i & -1 & -\\frac{1}{\\sqrt{2}}-\\frac{1}{\\sqrt{2}}i & -i & \\frac{1}{\\sqrt{2}}-\\frac{1}{\\sqrt{2}}i \\\\ \n",
       "1 & i & -1 & -i & 1 & i & -1 & -i \\\\ \n",
       "1 & -\\frac{1}{\\sqrt{2}}+\\frac{1}{\\sqrt{2}}i & -i & \\frac{1}{\\sqrt{2}}+\\frac{1}{\\sqrt{2}}i & -1 & \\frac{1}{\\sqrt{2}}-\\frac{1}{\\sqrt{2}}i & i & -\\frac{1}{\\sqrt{2}}-\\frac{1}{\\sqrt{2}}i \\\\ \n",
       "1 & -1 & 1 & -1 & 1 & -1 & 1 & -1 \\\\ \n",
       "1 & -\\frac{1}{\\sqrt{2}}-\\frac{1}{\\sqrt{2}}i & i & \\frac{1}{\\sqrt{2}}-\\frac{1}{\\sqrt{2}}i & -1 & \\frac{1}{\\sqrt{2}}+\\frac{1}{\\sqrt{2}}i & -i & -\\frac{1}{\\sqrt{2}}+\\frac{1}{\\sqrt{2}}i \\\\ \n",
       "1 & -i & -1 & i & 1 & -i & -1 & i \\\\ \n",
       "1 & \\frac{1}{\\sqrt{2}}-\\frac{1}{\\sqrt{2}}i & -i & -\\frac{1}{\\sqrt{2}}-\\frac{1}{\\sqrt{2}}i & -1 & -\\frac{1}{\\sqrt{2}}+\\frac{1}{\\sqrt{2}}i & i & \\frac{1}{\\sqrt{2}}+\\frac{1}{\\sqrt{2}}i \\\\ \n",
       "\\end{pmatrix}\\end{equation*}"
      ],
      "text/plain": [
       "<IPython.core.display.Latex object>"
      ]
     },
     "execution_count": 12,
     "metadata": {},
     "output_type": "execute_result"
    }
   ],
   "source": [
    "Latex(a_to_l(np_textbook_qft_matrix(3), normalize=True))"
   ]
  },
  {
   "cell_type": "code",
   "execution_count": 62,
   "metadata": {},
   "outputs": [
    {
     "data": {
      "text/latex": [
       "\\begin{equation*}\\frac{1}{2\\sqrt{2}}\\begin{pmatrix}1 & 1 & 1 & 1 & 1 & 1 & 1 & 1 \\\\ \n",
       "1 & \\frac{1}{\\sqrt{2}}+\\frac{1}{\\sqrt{2}}i & i & -\\frac{1}{\\sqrt{2}}+\\frac{1}{\\sqrt{2}}i & -1 & -\\frac{1}{\\sqrt{2}}-\\frac{1}{\\sqrt{2}}i & -i & \\frac{1}{\\sqrt{2}}-\\frac{1}{\\sqrt{2}}i \\\\ \n",
       "1 & i & -1 & -i & 1 & i & -1 & -i \\\\ \n",
       "1 & -\\frac{1}{\\sqrt{2}}+\\frac{1}{\\sqrt{2}}i & -i & \\frac{1}{\\sqrt{2}}+\\frac{1}{\\sqrt{2}}i & -1 & \\frac{1}{\\sqrt{2}}-\\frac{1}{\\sqrt{2}}i & i & -\\frac{1}{\\sqrt{2}}-\\frac{1}{\\sqrt{2}}i \\\\ \n",
       "1 & -1 & 1 & -1 & 1 & -1 & 1 & -1 \\\\ \n",
       "1 & -\\frac{1}{\\sqrt{2}}-\\frac{1}{\\sqrt{2}}i & i & \\frac{1}{\\sqrt{2}}-\\frac{1}{\\sqrt{2}}i & -1 & \\frac{1}{\\sqrt{2}}+\\frac{1}{\\sqrt{2}}i & -i & -\\frac{1}{\\sqrt{2}}+\\frac{1}{\\sqrt{2}}i \\\\ \n",
       "1 & -i & -1 & i & 1 & -i & -1 & i \\\\ \n",
       "1 & \\frac{1}{\\sqrt{2}}-\\frac{1}{\\sqrt{2}}i & -i & -\\frac{1}{\\sqrt{2}}-\\frac{1}{\\sqrt{2}}i & -1 & -\\frac{1}{\\sqrt{2}}+\\frac{1}{\\sqrt{2}}i & i & \\frac{1}{\\sqrt{2}}+\\frac{1}{\\sqrt{2}}i \\\\ \n",
       "\\end{pmatrix}\\end{equation*}"
      ],
      "text/plain": [
       "<IPython.core.display.Latex object>"
      ]
     },
     "execution_count": 62,
     "metadata": {},
     "output_type": "execute_result"
    }
   ],
   "source": [
    "N=3\n",
    "q2= QuantumRegister(3)\n",
    "c2 = ClassicalRegister(3)\n",
    "\n",
    "s_qft = textbook_qft(q2, c2, N)\n",
    "\n",
    "Latex(lq.show_me_the_matrix(s_qft, normalize=True))"
   ]
  },
  {
   "cell_type": "code",
   "execution_count": 63,
   "metadata": {},
   "outputs": [
    {
     "data": {
      "text/latex": [
       "\\begin{equation*}\\frac{1}{2\\sqrt{2}}\\begin{pmatrix}1 & 1 & 1 & 1 & 1 & 1 & 1 & 1 \\\\ \n",
       "1 & 1 & 1 & 1 & -1 & -1 & -1 & -1 \\\\ \n",
       "1 & 1 & -1 & -1 & i & i & -i & -i \\\\ \n",
       "1 & 1 & -1 & -1 & -i & -i & i & i \\\\ \n",
       "1 & -1 & i & -i & \\frac{1}{\\sqrt{2}}+\\frac{1}{\\sqrt{2}}i & -\\frac{1}{\\sqrt{2}}-\\frac{1}{\\sqrt{2}}i & -\\frac{1}{\\sqrt{2}}+\\frac{1}{\\sqrt{2}}i & \\frac{1}{\\sqrt{2}}-\\frac{1}{\\sqrt{2}}i \\\\ \n",
       "1 & -1 & i & -i & -\\frac{1}{\\sqrt{2}}-\\frac{1}{\\sqrt{2}}i & \\frac{1}{\\sqrt{2}}+\\frac{1}{\\sqrt{2}}i & \\frac{1}{\\sqrt{2}}-\\frac{1}{\\sqrt{2}}i & -\\frac{1}{\\sqrt{2}}+\\frac{1}{\\sqrt{2}}i \\\\ \n",
       "1 & -1 & -i & i & -\\frac{1}{\\sqrt{2}}+\\frac{1}{\\sqrt{2}}i & \\frac{1}{\\sqrt{2}}-\\frac{1}{\\sqrt{2}}i & \\frac{1}{\\sqrt{2}}+\\frac{1}{\\sqrt{2}}i & -\\frac{1}{\\sqrt{2}}-\\frac{1}{\\sqrt{2}}i \\\\ \n",
       "1 & -1 & -i & i & \\frac{1}{\\sqrt{2}}-\\frac{1}{\\sqrt{2}}i & -\\frac{1}{\\sqrt{2}}+\\frac{1}{\\sqrt{2}}i & -\\frac{1}{\\sqrt{2}}-\\frac{1}{\\sqrt{2}}i & \\frac{1}{\\sqrt{2}}+\\frac{1}{\\sqrt{2}}i \\\\ \n",
       "\\end{pmatrix}\\end{equation*}"
      ],
      "text/plain": [
       "<IPython.core.display.Latex object>"
      ]
     },
     "execution_count": 63,
     "metadata": {},
     "output_type": "execute_result"
    }
   ],
   "source": [
    "N=3\n",
    "q2= QuantumRegister(3)\n",
    "c2 = ClassicalRegister(3)\n",
    "\n",
    "s_qft = signal_qft(q2, c2, N)\n",
    "\n",
    "Latex(lq.show_me_the_matrix(s_qft, normalize=True))"
   ]
  },
  {
   "cell_type": "code",
   "execution_count": null,
   "metadata": {},
   "outputs": [],
   "source": []
  },
  {
   "cell_type": "markdown",
   "metadata": {},
   "source": [
    "# QFT applied to the Zero state is the same as applying Hadamards\n",
    "Because the Quantum Circuit is initialized in the '0000...' state, applying a QFT to that state is the same as applying exclusively Hadamards.  You can see this from the above matricies, but we verify it below. \n",
    "\n",
    "As such, the initial applications of Hadamards is really a \"QFT\" -- which is why it was labeled as such above.  Thus, you perform a \"QFT\" on the zero state, then apply a signal, then apply a inverse QFT.  To save on gate counts, this is the same as apply Hadamards to all the initial states, then the signal then the inverse QFT."
   ]
  },
  {
   "cell_type": "code",
   "execution_count": 17,
   "metadata": {},
   "outputs": [
    {
     "data": {
      "text/latex": [
       "\\begin{equation*}\\frac{1}{2\\sqrt{2}}\\begin{pmatrix}1 \\\\ \n",
       "1 \\\\ \n",
       "1 \\\\ \n",
       "1 \\\\ \n",
       "1 \\\\ \n",
       "1 \\\\ \n",
       "1 \\\\ \n",
       "1 \\\\ \n",
       "\\end{pmatrix}\\end{equation*}"
      ],
      "text/plain": [
       "<IPython.core.display.Latex object>"
      ]
     },
     "execution_count": 17,
     "metadata": {},
     "output_type": "execute_result"
    }
   ],
   "source": [
    "Latex(a_to_l(np_textbook_qft_matrix(3)@ket('000')))"
   ]
  },
  {
   "cell_type": "code",
   "execution_count": 18,
   "metadata": {},
   "outputs": [
    {
     "data": {
      "text/plain": [
       "<qiskit.circuit.instructionset.InstructionSet at 0x13b88ae48>"
      ]
     },
     "execution_count": 18,
     "metadata": {},
     "output_type": "execute_result"
    }
   ],
   "source": [
    "qr = QuantumRegister(3)\n",
    "cr = ClassicalRegister(3)\n",
    "qc = QuantumCircuit(qr, cr)\n",
    "qc.h(qr)\n"
   ]
  },
  {
   "cell_type": "code",
   "execution_count": 19,
   "metadata": {},
   "outputs": [],
   "source": [
    "hadamard_qft = lq.what_is_the_matrix(qc)"
   ]
  },
  {
   "cell_type": "code",
   "execution_count": 20,
   "metadata": {},
   "outputs": [
    {
     "data": {
      "text/latex": [
       "\\begin{equation*}\\frac{1}{2\\sqrt{2}}\\begin{pmatrix}1 & 1 & 1 & 1 & 1 & 1 & 1 & 1 \\\\ \n",
       "1 & -1 & 1 & -1 & 1 & -1 & 1 & -1 \\\\ \n",
       "1 & 1 & -1 & -1 & 1 & 1 & -1 & -1 \\\\ \n",
       "1 & -1 & -1 & 1 & 1 & -1 & -1 & 1 \\\\ \n",
       "1 & 1 & 1 & 1 & -1 & -1 & -1 & -1 \\\\ \n",
       "1 & -1 & 1 & -1 & -1 & 1 & -1 & 1 \\\\ \n",
       "1 & 1 & -1 & -1 & -1 & -1 & 1 & 1 \\\\ \n",
       "1 & -1 & -1 & 1 & -1 & 1 & 1 & -1 \\\\ \n",
       "\\end{pmatrix}\\end{equation*}"
      ],
      "text/plain": [
       "<IPython.core.display.Latex object>"
      ]
     },
     "execution_count": 20,
     "metadata": {},
     "output_type": "execute_result"
    }
   ],
   "source": [
    "Latex(a_to_l(hadamard_qft))"
   ]
  },
  {
   "cell_type": "code",
   "execution_count": 21,
   "metadata": {},
   "outputs": [
    {
     "data": {
      "text/latex": [
       "\\begin{equation*}\\frac{1}{2\\sqrt{2}}\\begin{pmatrix}1 \\\\ \n",
       "1 \\\\ \n",
       "1 \\\\ \n",
       "1 \\\\ \n",
       "1 \\\\ \n",
       "1 \\\\ \n",
       "1 \\\\ \n",
       "1 \\\\ \n",
       "\\end{pmatrix}\\end{equation*}"
      ],
      "text/plain": [
       "<IPython.core.display.Latex object>"
      ]
     },
     "execution_count": 21,
     "metadata": {},
     "output_type": "execute_result"
    }
   ],
   "source": [
    "Latex(a_to_l(hadamard_qft@ket('000')))"
   ]
  },
  {
   "cell_type": "markdown",
   "metadata": {},
   "source": [
    "## Exercise: Verify that applying the full \"QFT\" circuit to the inital state acheives identical results"
   ]
  },
  {
   "cell_type": "code",
   "execution_count": 22,
   "metadata": {},
   "outputs": [
    {
     "data": {
      "text/plain": [
       "<qiskit.circuit.instructionset.InstructionSet at 0x13b23f7f0>"
      ]
     },
     "execution_count": 22,
     "metadata": {},
     "output_type": "execute_result"
    }
   ],
   "source": [
    "size = 3\n",
    "value_to_encode = 3\n",
    "\n",
    "q = QuantumRegister(size)\n",
    "c = ClassicalRegister(size)\n",
    "\n",
    "#You can use either textbook or signal, result is the same\n",
    "initial_qft = textbook_qft(q, c, size) \n",
    "\n",
    "signal = QuantumCircuit(q, c)\n",
    "input_state(signal, q, value_to_encode, size)\n",
    "\n",
    "inverse_qft = signal_qft(q, c, size).inverse()\n",
    "\n",
    "m = QuantumCircuit(q, c)\n",
    "m.measure(q,c)"
   ]
  },
  {
   "cell_type": "code",
   "execution_count": 23,
   "metadata": {},
   "outputs": [
    {
     "name": "stdout",
     "output_type": "stream",
     "text": [
      "Reversed:Direct Signal: [('110', 1000)]\n",
      "3\n"
     ]
    }
   ],
   "source": [
    "shots = 1000\n",
    "answers = lq.execute_simulated(initial_qft + signal + inverse_qft + m ,shots)\n",
    "lq.print_reverse_results(answers, label='Direct Signal')\n",
    "for key in answers:\n",
    "    print(int(key,2))"
   ]
  },
  {
   "cell_type": "code",
   "execution_count": 24,
   "metadata": {},
   "outputs": [
    {
     "data": {
      "image/png": "[encoded data removed]",
      "text/plain": [
       "<Figure size 1250.96x264.88 with 1 Axes>"
      ]
     },
     "execution_count": 24,
     "metadata": {},
     "output_type": "execute_result"
    }
   ],
   "source": [
    "(initial_qft + signal + inverse_qft + m).draw(output='mpl')"
   ]
  },
  {
   "cell_type": "markdown",
   "metadata": {},
   "source": [
    "## Exercise:  Implement a smaller circuit by removing the swap gates\n",
    "\n",
    "In many implementations of Shor's algorithum, a simplified QFT type operation is used to reduce the gate counts.  Swap gates are decomposed to three control-not gates which are \"expensive\" gates.  Rewrite the code the remove these swap gates.  There are different ways to do this, but you want a circuit that has has few gates as possible.  So, of course, use the Hadamards as QFT on the zero state."
   ]
  },
  {
   "cell_type": "code",
   "execution_count": 945,
   "metadata": {},
   "outputs": [
    {
     "ename": "IndentationError",
     "evalue": "expected an indented block (<ipython-input-945-2f3388735550>, line 6)",
     "output_type": "error",
     "traceback": [
      "\u001b[0;36m  File \u001b[0;32m\"<ipython-input-945-2f3388735550>\"\u001b[0;36m, line \u001b[0;32m6\u001b[0m\n\u001b[0;31m    def signal_qft_no_swap(q, c, size):\u001b[0m\n\u001b[0m      ^\u001b[0m\n\u001b[0;31mIndentationError\u001b[0m\u001b[0;31m:\u001b[0m expected an indented block\n"
     ]
    }
   ],
   "source": [
    "# You can either re-implement this function or put all the logic into the QFT.\n",
    "# These functions should be substantially similar to the originals in size and complexity. \n",
    "# If you have a 10 line fucntion, you have taken a wrong turn.\n",
    "\n",
    "def input_no_swap(signal_no_swap, q, value_to_encode, size):\n",
    "    # TODO: Your code\n",
    "    \n",
    "    \n",
    "def signal_qft_no_swap(q, c, size):\n",
    "    #TODO: Your code\n",
    "    \n",
    "    "
   ]
  },
  {
   "cell_type": "code",
   "execution_count": null,
   "metadata": {},
   "outputs": [],
   "source": [
    "size = 3\n",
    "value_to_encode = 3\n",
    "\n",
    "q = QuantumRegister(size)\n",
    "c = ClassicalRegister(size)\n",
    "\n",
    "initial_qft = QuantumCircuit(q, c)\n",
    "initial_qft.h(q)\n",
    "\n",
    "signal_no_swap = QuantumCircuit(q, c)\n",
    "\n",
    "input_no_swap(signal_no_swap, q, value_to_encode, size)\n",
    "\n",
    "inverse_qft_no_swap = signal_qft_no_swap(q, c, size)\n",
    "\n",
    "m = QuantumCircuit(q, c)\n",
    "m.measure(q,c)"
   ]
  },
  {
   "cell_type": "code",
   "execution_count": null,
   "metadata": {},
   "outputs": [],
   "source": [
    "shots = 1000\n",
    "answers = lq.execute_simulated(initial_qft + signal_no_swap + inverse_qft_no_swap + m ,shots)\n",
    "lq.print_reverse_results(answers, label='Direct Signal')\n",
    "for key in answers:\n",
    "    print(int(key,2))"
   ]
  },
  {
   "cell_type": "code",
   "execution_count": null,
   "metadata": {},
   "outputs": [],
   "source": []
  },
  {
   "cell_type": "markdown",
   "metadata": {},
   "source": [
    "# Exact phase measurement.\n",
    "\n",
    "The following implements the \"textbook\" version of Quantum Phase Estimation starting with exact measurement.\n",
    "\n",
    "When the input phase is a direct multiple of the precission, it is meaured directly and no estimation is needed.  That is, if we input a phase of 1/4π into a 2 qubit system, it can measure that directly and return an exact result.  We will start with exact measurement and then extend it to estimation.\n",
    "\n",
    "The first implementation uses multiple qubits to hold the phase and you adjust the phase by turning off or on the various input qubits. \n",
    "\n",
    "The next implementation uses a single qubit to hold the phase and you adjust the phase by changing the circuit -- this is the way most implmentations of Shors do it.  \n",
    "\n",
    "Finally, the phase estimation circuit uses continued fractions post-measurement to estimate phases between precission levels. "
   ]
  },
  {
   "cell_type": "code",
   "execution_count": 25,
   "metadata": {},
   "outputs": [
    {
     "data": {
      "text/plain": [
       "<qiskit.circuit.instructionset.InstructionSet at 0x13bc384e0>"
      ]
     },
     "execution_count": 25,
     "metadata": {},
     "output_type": "execute_result"
    }
   ],
   "source": [
    "qr = QuantumRegister(6)\n",
    "cr = ClassicalRegister(3)\n",
    "qc = QuantumCircuit(qr, cr)\n",
    "\n",
    "qc.h(qr[0])\n",
    "qc.h(qr[1])\n",
    "qc.h(qr[2])\n",
    "\n",
    "## Comment and uncomment these qubits to set the phase\n",
    "## These are considered the \"inputs\"\n",
    "#qc.x(qr[3])\n",
    "qc.x(qr[4])\n",
    "#qc.x(qr[5])\n",
    "\n",
    "angle = np.pi/4\n",
    "\n",
    "qc.cu1(angle, qr[2], qr[3])\n",
    "qc.cu1(2*angle, qr[1], qr[3])\n",
    "qc.cu1(4*angle, qr[0], qr[3])\n",
    "\n",
    "qc.cu1(2*angle, qr[2], qr[4])\n",
    "qc.cu1(4*angle, qr[1], qr[4])\n",
    "\n",
    "qc.cu1(4*angle, qr[2], qr[5])\n",
    "\n",
    "# You can generate the QFT and then invert when your measure\n",
    "qft = textbook_qft(qr, cr, 3)\n",
    "\n",
    "m = QuantumCircuit(qr, cr)\n",
    "m.measure(qr[0], cr[0])\n",
    "m.measure(qr[1], cr[1])\n",
    "m.measure(qr[2], cr[2])\n"
   ]
  },
  {
   "cell_type": "code",
   "execution_count": 26,
   "metadata": {},
   "outputs": [
    {
     "name": "stdout",
     "output_type": "stream",
     "text": [
      "Reversed:QPE: [('010', 1000)]\n",
      "2 1000\n"
     ]
    }
   ],
   "source": [
    "shots = 1000\n",
    "answers = lq.execute_simulated(qc+qft.inverse()+m ,shots)\n",
    "lq.print_reverse_results(answers, label='QPE')\n",
    "for key in answers:\n",
    "    print(int(key[::-1],2), answers[key])"
   ]
  },
  {
   "cell_type": "markdown",
   "metadata": {},
   "source": [
    "# Qiskit Version with no swap gates\n",
    "\n",
    "If you use the Qiskit native way of storing, you do not need the swap gates and you do not need to reverse the output.\n",
    "\n",
    "However, when you compare your circuits to textbook circuits, they will appear \"backwards.\" \n"
   ]
  },
  {
   "cell_type": "code",
   "execution_count": 80,
   "metadata": {},
   "outputs": [
    {
     "data": {
      "text/plain": [
       "<qiskit.circuit.instructionset.InstructionSet at 0x13bb4cfd0>"
      ]
     },
     "execution_count": 80,
     "metadata": {},
     "output_type": "execute_result"
    }
   ],
   "source": [
    "qr = QuantumRegister(6)\n",
    "cr = ClassicalRegister(3)\n",
    "qc = QuantumCircuit(qr, cr)\n",
    "\n",
    "qc.h(qr[0])\n",
    "qc.h(qr[1])\n",
    "qc.h(qr[2])\n",
    "\n",
    "## Comment and uncomment these qubits to set the phase\n",
    "## These are considered the \"inputs\"\n",
    "qc.x(qr[3])\n",
    "#qc.x(qr[4])\n",
    "#qc.x(qr[5])\n",
    "\n",
    "angle = np.pi/4\n",
    "\n",
    "qc.cu1(angle, qr[0], qr[5])\n",
    "qc.cu1(2*angle, qr[1], qr[5])\n",
    "qc.cu1(4*angle, qr[2], qr[5])\n",
    "\n",
    "qc.cu1(2*angle, qr[0], qr[4])\n",
    "qc.cu1(4*angle, qr[1], qr[4])\n",
    "\n",
    "qc.cu1(4*angle, qr[0], qr[3])\n",
    "\n",
    "# You can generate the QFT and then invert when your measure\n",
    "qft = textbook_qft_no_swap(qr, cr, 3)\n",
    "\n",
    "m = QuantumCircuit(qr, cr)\n",
    "m.measure(qr[0], cr[0])\n",
    "m.measure(qr[1], cr[1])\n",
    "m.measure(qr[2], cr[2])"
   ]
  },
  {
   "cell_type": "code",
   "execution_count": 81,
   "metadata": {},
   "outputs": [
    {
     "name": "stdout",
     "output_type": "stream",
     "text": [
      "{'001': 1000}\n",
      "1 1000\n"
     ]
    }
   ],
   "source": [
    "shots = 1000\n",
    "answers = lq.execute_simulated(qc+qft.inverse()+m ,shots)\n",
    "print(answers)\n",
    "for key in answers:\n",
    "    print(int(key,2), answers[key])"
   ]
  },
  {
   "cell_type": "markdown",
   "metadata": {},
   "source": [
    "# But the matrix does not match with the standard definitions\n",
    "\n",
    "While the computations are identical, the different ways of storing the data can be very confusing.  It is best to write your implementation using the standard \"textbook\" formats and then go back and optimize the code for Qiskit.  In addition, if you are porting to other platforms, any platform can run the \"textbook\" verions."
   ]
  },
  {
   "cell_type": "code",
   "execution_count": 87,
   "metadata": {},
   "outputs": [
    {
     "data": {
      "text/latex": [
       "\\begin{equation*}\\frac{1}{2\\sqrt{2}}\\begin{pmatrix}1 & 1 & 1 & 1 & 1 & 1 & 1 & 1 \\\\ \n",
       "1 & -1 & i & -i & \\frac{1}{\\sqrt{2}}+\\frac{1}{\\sqrt{2}}i & -\\frac{1}{\\sqrt{2}}-\\frac{1}{\\sqrt{2}}i & -\\frac{1}{\\sqrt{2}}+\\frac{1}{\\sqrt{2}}i & \\frac{1}{\\sqrt{2}}-\\frac{1}{\\sqrt{2}}i \\\\ \n",
       "1 & 1 & -1 & -1 & i & i & -i & -i \\\\ \n",
       "1 & -1 & -i & i & -\\frac{1}{\\sqrt{2}}+\\frac{1}{\\sqrt{2}}i & \\frac{1}{\\sqrt{2}}-\\frac{1}{\\sqrt{2}}i & \\frac{1}{\\sqrt{2}}+\\frac{1}{\\sqrt{2}}i & -\\frac{1}{\\sqrt{2}}-\\frac{1}{\\sqrt{2}}i \\\\ \n",
       "1 & 1 & 1 & 1 & -1 & -1 & -1 & -1 \\\\ \n",
       "1 & -1 & i & -i & -\\frac{1}{\\sqrt{2}}-\\frac{1}{\\sqrt{2}}i & \\frac{1}{\\sqrt{2}}+\\frac{1}{\\sqrt{2}}i & \\frac{1}{\\sqrt{2}}-\\frac{1}{\\sqrt{2}}i & -\\frac{1}{\\sqrt{2}}+\\frac{1}{\\sqrt{2}}i \\\\ \n",
       "1 & 1 & -1 & -1 & -i & -i & i & i \\\\ \n",
       "1 & -1 & -i & i & \\frac{1}{\\sqrt{2}}-\\frac{1}{\\sqrt{2}}i & -\\frac{1}{\\sqrt{2}}+\\frac{1}{\\sqrt{2}}i & -\\frac{1}{\\sqrt{2}}-\\frac{1}{\\sqrt{2}}i & \\frac{1}{\\sqrt{2}}+\\frac{1}{\\sqrt{2}}i \\\\ \n",
       "\\end{pmatrix}\\end{equation*}"
      ],
      "text/plain": [
       "<IPython.core.display.Latex object>"
      ]
     },
     "execution_count": 87,
     "metadata": {},
     "output_type": "execute_result"
    }
   ],
   "source": [
    "qr = QuantumRegister(3)\n",
    "cr = ClassicalRegister(3)\n",
    "qc = QuantumCircuit(qr, cr)\n",
    "\n",
    "qft = textbook_qft_no_swap(qr, cr, 3)\n",
    "\n",
    "qiskit_qft = lq.execute_unitary(qft)\n",
    "Latex(a_to_l(qiskit_qft, normalize=True))"
   ]
  },
  {
   "cell_type": "code",
   "execution_count": null,
   "metadata": {},
   "outputs": [],
   "source": []
  },
  {
   "cell_type": "markdown",
   "metadata": {},
   "source": [
    "# Change the phase by changing the circuit"
   ]
  },
  {
   "cell_type": "code",
   "execution_count": 8,
   "metadata": {},
   "outputs": [],
   "source": [
    "def generate_rotation_circuit(qr, cr, angle):\n",
    "    qc_rotation = QuantumCircuit(qr, cr)\n",
    "    qc_rotation.cu1(angle, qr[2], qr[3])\n",
    "    qc_rotation.cu1(2*angle, qr[1], qr[3])\n",
    "    qc_rotation.cu1(4*angle, qr[0], qr[3])\n",
    "    \n",
    "    return qc_rotation"
   ]
  },
  {
   "cell_type": "code",
   "execution_count": 9,
   "metadata": {},
   "outputs": [
    {
     "data": {
      "text/plain": [
       "<qiskit.circuit.instructionset.InstructionSet at 0x13944a518>"
      ]
     },
     "execution_count": 9,
     "metadata": {},
     "output_type": "execute_result"
    }
   ],
   "source": [
    "qr = QuantumRegister(4)\n",
    "cr = ClassicalRegister(3)\n",
    "qc = QuantumCircuit(qr, cr)\n",
    "\n",
    "qc.h(qr[0])\n",
    "qc.h(qr[1])\n",
    "qc.h(qr[2])\n",
    "qc.x(qr[3])\n",
    "\n",
    "## Just outlining it here, it will be generated below\n",
    "angle = 2*π/4\n",
    "qc_rotation = generate_rotation_circuit(qr, cr, angle)\n",
    "\n",
    "qft_inverse = textbook_qft(qr, cr, 3).inverse()\n",
    "\n",
    "m = QuantumCircuit(qr, cr)\n",
    "m.measure(qr[0], cr[0])\n",
    "m.measure(qr[1], cr[1])\n",
    "m.measure(qr[2], cr[2])"
   ]
  },
  {
   "cell_type": "code",
   "execution_count": 10,
   "metadata": {},
   "outputs": [
    {
     "name": "stdout",
     "output_type": "stream",
     "text": [
      "Reversed: [('000', 1000)]\n",
      "0 1000\n",
      "------------------------\n",
      "Reversed: [('001', 1000)]\n",
      "1 1000\n",
      "------------------------\n",
      "Reversed: [('010', 1000)]\n",
      "2 1000\n",
      "------------------------\n",
      "Reversed: [('011', 1000)]\n",
      "3 1000\n",
      "------------------------\n",
      "Reversed: [('100', 1000)]\n",
      "4 1000\n",
      "------------------------\n",
      "Reversed: [('101', 1000)]\n",
      "5 1000\n",
      "------------------------\n",
      "Reversed: [('110', 1000)]\n",
      "6 1000\n",
      "------------------------\n",
      "Reversed: [('111', 1000)]\n",
      "7 1000\n",
      "------------------------\n"
     ]
    }
   ],
   "source": [
    "shots = 1000\n",
    "for k in range(8):\n",
    "    angle = k*π/4\n",
    "    qc_rotation = generate_rotation_circuit(qr, cr, angle)\n",
    "    answers = lq.execute_simulated(qc+qc_rotation+qft_inverse+m ,shots)\n",
    "    lq.print_reverse_results(answers)\n",
    "    for key in answers:\n",
    "        print(int(key[::-1],2), answers[key])\n",
    "    print('------------------------')"
   ]
  },
  {
   "cell_type": "code",
   "execution_count": null,
   "metadata": {},
   "outputs": [],
   "source": []
  },
  {
   "cell_type": "markdown",
   "metadata": {},
   "source": [
    "# Phase Estimation\n",
    "The circuit will use a single qubit to hold an arbitrary phase. The QFT will map that phase onto only 3 qubits.  Unless the phase is an exact multiple of 1/8, the phase needs to be estimated by looking at the values returned. "
   ]
  },
  {
   "cell_type": "code",
   "execution_count": 12,
   "metadata": {},
   "outputs": [],
   "source": [
    "def combine_results(answers):\n",
    "    combined = 0\n",
    "    total = 0\n",
    "    for key in answers:\n",
    "        val = answers[key]\n",
    "        total = total + val\n",
    "\n",
    "    for key in answers:\n",
    "        val = answers[key]\n",
    "        dec = binary_fraction(key[::-1])\n",
    "        combined = combined + (val/total)*dec\n",
    "    return combined\n",
    "\n",
    "def binary_fraction(binary):\n",
    "    fraction = 0\n",
    "    for k in range(len(binary)):\n",
    "        if binary[k] == '1':\n",
    "            fraction = fraction + 1/(2**(k+1))\n",
    "    return fraction\n",
    "\n",
    "def int_binary_fraction(number, size):\n",
    "    binary_string = '{0:b}'.format(number, size)\n",
    "    return binary_fraction(binary_string.rjust(size, '0'))"
   ]
  },
  {
   "cell_type": "code",
   "execution_count": 20,
   "metadata": {},
   "outputs": [
    {
     "data": {
      "text/plain": [
       "<qiskit.circuit.instructionset.InstructionSet at 0x13960c748>"
      ]
     },
     "execution_count": 20,
     "metadata": {},
     "output_type": "execute_result"
    }
   ],
   "source": [
    "qr = QuantumRegister(4)\n",
    "cr = ClassicalRegister(3)\n",
    "qc = QuantumCircuit(qr, cr)\n",
    "\n",
    "qc.h(qr[0])\n",
    "qc.h(qr[1])\n",
    "qc.h(qr[2])\n",
    "qc.x(qr[3])\n",
    "\n",
    "\n",
    "angle = 5*π/7\n",
    "\n",
    "qc.cu1(angle, qr[2], qr[3])\n",
    "qc.cu1(2*angle, qr[1], qr[3])\n",
    "qc.cu1(4*angle, qr[0], qr[3])\n",
    "\n",
    "\n",
    "\n",
    "qft = textbook_qft(qr, cr, 3)\n",
    "\n",
    "m = QuantumCircuit(qr, cr)\n",
    "m.measure(qr[0], cr[0])\n",
    "m.measure(qr[1], cr[1])\n",
    "m.measure(qr[2], cr[2])\n",
    "\n"
   ]
  },
  {
   "cell_type": "code",
   "execution_count": 21,
   "metadata": {},
   "outputs": [
    {
     "name": "stdout",
     "output_type": "stream",
     "text": [
      "Reversed:QPE: [('000', 1), ('001', 9), ('010', 24), ('011', 938), ('100', 18), ('101', 6), ('110', 3), ('111', 1)]\n",
      "0 1\n",
      "1 9\n",
      "5 6\n",
      "3 938\n",
      "2 24\n",
      "6 3\n",
      "7 1\n",
      "4 18\n",
      "--------------------\n",
      "Estimated Phase: 0.37475\n",
      "Actual: 0.35714285714285715\n",
      "As fraction: 3/8\n",
      "Actual: 5/7\n"
     ]
    }
   ],
   "source": [
    "shots = 1000\n",
    "answers = lq.execute_simulated(qc+qft.inverse()+m ,shots)\n",
    "lq.print_reverse_results(answers, label='QPE')\n",
    "for key in answers:\n",
    "    print(int(key[::-1],2), answers[key])\n",
    "print('--------------------')\n",
    "estimate = combine_results(answers)\n",
    "print('Estimated Phase:', estimate)\n",
    "print('Actual:', angle/(2*π))\n",
    "print('As fraction:', Fraction(estimate).limit_denominator(16))\n",
    "print('Actual:', Fraction(angle/π).limit_denominator(16))"
   ]
  },
  {
   "cell_type": "code",
   "execution_count": 22,
   "metadata": {},
   "outputs": [
    {
     "data": {
      "image/png": "[encoded data removed]",
      "text/plain": [
       "<Figure size 504x360 with 1 Axes>"
      ]
     },
     "execution_count": 22,
     "metadata": {},
     "output_type": "execute_result"
    }
   ],
   "source": [
    "# Note that in Qiskit native, the numbers are \"reversed\"\n",
    "plot_histogram(answers)"
   ]
  },
  {
   "cell_type": "markdown",
   "metadata": {},
   "source": [
    "## Exercise: What does the state look like without performing the inverse QFT"
   ]
  },
  {
   "cell_type": "code",
   "execution_count": 42,
   "metadata": {},
   "outputs": [],
   "source": [
    "shots = 1000\n",
    "answers = lq.execute_simulated(qc+m ,shots)\n",
    "\n"
   ]
  },
  {
   "cell_type": "code",
   "execution_count": 43,
   "metadata": {},
   "outputs": [
    {
     "data": {
      "image/png": "[encoded data removed]",
      "text/plain": [
       "<Figure size 504x360 with 1 Axes>"
      ]
     },
     "execution_count": 43,
     "metadata": {},
     "output_type": "execute_result"
    }
   ],
   "source": [
    "plot_histogram(answers)"
   ]
  },
  {
   "cell_type": "code",
   "execution_count": 44,
   "metadata": {},
   "outputs": [
    {
     "data": {
      "text/latex": [
       "\\begin{equation*} \\vert \\psi\\rangle=\\frac{1}{2\\sqrt{2}} \\vert0001\\rangle-0.2204+0.2764i \\vert0011\\rangle-0.0787-0.3447i \\vert0101\\rangle+0.3185+0.1534i \\vert0111\\rangle-0.3185+0.1534i \\vert1001\\rangle+0.0787-0.3447i \\vert1011\\rangle+0.2204+0.2764i \\vert1101\\rangle-\\frac{1}{2\\sqrt{2}} \\vert1111\\rangle\\end{equation*}"
      ],
      "text/plain": [
       "<IPython.core.display.Latex object>"
      ]
     },
     "execution_count": 44,
     "metadata": {},
     "output_type": "execute_result"
    }
   ],
   "source": [
    "Latex(lq.show_state_vector(qc))"
   ]
  },
  {
   "cell_type": "markdown",
   "metadata": {},
   "source": [
    "## Exercise:  Implement an arbitrary bit precission estimation circuit"
   ]
  },
  {
   "cell_type": "code",
   "execution_count": null,
   "metadata": {},
   "outputs": [],
   "source": []
  }
 ],
 "metadata": {
  "kernelspec": {
   "display_name": "Python 3",
   "language": "python",
   "name": "python3"
  },
  "language_info": {
   "codemirror_mode": {
    "name": "ipython",
    "version": 3
   },
   "file_extension": ".py",
   "mimetype": "text/x-python",
   "name": "python",
   "nbconvert_exporter": "python",
   "pygments_lexer": "ipython3",
   "version": "3.7.2"
  }
 },
 "nbformat": 4,
 "nbformat_minor": 2
}
