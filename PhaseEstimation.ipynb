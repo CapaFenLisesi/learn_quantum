{
 "cells": [
  {
   "cell_type": "markdown",
   "metadata": {},
   "source": [
    "# Quantum Phase Estimation\n",
    "\n",
    "They theory of Quantum Phase Estimation will be covered in the book.  However, there are numerous resources online that cover the theory in detail.  This covers the implementation and notes several pitfals for new programmers -- namely in how various algorithums use slightly different versions of the Quantum Fourier Transformation. Two implementation are demonstrated here, but many more exist.  Which one you use depends on what you are trying to do inside your circuit.  The \"textbook\" definition is easiest for beginers to follow along with, but because of the number of gates used, it is rarely actually used in any of the larger alrogithums. \n",
    "\n",
    "Note that Qiskit stores its matricies in \"reverse\" order, and the learn_quantum library displays them in \"normal\" order so they match up with textbooks and academic papers."
   ]
  },
  {
   "cell_type": "code",
   "execution_count": 1,
   "metadata": {},
   "outputs": [],
   "source": [
    "import numpy as np\n",
    "\n",
    "from math import ceil, sqrt, log2\n",
    "from random import randint\n",
    "\n",
    "from fractions import Fraction\n",
    "\n",
    "from qiskit.visualization import plot_histogram\n",
    "from qiskit import QuantumRegister, ClassicalRegister, QuantumCircuit, execute\n",
    "import learn_quantum as lq\n",
    "from learn_quantum import imag, ket, bra, np_array_to_latex as a_to_l\n",
    "from IPython.display import Latex\n",
    "import numpy as np\n",
    "from numpy import pi, cos, sin, exp, gcd, lcm, pi as π\n",
    "\n",
    "import matplotlib.pyplot as plt"
   ]
  },
  {
   "cell_type": "code",
   "execution_count": 2,
   "metadata": {},
   "outputs": [],
   "source": [
    "def textbook_qft(qr, cr, bit_size):\n",
    "\n",
    "    circuit = QuantumCircuit(qr, cr)\n",
    "    \n",
    "    for j in range(bit_size):\n",
    "        circuit.h(qr[j])\n",
    "        for k in range(1, bit_size-j):\n",
    "            angle = π/(2**k)\n",
    "            circuit.cu1(angle, qr[k+j], qr[j])\n",
    "            \n",
    "    for i in range(bit_size//2):\n",
    "        circuit.swap(qr[i], qr[bit_size-i-1])\n",
    "    \n",
    "    return circuit\n",
    "\n",
    "\n",
    "def textbook_qft_no_swap(qr, cr, n, start_at=0):\n",
    "    circuit = QuantumCircuit(qr, cr)\n",
    "\n",
    "    for j in range(n + start_at):\n",
    "        circuit.h(qr[j])\n",
    "        for k in range(j + 1 + start_at, n + start_at):\n",
    "            circuit.cu1(np.pi/float(2**(k-j)), qr[k], qr[j])\n",
    "    return circuit\n",
    "\n",
    "\n",
    "def signal_qft(qr, cr ,n, start_at=0):\n",
    "    circuit = QuantumCircuit(qr, cr)\n",
    "\n",
    "    for k in range(n + start_at):\n",
    "        j = n - k\n",
    "        circuit.h(qr[j-1])\n",
    "        for i in reversed(range(j-1)):\n",
    "            circuit.cu1(2*np.pi/2**(j-i),qr[i], qr[j-1])\n",
    "\n",
    "    for i in range(n//2):\n",
    "        circuit.swap(qr[i], qr[n-i-1])\n",
    "    return circuit\n",
    "\n",
    "def np_textbook_qft_matrix(size):\n",
    "    if size > 12:\n",
    "        print('Too large.')\n",
    "        return\n",
    "    \n",
    "    qft = np.zeros([2**size, 2**size], dtype=complex)\n",
    "    omega = exp(2*π*lq.imag/(2**size))\n",
    "    for m in range(2**size):\n",
    "        for n in range(2**size):\n",
    "            qft[m, n] = omega**(n*m)\n",
    "    return 1/sqrt(2**size)*qft"
   ]
  },
  {
   "cell_type": "code",
   "execution_count": 3,
   "metadata": {},
   "outputs": [],
   "source": [
    "def input_state(circ, q, value_to_encode, size ):\n",
    "    for bit in range(size):\n",
    "        circ.rz(value_to_encode*float(π)/(2**bit), q[size-1-bit])"
   ]
  },
  {
   "cell_type": "code",
   "execution_count": 4,
   "metadata": {},
   "outputs": [
    {
     "data": {
      "text/plain": [
       "<qiskit.circuit.instructionset.InstructionSet at 0x140340550>"
      ]
     },
     "execution_count": 4,
     "metadata": {},
     "output_type": "execute_result"
    }
   ],
   "source": [
    "size = 3\n",
    "value_to_encode = 2\n",
    "\n",
    "q = QuantumRegister(size)\n",
    "c = ClassicalRegister(size)\n",
    "\n",
    "initial_qft = QuantumCircuit(q, c)\n",
    "initial_qft.h(q)\n",
    "\n",
    "signal = QuantumCircuit(q, c)\n",
    "input_state(signal, q, value_to_encode, size)\n",
    "\n",
    "inverse_qft = signal_qft(q, c, size).inverse()\n",
    "\n",
    "m = QuantumCircuit(q, c)\n",
    "m.measure(q,c)\n",
    "\n"
   ]
  },
  {
   "cell_type": "code",
   "execution_count": 5,
   "metadata": {},
   "outputs": [
    {
     "name": "stdout",
     "output_type": "stream",
     "text": [
      "Reversed:Direct Signal: [('010', 1000)]\n",
      "2\n"
     ]
    }
   ],
   "source": [
    "shots = 1000\n",
    "answers = lq.execute_simulated(initial_qft + signal + inverse_qft + m ,shots)\n",
    "lq.print_reverse_results(answers, label='Direct Signal')\n",
    "for key in answers:\n",
    "    print(int(key,2))"
   ]
  },
  {
   "cell_type": "code",
   "execution_count": 6,
   "metadata": {},
   "outputs": [
    {
     "data": {
      "image/png": "[encoded data removed]",
      "text/plain": [
       "<Figure size 889.756x264.88 with 1 Axes>"
      ]
     },
     "execution_count": 6,
     "metadata": {},
     "output_type": "execute_result"
    }
   ],
   "source": [
    "(initial_qft + signal + inverse_qft + m).draw(output='mpl')"
   ]
  },
  {
   "cell_type": "code",
   "execution_count": 7,
   "metadata": {},
   "outputs": [
    {
     "data": {
      "image/png": "[encoded data removed]",
      "text/plain": [
       "<Figure size 588.756x264.88 with 1 Axes>"
      ]
     },
     "execution_count": 7,
     "metadata": {},
     "output_type": "execute_result"
    }
   ],
   "source": [
    "(inverse_qft).draw(output='mpl')"
   ]
  },
  {
   "cell_type": "markdown",
   "metadata": {},
   "source": [
    "# Generate a Standard QFT and compare it to the textbook definition"
   ]
  },
  {
   "cell_type": "code",
   "execution_count": 8,
   "metadata": {},
   "outputs": [
    {
     "data": {
      "text/latex": [
       "\\begin{equation*}\\frac{1}{2}\\begin{pmatrix}1 & 1 & 1 & 1 \\\\ \n",
       "1 & e^{\\frac{\\pi}{2} i} & e^{\\pi i} & e^{\\frac{3\\pi}{2} i} \\\\ \n",
       "1 & e^{\\pi i} & 1 & e^{\\pi i} \\\\ \n",
       "1 & e^{\\frac{3\\pi}{2} i} & e^{\\pi i} & e^{\\frac{\\pi}{2} i} \\\\ \n",
       "\\end{pmatrix}\\end{equation*}"
      ],
      "text/plain": [
       "<IPython.core.display.Latex object>"
      ]
     },
     "metadata": {},
     "output_type": "display_data"
    }
   ],
   "source": [
    "size=2\n",
    "q2= QuantumRegister(size)\n",
    "c2 = ClassicalRegister(size)\n",
    "\n",
    "s_qft = textbook_qft(q2, c2, size)\n",
    "\n",
    "lq.show_me_the_matrix(s_qft, normalize=True, display_exp=True)"
   ]
  },
  {
   "cell_type": "code",
   "execution_count": 9,
   "metadata": {},
   "outputs": [
    {
     "data": {
      "text/latex": [
       "\\begin{equation*}\\frac{1}{2}\\begin{pmatrix}1 & 1 & 1 & 1 \\\\ \n",
       "1 & e^{\\frac{\\pi}{2} i} & e^{\\pi i} & e^{\\frac{3\\pi}{2} i} \\\\ \n",
       "1 & e^{\\pi i} & 1 & e^{\\pi i} \\\\ \n",
       "1 & e^{\\frac{3\\pi}{2} i} & e^{\\pi i} & e^{\\frac{\\pi}{2} i} \\\\ \n",
       "\\end{pmatrix}\\end{equation*}"
      ],
      "text/plain": [
       "<IPython.core.display.Latex object>"
      ]
     },
     "execution_count": 9,
     "metadata": {},
     "output_type": "execute_result"
    }
   ],
   "source": [
    "Latex(a_to_l(np_textbook_qft_matrix(2), display_exp=True))"
   ]
  },
  {
   "cell_type": "code",
   "execution_count": 10,
   "metadata": {},
   "outputs": [
    {
     "data": {
      "text/latex": [
       "\\begin{equation*}\\frac{1}{2}\\begin{pmatrix}1 & 1 & 1 & 1 \\\\ \n",
       "1 & \\omega^{1} & \\omega^{2} & \\omega^{3} \\\\ \n",
       "1 & \\omega^{2} & 1 & \\omega^{2} \\\\ \n",
       "1 & \\omega^{3} & \\omega^{2} & \\omega^{1} \\\\ \n",
       "\\end{pmatrix}\\end{equation*}"
      ],
      "text/plain": [
       "<IPython.core.display.Latex object>"
      ]
     },
     "metadata": {},
     "output_type": "display_data"
    }
   ],
   "source": [
    "lq.show_me_the_matrix(s_qft, normalize=True, display_omega=True)"
   ]
  },
  {
   "cell_type": "code",
   "execution_count": 22,
   "metadata": {},
   "outputs": [
    {
     "data": {
      "text/latex": [
       "\\begin{equation*}\\frac{1}{2\\sqrt{2}}\\begin{pmatrix}1 & 1 & 1 & 1 & 1 & 1 & 1 & 1 \\\\ \n",
       "1 & e^{\\frac{\\pi}{4} i} & e^{\\frac{\\pi}{2} i} & e^{\\frac{3\\pi}{4} i} & e^{\\pi i} & e^{\\frac{5\\pi}{4} i} & e^{\\frac{3\\pi}{2} i} & e^{\\frac{7\\pi}{4} i} \\\\ \n",
       "1 & e^{\\frac{\\pi}{2} i} & e^{\\pi i} & e^{\\frac{3\\pi}{2} i} & 1 & e^{\\frac{\\pi}{2} i} & e^{\\pi i} & e^{\\frac{3\\pi}{2} i} \\\\ \n",
       "1 & e^{\\frac{3\\pi}{4} i} & e^{\\frac{3\\pi}{2} i} & e^{\\frac{\\pi}{4} i} & e^{\\pi i} & e^{\\frac{7\\pi}{4} i} & e^{\\frac{\\pi}{2} i} & e^{\\frac{5\\pi}{4} i} \\\\ \n",
       "1 & e^{\\pi i} & 1 & e^{\\pi i} & 1 & e^{\\pi i} & 1 & e^{\\pi i} \\\\ \n",
       "1 & e^{\\frac{5\\pi}{4} i} & e^{\\frac{\\pi}{2} i} & e^{\\frac{7\\pi}{4} i} & e^{\\pi i} & e^{\\frac{\\pi}{4} i} & e^{\\frac{3\\pi}{2} i} & e^{\\frac{3\\pi}{4} i} \\\\ \n",
       "1 & e^{\\frac{3\\pi}{2} i} & e^{\\pi i} & e^{\\frac{\\pi}{2} i} & 1 & e^{\\frac{3\\pi}{2} i} & e^{\\pi i} & e^{\\frac{\\pi}{2} i} \\\\ \n",
       "1 & e^{\\frac{7\\pi}{4} i} & e^{\\frac{3\\pi}{2} i} & e^{\\frac{5\\pi}{4} i} & e^{\\pi i} & e^{\\frac{3\\pi}{4} i} & e^{\\frac{\\pi}{2} i} & e^{\\frac{\\pi}{4} i} \\\\ \n",
       "\\end{pmatrix}\\end{equation*}"
      ],
      "text/plain": [
       "<IPython.core.display.Latex object>"
      ]
     },
     "execution_count": 22,
     "metadata": {},
     "output_type": "execute_result"
    }
   ],
   "source": [
    "Latex(a_to_l(np_textbook_qft_matrix(3), normalize=True, display_exp=True))"
   ]
  },
  {
   "cell_type": "code",
   "execution_count": 12,
   "metadata": {},
   "outputs": [
    {
     "data": {
      "text/latex": [
       "\\begin{equation*}\\frac{1}{2\\sqrt{2}}\\begin{pmatrix}1 & 1 & 1 & 1 & 1 & 1 & 1 & 1 \\\\ \n",
       "1 & e^{\\frac{\\pi}{4} i} & e^{\\frac{\\pi}{2} i} & e^{\\frac{3\\pi}{4} i} & e^{\\pi i} & e^{\\frac{5\\pi}{4} i} & e^{\\frac{3\\pi}{2} i} & e^{\\frac{7\\pi}{4} i} \\\\ \n",
       "1 & e^{\\frac{\\pi}{2} i} & e^{\\pi i} & e^{\\frac{3\\pi}{2} i} & 1 & e^{\\frac{\\pi}{2} i} & e^{\\pi i} & e^{\\frac{3\\pi}{2} i} \\\\ \n",
       "1 & e^{\\frac{3\\pi}{4} i} & e^{\\frac{3\\pi}{2} i} & e^{\\frac{\\pi}{4} i} & e^{\\pi i} & e^{\\frac{7\\pi}{4} i} & e^{\\frac{\\pi}{2} i} & e^{\\frac{5\\pi}{4} i} \\\\ \n",
       "1 & e^{\\pi i} & 1 & e^{\\pi i} & 1 & e^{\\pi i} & 1 & e^{\\pi i} \\\\ \n",
       "1 & e^{\\frac{5\\pi}{4} i} & e^{\\frac{\\pi}{2} i} & e^{\\frac{7\\pi}{4} i} & e^{\\pi i} & e^{\\frac{\\pi}{4} i} & e^{\\frac{3\\pi}{2} i} & e^{\\frac{3\\pi}{4} i} \\\\ \n",
       "1 & e^{\\frac{3\\pi}{2} i} & e^{\\pi i} & e^{\\frac{\\pi}{2} i} & 1 & e^{\\frac{3\\pi}{2} i} & e^{\\pi i} & e^{\\frac{\\pi}{2} i} \\\\ \n",
       "1 & e^{\\frac{7\\pi}{4} i} & e^{\\frac{3\\pi}{2} i} & e^{\\frac{5\\pi}{4} i} & e^{\\pi i} & e^{\\frac{3\\pi}{4} i} & e^{\\frac{\\pi}{2} i} & e^{\\frac{\\pi}{4} i} \\\\ \n",
       "\\end{pmatrix}\\end{equation*}"
      ],
      "text/plain": [
       "<IPython.core.display.Latex object>"
      ]
     },
     "metadata": {},
     "output_type": "display_data"
    }
   ],
   "source": [
    "size=3\n",
    "q2= QuantumRegister(size)\n",
    "c2 = ClassicalRegister(size)\n",
    "\n",
    "s_qft = textbook_qft(q2, c2, size)\n",
    "\n",
    "lq.show_me_the_matrix(s_qft, normalize=True, display_exp=True)"
   ]
  },
  {
   "cell_type": "code",
   "execution_count": 13,
   "metadata": {},
   "outputs": [
    {
     "data": {
      "text/latex": [
       "\\begin{equation*}\\frac{1}{2\\sqrt{2}}\\begin{pmatrix}1 & 1 & 1 & 1 & 1 & 1 & 1 & 1 \\\\ \n",
       "1 & \\omega^{1} & \\omega^{2} & \\omega^{3} & \\omega^{4} & \\omega^{5} & \\omega^{6} & \\omega^{7} \\\\ \n",
       "1 & \\omega^{2} & \\omega^{4} & \\omega^{6} & 1 & \\omega^{2} & \\omega^{4} & \\omega^{6} \\\\ \n",
       "1 & \\omega^{3} & \\omega^{6} & \\omega^{1} & \\omega^{4} & \\omega^{7} & \\omega^{2} & \\omega^{5} \\\\ \n",
       "1 & \\omega^{4} & 1 & \\omega^{4} & 1 & \\omega^{4} & 1 & \\omega^{4} \\\\ \n",
       "1 & \\omega^{5} & \\omega^{2} & \\omega^{7} & \\omega^{4} & \\omega^{1} & \\omega^{6} & \\omega^{3} \\\\ \n",
       "1 & \\omega^{6} & \\omega^{4} & \\omega^{2} & 1 & \\omega^{6} & \\omega^{4} & \\omega^{2} \\\\ \n",
       "1 & \\omega^{7} & \\omega^{6} & \\omega^{5} & \\omega^{4} & \\omega^{3} & \\omega^{2} & \\omega^{1} \\\\ \n",
       "\\end{pmatrix}\\end{equation*}"
      ],
      "text/plain": [
       "<IPython.core.display.Latex object>"
      ]
     },
     "metadata": {},
     "output_type": "display_data"
    }
   ],
   "source": [
    "lq.show_me_the_matrix(s_qft, normalize=True, display_omega=True)"
   ]
  },
  {
   "cell_type": "code",
   "execution_count": 18,
   "metadata": {},
   "outputs": [
    {
     "data": {
      "text/latex": [
       "\\begin{equation*}\\frac{1}{4}\\begin{pmatrix}1 & 1 & 1 & 1 & 1 & 1 & 1 & 1 & 1 & 1 & 1 & 1 & 1 & 1 & 1 & 1 \\\\ \n",
       "1 & \\omega^{1} & \\omega^{2} & \\omega^{3} & \\omega^{4} & \\omega^{5} & \\omega^{6} & \\omega^{7} & \\omega^{8} & \\omega^{9} & \\omega^{10} & \\omega^{11} & \\omega^{12} & \\omega^{13} & \\omega^{14} & \\omega^{15} \\\\ \n",
       "1 & \\omega^{2} & \\omega^{4} & \\omega^{6} & \\omega^{8} & \\omega^{10} & \\omega^{12} & \\omega^{14} & 1 & \\omega^{2} & \\omega^{4} & \\omega^{6} & \\omega^{8} & \\omega^{10} & \\omega^{12} & \\omega^{14} \\\\ \n",
       "1 & \\omega^{3} & \\omega^{6} & \\omega^{9} & \\omega^{12} & \\omega^{15} & \\omega^{2} & \\omega^{5} & \\omega^{8} & \\omega^{11} & \\omega^{14} & \\omega^{1} & \\omega^{4} & \\omega^{7} & \\omega^{10} & \\omega^{13} \\\\ \n",
       "1 & \\omega^{4} & \\omega^{8} & \\omega^{12} & 1 & \\omega^{4} & \\omega^{8} & \\omega^{12} & 1 & \\omega^{4} & \\omega^{8} & \\omega^{12} & 1 & \\omega^{4} & \\omega^{8} & \\omega^{12} \\\\ \n",
       "1 & \\omega^{5} & \\omega^{10} & \\omega^{15} & \\omega^{4} & \\omega^{9} & \\omega^{14} & \\omega^{3} & \\omega^{8} & \\omega^{13} & \\omega^{2} & \\omega^{7} & \\omega^{12} & \\omega^{1} & \\omega^{6} & \\omega^{11} \\\\ \n",
       "1 & \\omega^{6} & \\omega^{12} & \\omega^{2} & \\omega^{8} & \\omega^{14} & \\omega^{4} & \\omega^{10} & 1 & \\omega^{6} & \\omega^{12} & \\omega^{2} & \\omega^{8} & \\omega^{14} & \\omega^{4} & \\omega^{10} \\\\ \n",
       "1 & \\omega^{7} & \\omega^{14} & \\omega^{5} & \\omega^{12} & \\omega^{3} & \\omega^{10} & \\omega^{1} & \\omega^{8} & \\omega^{15} & \\omega^{6} & \\omega^{13} & \\omega^{4} & \\omega^{11} & \\omega^{2} & \\omega^{9} \\\\ \n",
       "1 & \\omega^{8} & 1 & \\omega^{8} & 1 & \\omega^{8} & 1 & \\omega^{8} & 1 & \\omega^{8} & 1 & \\omega^{8} & 1 & \\omega^{8} & 1 & \\omega^{8} \\\\ \n",
       "1 & \\omega^{9} & \\omega^{2} & \\omega^{11} & \\omega^{4} & \\omega^{13} & \\omega^{6} & \\omega^{15} & \\omega^{8} & \\omega^{1} & \\omega^{10} & \\omega^{3} & \\omega^{12} & \\omega^{5} & \\omega^{14} & \\omega^{7} \\\\ \n",
       "1 & \\omega^{10} & \\omega^{4} & \\omega^{14} & \\omega^{8} & \\omega^{2} & \\omega^{12} & \\omega^{6} & 1 & \\omega^{10} & \\omega^{4} & \\omega^{14} & \\omega^{8} & \\omega^{2} & \\omega^{12} & \\omega^{6} \\\\ \n",
       "1 & \\omega^{11} & \\omega^{6} & \\omega^{1} & \\omega^{12} & \\omega^{7} & \\omega^{2} & \\omega^{13} & \\omega^{8} & \\omega^{3} & \\omega^{14} & \\omega^{9} & \\omega^{4} & \\omega^{15} & \\omega^{10} & \\omega^{5} \\\\ \n",
       "1 & \\omega^{12} & \\omega^{8} & \\omega^{4} & 1 & \\omega^{12} & \\omega^{8} & \\omega^{4} & 1 & \\omega^{12} & \\omega^{8} & \\omega^{4} & 1 & \\omega^{12} & \\omega^{8} & \\omega^{4} \\\\ \n",
       "1 & \\omega^{13} & \\omega^{10} & \\omega^{7} & \\omega^{4} & \\omega^{1} & \\omega^{14} & \\omega^{11} & \\omega^{8} & \\omega^{5} & \\omega^{2} & \\omega^{15} & \\omega^{12} & \\omega^{9} & \\omega^{6} & \\omega^{3} \\\\ \n",
       "1 & \\omega^{14} & \\omega^{12} & \\omega^{10} & \\omega^{8} & \\omega^{6} & \\omega^{4} & \\omega^{2} & 1 & \\omega^{14} & \\omega^{12} & \\omega^{10} & \\omega^{8} & \\omega^{6} & \\omega^{4} & \\omega^{2} \\\\ \n",
       "1 & \\omega^{15} & \\omega^{14} & \\omega^{13} & \\omega^{12} & \\omega^{11} & \\omega^{10} & \\omega^{9} & \\omega^{8} & \\omega^{7} & \\omega^{6} & \\omega^{5} & \\omega^{4} & \\omega^{3} & \\omega^{2} & \\omega^{1} \\\\ \n",
       "\\end{pmatrix}\\end{equation*}"
      ],
      "text/plain": [
       "<IPython.core.display.Latex object>"
      ]
     },
     "execution_count": 18,
     "metadata": {},
     "output_type": "execute_result"
    }
   ],
   "source": [
    "Latex(lq.np_array_to_latex(np_textbook_qft_matrix(4), normalize=True, display_omega=True))"
   ]
  },
  {
   "cell_type": "code",
   "execution_count": 22,
   "metadata": {},
   "outputs": [
    {
     "data": {
      "text/latex": [
       "\\begin{equation*}\\frac{1}{4}\\begin{pmatrix}1 & 1 & 1 & 1 & 1 & 1 & 1 & 1 & 1 & 1 & 1 & 1 & 1 & 1 & 1 & 1 \\\\ \n",
       "1 & \\omega^{1} & \\omega^{2} & \\omega^{3} & \\omega^{4} & \\omega^{5} & \\omega^{6} & \\omega^{7} & \\omega^{8} & \\omega^{9} & \\omega^{10} & \\omega^{11} & \\omega^{12} & \\omega^{13} & \\omega^{14} & \\omega^{15} \\\\ \n",
       "1 & \\omega^{2} & \\omega^{4} & \\omega^{6} & \\omega^{8} & \\omega^{10} & \\omega^{12} & \\omega^{14} & 1 & \\omega^{2} & \\omega^{4} & \\omega^{6} & \\omega^{8} & \\omega^{10} & \\omega^{12} & \\omega^{14} \\\\ \n",
       "1 & \\omega^{3} & \\omega^{6} & \\omega^{9} & \\omega^{12} & \\omega^{15} & \\omega^{2} & \\omega^{5} & \\omega^{8} & \\omega^{11} & \\omega^{14} & \\omega^{1} & \\omega^{4} & \\omega^{7} & \\omega^{10} & \\omega^{13} \\\\ \n",
       "1 & \\omega^{4} & \\omega^{8} & \\omega^{12} & 1 & \\omega^{4} & \\omega^{8} & \\omega^{12} & 1 & \\omega^{4} & \\omega^{8} & \\omega^{12} & 1 & \\omega^{4} & \\omega^{8} & \\omega^{12} \\\\ \n",
       "1 & \\omega^{5} & \\omega^{10} & \\omega^{15} & \\omega^{4} & \\omega^{9} & \\omega^{14} & \\omega^{3} & \\omega^{8} & \\omega^{13} & \\omega^{2} & \\omega^{7} & \\omega^{12} & \\omega^{1} & \\omega^{6} & \\omega^{11} \\\\ \n",
       "1 & \\omega^{6} & \\omega^{12} & \\omega^{2} & \\omega^{8} & \\omega^{14} & \\omega^{4} & \\omega^{10} & 1 & \\omega^{6} & \\omega^{12} & \\omega^{2} & \\omega^{8} & \\omega^{14} & \\omega^{4} & \\omega^{10} \\\\ \n",
       "1 & \\omega^{7} & \\omega^{14} & \\omega^{5} & \\omega^{12} & \\omega^{3} & \\omega^{10} & \\omega^{1} & \\omega^{8} & \\omega^{15} & \\omega^{6} & \\omega^{13} & \\omega^{4} & \\omega^{11} & \\omega^{2} & \\omega^{9} \\\\ \n",
       "1 & \\omega^{8} & 1 & \\omega^{8} & 1 & \\omega^{8} & 1 & \\omega^{8} & 1 & \\omega^{8} & 1 & \\omega^{8} & 1 & \\omega^{8} & 1 & \\omega^{8} \\\\ \n",
       "1 & \\omega^{9} & \\omega^{2} & \\omega^{11} & \\omega^{4} & \\omega^{13} & \\omega^{6} & \\omega^{15} & \\omega^{8} & \\omega^{1} & \\omega^{10} & \\omega^{3} & \\omega^{12} & \\omega^{5} & \\omega^{14} & \\omega^{7} \\\\ \n",
       "1 & \\omega^{10} & \\omega^{4} & \\omega^{14} & \\omega^{8} & \\omega^{2} & \\omega^{12} & \\omega^{6} & 1 & \\omega^{10} & \\omega^{4} & \\omega^{14} & \\omega^{8} & \\omega^{2} & \\omega^{12} & \\omega^{6} \\\\ \n",
       "1 & \\omega^{11} & \\omega^{6} & \\omega^{1} & \\omega^{12} & \\omega^{7} & \\omega^{2} & \\omega^{13} & \\omega^{8} & \\omega^{3} & \\omega^{14} & \\omega^{9} & \\omega^{4} & \\omega^{15} & \\omega^{10} & \\omega^{5} \\\\ \n",
       "1 & \\omega^{12} & \\omega^{8} & \\omega^{4} & 1 & \\omega^{12} & \\omega^{8} & \\omega^{4} & 1 & \\omega^{12} & \\omega^{8} & \\omega^{4} & 1 & \\omega^{12} & \\omega^{8} & \\omega^{4} \\\\ \n",
       "1 & \\omega^{13} & \\omega^{10} & \\omega^{7} & \\omega^{4} & \\omega^{1} & \\omega^{14} & \\omega^{11} & \\omega^{8} & \\omega^{5} & \\omega^{2} & \\omega^{15} & \\omega^{12} & \\omega^{9} & \\omega^{6} & \\omega^{3} \\\\ \n",
       "1 & \\omega^{14} & \\omega^{12} & \\omega^{10} & \\omega^{8} & \\omega^{6} & \\omega^{4} & \\omega^{2} & 1 & \\omega^{14} & \\omega^{12} & \\omega^{10} & \\omega^{8} & \\omega^{6} & \\omega^{4} & \\omega^{2} \\\\ \n",
       "1 & \\omega^{15} & \\omega^{14} & \\omega^{13} & \\omega^{12} & \\omega^{11} & \\omega^{10} & \\omega^{9} & \\omega^{8} & \\omega^{7} & \\omega^{6} & \\omega^{5} & \\omega^{4} & \\omega^{3} & \\omega^{2} & \\omega^{1} \\\\ \n",
       "\\end{pmatrix}\\end{equation*}"
      ],
      "text/plain": [
       "<IPython.core.display.Latex object>"
      ]
     },
     "metadata": {},
     "output_type": "display_data"
    }
   ],
   "source": [
    "size=4\n",
    "q2= QuantumRegister(size)\n",
    "c2 = ClassicalRegister(size)\n",
    "\n",
    "s_qft = textbook_qft(q2, c2, size)\n",
    "\n",
    "lq.show_me_the_matrix(s_qft, normalize=True, display_omega=True)"
   ]
  },
  {
   "cell_type": "markdown",
   "metadata": {},
   "source": [
    "Verify that the \"signal\" QFT tranformation is different, although with the proper circuit it can achieve the same type of result."
   ]
  },
  {
   "cell_type": "code",
   "execution_count": 27,
   "metadata": {},
   "outputs": [
    {
     "data": {
      "text/latex": [
       "\\begin{equation*}\\frac{1}{2\\sqrt{2}}\\begin{pmatrix}1 & 1 & 1 & 1 & 1 & 1 & 1 & 1 \\\\ \n",
       "1 & 1 & 1 & 1 & e^{\\pi i} & e^{\\pi i} & e^{\\pi i} & e^{\\pi i} \\\\ \n",
       "1 & 1 & e^{\\pi i} & e^{\\pi i} & e^{\\frac{\\pi}{2} i} & e^{\\frac{\\pi}{2} i} & e^{\\frac{3\\pi}{2} i} & e^{\\frac{3\\pi}{2} i} \\\\ \n",
       "1 & 1 & e^{\\pi i} & e^{\\pi i} & e^{\\frac{3\\pi}{2} i} & e^{\\frac{3\\pi}{2} i} & e^{\\frac{\\pi}{2} i} & e^{\\frac{\\pi}{2} i} \\\\ \n",
       "1 & e^{\\pi i} & e^{\\frac{\\pi}{2} i} & e^{\\frac{3\\pi}{2} i} & e^{\\frac{\\pi}{4} i} & e^{\\frac{5\\pi}{4} i} & e^{\\frac{3\\pi}{4} i} & e^{\\frac{7\\pi}{4} i} \\\\ \n",
       "1 & e^{\\pi i} & e^{\\frac{\\pi}{2} i} & e^{\\frac{3\\pi}{2} i} & e^{\\frac{5\\pi}{4} i} & e^{\\frac{\\pi}{4} i} & e^{\\frac{7\\pi}{4} i} & e^{\\frac{3\\pi}{4} i} \\\\ \n",
       "1 & e^{\\pi i} & e^{\\frac{3\\pi}{2} i} & e^{\\frac{\\pi}{2} i} & e^{\\frac{3\\pi}{4} i} & e^{\\frac{7\\pi}{4} i} & e^{\\frac{\\pi}{4} i} & e^{\\frac{5\\pi}{4} i} \\\\ \n",
       "1 & e^{\\pi i} & e^{\\frac{3\\pi}{2} i} & e^{\\frac{\\pi}{2} i} & e^{\\frac{7\\pi}{4} i} & e^{\\frac{3\\pi}{4} i} & e^{\\frac{5\\pi}{4} i} & e^{\\frac{\\pi}{4} i} \\\\ \n",
       "\\end{pmatrix}\\end{equation*}"
      ],
      "text/plain": [
       "<IPython.core.display.Latex object>"
      ]
     },
     "metadata": {},
     "output_type": "display_data"
    }
   ],
   "source": [
    "N=3\n",
    "q2= QuantumRegister(3)\n",
    "c2 = ClassicalRegister(3)\n",
    "\n",
    "s_qft = signal_qft(q2, c2, N)\n",
    "\n",
    "lq.show_me_the_matrix(s_qft, normalize=True, display_exp=True)"
   ]
  },
  {
   "cell_type": "code",
   "execution_count": null,
   "metadata": {},
   "outputs": [],
   "source": []
  },
  {
   "cell_type": "markdown",
   "metadata": {},
   "source": [
    "# QFT applied to the Zero state is the same as applying Hadamards\n",
    "Because the Quantum Circuit is initialized in the '0000...' state, applying a QFT to that state is the same as applying exclusively Hadamards.  You can see this from the above matricies, but we verify it below. \n",
    "\n",
    "As such, the initial applications of Hadamards is really a \"QFT\" -- which is why it was labeled as such above.  Thus, you perform a \"QFT\" on the zero state, then apply a signal, then apply a inverse QFT.  To save on gate counts, this is the same as applying Hadamards to all the initial states, then the signal then the inverse QFT."
   ]
  },
  {
   "cell_type": "code",
   "execution_count": 28,
   "metadata": {},
   "outputs": [
    {
     "data": {
      "text/latex": [
       "\\begin{equation*}\\frac{1}{2\\sqrt{2}}\\begin{pmatrix}1 \\\\ \n",
       "1 \\\\ \n",
       "1 \\\\ \n",
       "1 \\\\ \n",
       "1 \\\\ \n",
       "1 \\\\ \n",
       "1 \\\\ \n",
       "1 \\\\ \n",
       "\\end{pmatrix}\\end{equation*}"
      ],
      "text/plain": [
       "<IPython.core.display.Latex object>"
      ]
     },
     "execution_count": 28,
     "metadata": {},
     "output_type": "execute_result"
    }
   ],
   "source": [
    "Latex(a_to_l(np_textbook_qft_matrix(3)@ket('000')))"
   ]
  },
  {
   "cell_type": "code",
   "execution_count": 29,
   "metadata": {},
   "outputs": [
    {
     "data": {
      "text/plain": [
       "<qiskit.circuit.instructionset.InstructionSet at 0x144a8d128>"
      ]
     },
     "execution_count": 29,
     "metadata": {},
     "output_type": "execute_result"
    }
   ],
   "source": [
    "qr = QuantumRegister(3)\n",
    "cr = ClassicalRegister(3)\n",
    "qc = QuantumCircuit(qr, cr)\n",
    "qc.h(qr)\n"
   ]
  },
  {
   "cell_type": "code",
   "execution_count": 30,
   "metadata": {},
   "outputs": [],
   "source": [
    "hadamard_qft = lq.what_is_the_matrix(qc)"
   ]
  },
  {
   "cell_type": "code",
   "execution_count": 31,
   "metadata": {},
   "outputs": [
    {
     "data": {
      "text/latex": [
       "\\begin{equation*}\\frac{1}{2\\sqrt{2}}\\begin{pmatrix}1 & 1 & 1 & 1 & 1 & 1 & 1 & 1 \\\\ \n",
       "1 & -1 & 1 & -1 & 1 & -1 & 1 & -1 \\\\ \n",
       "1 & 1 & -1 & -1 & 1 & 1 & -1 & -1 \\\\ \n",
       "1 & -1 & -1 & 1 & 1 & -1 & -1 & 1 \\\\ \n",
       "1 & 1 & 1 & 1 & -1 & -1 & -1 & -1 \\\\ \n",
       "1 & -1 & 1 & -1 & -1 & 1 & -1 & 1 \\\\ \n",
       "1 & 1 & -1 & -1 & -1 & -1 & 1 & 1 \\\\ \n",
       "1 & -1 & -1 & 1 & -1 & 1 & 1 & -1 \\\\ \n",
       "\\end{pmatrix}\\end{equation*}"
      ],
      "text/plain": [
       "<IPython.core.display.Latex object>"
      ]
     },
     "execution_count": 31,
     "metadata": {},
     "output_type": "execute_result"
    }
   ],
   "source": [
    "Latex(a_to_l(hadamard_qft))"
   ]
  },
  {
   "cell_type": "code",
   "execution_count": 32,
   "metadata": {},
   "outputs": [
    {
     "data": {
      "text/latex": [
       "\\begin{equation*}\\frac{1}{2\\sqrt{2}}\\begin{pmatrix}1 \\\\ \n",
       "1 \\\\ \n",
       "1 \\\\ \n",
       "1 \\\\ \n",
       "1 \\\\ \n",
       "1 \\\\ \n",
       "1 \\\\ \n",
       "1 \\\\ \n",
       "\\end{pmatrix}\\end{equation*}"
      ],
      "text/plain": [
       "<IPython.core.display.Latex object>"
      ]
     },
     "execution_count": 32,
     "metadata": {},
     "output_type": "execute_result"
    }
   ],
   "source": [
    "Latex(a_to_l(hadamard_qft@ket('000')))"
   ]
  },
  {
   "cell_type": "markdown",
   "metadata": {},
   "source": [
    "## Exercise: Verify that applying the full \"QFT\" circuit to the inital state acheives identical results"
   ]
  },
  {
   "cell_type": "code",
   "execution_count": 33,
   "metadata": {},
   "outputs": [
    {
     "data": {
      "text/plain": [
       "<qiskit.circuit.instructionset.InstructionSet at 0x1441bc7f0>"
      ]
     },
     "execution_count": 33,
     "metadata": {},
     "output_type": "execute_result"
    }
   ],
   "source": [
    "size = 3\n",
    "value_to_encode = 3\n",
    "\n",
    "q = QuantumRegister(size)\n",
    "c = ClassicalRegister(size)\n",
    "\n",
    "#You can use either textbook or signal, result is the same\n",
    "initial_qft = textbook_qft(q, c, size) \n",
    "\n",
    "signal = QuantumCircuit(q, c)\n",
    "input_state(signal, q, value_to_encode, size)\n",
    "\n",
    "inverse_qft = signal_qft(q, c, size).inverse()\n",
    "\n",
    "m = QuantumCircuit(q, c)\n",
    "m.measure(q,c)"
   ]
  },
  {
   "cell_type": "code",
   "execution_count": 34,
   "metadata": {},
   "outputs": [
    {
     "name": "stdout",
     "output_type": "stream",
     "text": [
      "Reversed:Direct Signal: [('110', 1000)]\n",
      "3\n"
     ]
    }
   ],
   "source": [
    "shots = 1000\n",
    "answers = lq.execute_simulated(initial_qft + signal + inverse_qft + m ,shots)\n",
    "lq.print_reverse_results(answers, label='Direct Signal')\n",
    "for key in answers:\n",
    "    print(int(key,2))"
   ]
  },
  {
   "cell_type": "code",
   "execution_count": 35,
   "metadata": {},
   "outputs": [
    {
     "data": {
      "image/png": "[encoded data removed]",
      "text/plain": [
       "<Figure size 1261.79x264.88 with 1 Axes>"
      ]
     },
     "execution_count": 35,
     "metadata": {},
     "output_type": "execute_result"
    }
   ],
   "source": [
    "(initial_qft + signal + inverse_qft + m).draw(output='mpl')"
   ]
  },
  {
   "cell_type": "markdown",
   "metadata": {},
   "source": [
    "## Exercise:  Implement a smaller circuit by removing the swap gates\n",
    "\n",
    "In many implementations of Shor's algorithum, a simplified QFT type operation is used to reduce the gate counts.  Swap gates are decomposed to three control-not gates which are \"expensive\" gates.  Rewrite the code to remove the swap gates.  There are different ways to do this, but you want a circuit that has has few gates as possible.  So, of course, use the Hadamards as QFT on the zero state."
   ]
  },
  {
   "cell_type": "code",
   "execution_count": null,
   "metadata": {},
   "outputs": [],
   "source": [
    "# You can either re-implement this function or put all the logic into the QFT.\n",
    "# These functions should be substantially similar to the originals in size and complexity. \n",
    "# If you have a 10 line fucntion, you have taken a wrong turn.\n",
    "\n",
    "def input_no_swap(signal_no_swap, q, value_to_encode, size):\n",
    "    # TODO: Your code\n",
    "    \n",
    "    \n",
    "def signal_qft_no_swap(q, c, size):\n",
    "    #TODO: Your code\n",
    "    \n",
    "    "
   ]
  },
  {
   "cell_type": "code",
   "execution_count": null,
   "metadata": {},
   "outputs": [],
   "source": [
    "size = 3\n",
    "value_to_encode = 3\n",
    "\n",
    "q = QuantumRegister(size)\n",
    "c = ClassicalRegister(size)\n",
    "\n",
    "initial_qft = QuantumCircuit(q, c)\n",
    "initial_qft.h(q)\n",
    "\n",
    "signal_no_swap = QuantumCircuit(q, c)\n",
    "\n",
    "input_no_swap(signal_no_swap, q, value_to_encode, size)\n",
    "\n",
    "inverse_qft_no_swap = signal_qft_no_swap(q, c, size)\n",
    "\n",
    "m = QuantumCircuit(q, c)\n",
    "m.measure(q,c)"
   ]
  },
  {
   "cell_type": "code",
   "execution_count": null,
   "metadata": {},
   "outputs": [],
   "source": [
    "shots = 1000\n",
    "answers = lq.execute_simulated(initial_qft + signal_no_swap + inverse_qft_no_swap + m ,shots)\n",
    "lq.print_reverse_results(answers, label='Direct Signal')\n",
    "for key in answers:\n",
    "    print(int(key,2))"
   ]
  },
  {
   "cell_type": "code",
   "execution_count": null,
   "metadata": {},
   "outputs": [],
   "source": []
  },
  {
   "cell_type": "markdown",
   "metadata": {},
   "source": [
    "# Exact phase measurement.\n",
    "\n",
    "The following implements the \"textbook\" version of Quantum Phase Estimation starting with exact measurement.\n",
    "\n",
    "When the input phase is a direct multiple of the precission, it is meaured directly and no estimation is needed.  That is, if we input a phase of 1/4π into a 2 qubit system, it can measure that directly and return an exact result.  We will start with exact measurement and then extend it to estimation.\n",
    "\n",
    "The first implementation uses multiple qubits to hold the phase and you adjust the phase by turning off or on the various input qubits. \n",
    "\n",
    "The next implementation uses a single qubit to hold the phase and you adjust the phase by changing the circuit -- this is the way most implmentations of Shors do it.  \n",
    "\n",
    "Finally, the phase estimation circuit uses continued fractions post-measurement to estimate phases between precission levels. "
   ]
  },
  {
   "cell_type": "code",
   "execution_count": 36,
   "metadata": {},
   "outputs": [
    {
     "data": {
      "text/plain": [
       "<qiskit.circuit.instructionset.InstructionSet at 0x144c64b00>"
      ]
     },
     "execution_count": 36,
     "metadata": {},
     "output_type": "execute_result"
    }
   ],
   "source": [
    "qr = QuantumRegister(6)\n",
    "cr = ClassicalRegister(3)\n",
    "qc = QuantumCircuit(qr, cr)\n",
    "\n",
    "qc.h(qr[0])\n",
    "qc.h(qr[1])\n",
    "qc.h(qr[2])\n",
    "\n",
    "## Comment and uncomment these qubits to set the phase\n",
    "## These are considered the \"inputs\"\n",
    "#qc.x(qr[3])\n",
    "qc.x(qr[4])\n",
    "#qc.x(qr[5])\n",
    "\n",
    "angle = np.pi/4\n",
    "\n",
    "qc.cu1(angle, qr[2], qr[3])\n",
    "qc.cu1(2*angle, qr[1], qr[3])\n",
    "qc.cu1(4*angle, qr[0], qr[3])\n",
    "\n",
    "qc.cu1(2*angle, qr[2], qr[4])\n",
    "qc.cu1(4*angle, qr[1], qr[4])\n",
    "\n",
    "qc.cu1(4*angle, qr[2], qr[5])\n",
    "\n",
    "# You can generate the QFT and then invert when your measure\n",
    "qft = textbook_qft(qr, cr, 3)\n",
    "\n",
    "m = QuantumCircuit(qr, cr)\n",
    "m.measure(qr[0], cr[0])\n",
    "m.measure(qr[1], cr[1])\n",
    "m.measure(qr[2], cr[2])\n"
   ]
  },
  {
   "cell_type": "code",
   "execution_count": 37,
   "metadata": {},
   "outputs": [
    {
     "name": "stdout",
     "output_type": "stream",
     "text": [
      "Reversed:QPE: [('010', 1000)]\n",
      "2 1000\n"
     ]
    }
   ],
   "source": [
    "shots = 1000\n",
    "answers = lq.execute_simulated(qc+qft.inverse()+m ,shots)\n",
    "lq.print_reverse_results(answers, label='QPE')\n",
    "for key in answers:\n",
    "    print(int(key[::-1],2), answers[key])"
   ]
  },
  {
   "cell_type": "markdown",
   "metadata": {},
   "source": [
    "# Qiskit Version with no swap gates\n",
    "\n",
    "If you use the Qiskit native way of storing, you do not need the swap gates and you do not need to reverse the output.\n",
    "\n",
    "However, when you compare your circuits to textbook circuits, they will appear \"backwards.\" \n"
   ]
  },
  {
   "cell_type": "code",
   "execution_count": 38,
   "metadata": {},
   "outputs": [
    {
     "data": {
      "text/plain": [
       "<qiskit.circuit.instructionset.InstructionSet at 0x144c64860>"
      ]
     },
     "execution_count": 38,
     "metadata": {},
     "output_type": "execute_result"
    }
   ],
   "source": [
    "qr = QuantumRegister(6)\n",
    "cr = ClassicalRegister(3)\n",
    "qc = QuantumCircuit(qr, cr)\n",
    "\n",
    "qc.h(qr[0])\n",
    "qc.h(qr[1])\n",
    "qc.h(qr[2])\n",
    "\n",
    "## Comment and uncomment these qubits to set the phase\n",
    "## These are considered the \"inputs\"\n",
    "qc.x(qr[3])\n",
    "#qc.x(qr[4])\n",
    "#qc.x(qr[5])\n",
    "\n",
    "angle = np.pi/4\n",
    "\n",
    "qc.cu1(angle, qr[0], qr[5])\n",
    "qc.cu1(2*angle, qr[1], qr[5])\n",
    "qc.cu1(4*angle, qr[2], qr[5])\n",
    "\n",
    "qc.cu1(2*angle, qr[0], qr[4])\n",
    "qc.cu1(4*angle, qr[1], qr[4])\n",
    "\n",
    "qc.cu1(4*angle, qr[0], qr[3])\n",
    "\n",
    "# You can generate the QFT and then invert when your measure\n",
    "qft = textbook_qft_no_swap(qr, cr, 3)\n",
    "\n",
    "m = QuantumCircuit(qr, cr)\n",
    "m.measure(qr[0], cr[0])\n",
    "m.measure(qr[1], cr[1])\n",
    "m.measure(qr[2], cr[2])"
   ]
  },
  {
   "cell_type": "code",
   "execution_count": 39,
   "metadata": {},
   "outputs": [
    {
     "name": "stdout",
     "output_type": "stream",
     "text": [
      "Reversed: [(4, 1000)]\n"
     ]
    }
   ],
   "source": [
    "shots = 1000\n",
    "answers = lq.execute_simulated(qc+qft.inverse()+m ,shots)\n",
    "lq.print_reverse_results(answers, integer=True)"
   ]
  },
  {
   "cell_type": "markdown",
   "metadata": {},
   "source": [
    "# But the matrix does not match the standard definitions\n",
    "\n",
    "While the computations are identical, the different ways of storing the data can be very confusing.  It is best to write your implementation using the standard \"textbook\" formats and then go back and optimize the code for Qiskit.  In addition, if you are porting to other platforms, any platform can run the \"textbook\" verions."
   ]
  },
  {
   "cell_type": "code",
   "execution_count": 40,
   "metadata": {},
   "outputs": [
    {
     "data": {
      "text/latex": [
       "\\begin{equation*}\\frac{1}{2\\sqrt{2}}\\begin{pmatrix}1 & 1 & 1 & 1 & 1 & 1 & 1 & 1 \\\\ \n",
       "1 & e^{\\pi i} & e^{\\frac{\\pi}{2} i} & e^{\\frac{3\\pi}{2} i} & e^{\\frac{\\pi}{4} i} & e^{\\frac{5\\pi}{4} i} & e^{\\frac{3\\pi}{4} i} & e^{\\frac{7\\pi}{4} i} \\\\ \n",
       "1 & 1 & e^{\\pi i} & e^{\\pi i} & e^{\\frac{\\pi}{2} i} & e^{\\frac{\\pi}{2} i} & e^{\\frac{3\\pi}{2} i} & e^{\\frac{3\\pi}{2} i} \\\\ \n",
       "1 & e^{\\pi i} & e^{\\frac{3\\pi}{2} i} & e^{\\frac{\\pi}{2} i} & e^{\\frac{3\\pi}{4} i} & e^{\\frac{7\\pi}{4} i} & e^{\\frac{\\pi}{4} i} & e^{\\frac{5\\pi}{4} i} \\\\ \n",
       "1 & 1 & 1 & 1 & e^{\\pi i} & e^{\\pi i} & e^{\\pi i} & e^{\\pi i} \\\\ \n",
       "1 & e^{\\pi i} & e^{\\frac{\\pi}{2} i} & e^{\\frac{3\\pi}{2} i} & e^{\\frac{5\\pi}{4} i} & e^{\\frac{\\pi}{4} i} & e^{\\frac{7\\pi}{4} i} & e^{\\frac{3\\pi}{4} i} \\\\ \n",
       "1 & 1 & e^{\\pi i} & e^{\\pi i} & e^{\\frac{3\\pi}{2} i} & e^{\\frac{3\\pi}{2} i} & e^{\\frac{\\pi}{2} i} & e^{\\frac{\\pi}{2} i} \\\\ \n",
       "1 & e^{\\pi i} & e^{\\frac{3\\pi}{2} i} & e^{\\frac{\\pi}{2} i} & e^{\\frac{7\\pi}{4} i} & e^{\\frac{3\\pi}{4} i} & e^{\\frac{5\\pi}{4} i} & e^{\\frac{\\pi}{4} i} \\\\ \n",
       "\\end{pmatrix}\\end{equation*}"
      ],
      "text/plain": [
       "<IPython.core.display.Latex object>"
      ]
     },
     "execution_count": 40,
     "metadata": {},
     "output_type": "execute_result"
    }
   ],
   "source": [
    "qr = QuantumRegister(3)\n",
    "cr = ClassicalRegister(3)\n",
    "qc = QuantumCircuit(qr, cr)\n",
    "\n",
    "qft = textbook_qft_no_swap(qr, cr, 3)\n",
    "\n",
    "qiskit_qft = lq.execute_unitary(qft)\n",
    "Latex(a_to_l(qiskit_qft, normalize=True, display_exp=True))"
   ]
  },
  {
   "cell_type": "code",
   "execution_count": null,
   "metadata": {},
   "outputs": [],
   "source": []
  },
  {
   "cell_type": "markdown",
   "metadata": {},
   "source": [
    "# Change the phase by changing the circuit"
   ]
  },
  {
   "cell_type": "code",
   "execution_count": 41,
   "metadata": {},
   "outputs": [],
   "source": [
    "def generate_rotation_circuit(qr, cr, angle):\n",
    "    qc_rotation = QuantumCircuit(qr, cr)\n",
    "    qc_rotation.cu1(angle, qr[2], qr[3])\n",
    "    qc_rotation.cu1(2*angle, qr[1], qr[3])\n",
    "    qc_rotation.cu1(4*angle, qr[0], qr[3])\n",
    "    \n",
    "    return qc_rotation"
   ]
  },
  {
   "cell_type": "code",
   "execution_count": 42,
   "metadata": {},
   "outputs": [
    {
     "data": {
      "text/plain": [
       "<qiskit.circuit.instructionset.InstructionSet at 0x144c54828>"
      ]
     },
     "execution_count": 42,
     "metadata": {},
     "output_type": "execute_result"
    }
   ],
   "source": [
    "qr = QuantumRegister(4)\n",
    "cr = ClassicalRegister(3)\n",
    "qc = QuantumCircuit(qr, cr)\n",
    "\n",
    "qc.h(qr[0])\n",
    "qc.h(qr[1])\n",
    "qc.h(qr[2])\n",
    "qc.x(qr[3])\n",
    "\n",
    "## Just outlining it here, it will be generated below\n",
    "angle = 2*π/4\n",
    "qc_rotation = generate_rotation_circuit(qr, cr, angle)\n",
    "\n",
    "qft_inverse = textbook_qft(qr, cr, 3).inverse()\n",
    "\n",
    "m = QuantumCircuit(qr, cr)\n",
    "m.measure(qr[0], cr[0])\n",
    "m.measure(qr[1], cr[1])\n",
    "m.measure(qr[2], cr[2])"
   ]
  },
  {
   "cell_type": "code",
   "execution_count": 43,
   "metadata": {},
   "outputs": [
    {
     "name": "stdout",
     "output_type": "stream",
     "text": [
      "Reversed: [('000', 1000)]\n",
      "Reversed:Integer: [(0, 1000)]\n",
      "------------------------\n",
      "Reversed: [('001', 1000)]\n",
      "Reversed:Integer: [(1, 1000)]\n",
      "------------------------\n",
      "Reversed: [('010', 1000)]\n",
      "Reversed:Integer: [(2, 1000)]\n",
      "------------------------\n",
      "Reversed: [('011', 1000)]\n",
      "Reversed:Integer: [(3, 1000)]\n",
      "------------------------\n",
      "Reversed: [('100', 1000)]\n",
      "Reversed:Integer: [(4, 1000)]\n",
      "------------------------\n",
      "Reversed: [('101', 1000)]\n",
      "Reversed:Integer: [(5, 1000)]\n",
      "------------------------\n",
      "Reversed: [('110', 1000)]\n",
      "Reversed:Integer: [(6, 1000)]\n",
      "------------------------\n",
      "Reversed: [('111', 1000)]\n",
      "Reversed:Integer: [(7, 1000)]\n",
      "------------------------\n"
     ]
    }
   ],
   "source": [
    "shots = 1000\n",
    "for k in range(8):\n",
    "    angle = k*π/4\n",
    "    qc_rotation = generate_rotation_circuit(qr, cr, angle)\n",
    "    answers = lq.execute_simulated(qc+qc_rotation+qft_inverse+m ,shots)\n",
    "    lq.print_reverse_results(answers)\n",
    "    lq.print_reverse_results(answers, integer=True, label='Integer')\n",
    "    print('------------------------')"
   ]
  },
  {
   "cell_type": "code",
   "execution_count": null,
   "metadata": {},
   "outputs": [],
   "source": []
  },
  {
   "cell_type": "markdown",
   "metadata": {},
   "source": [
    "# Phase Estimation\n",
    "The circuit will use a single qubit to hold an arbitrary phase. The QFT will map that phase onto only 3 qubits.  Unless the phase is an exact multiple of $\\frac{2\\pi}{8} = \\frac{\\pi}{4}$, the phase needs to be estimated by looking at the values returned. "
   ]
  },
  {
   "cell_type": "code",
   "execution_count": 126,
   "metadata": {},
   "outputs": [],
   "source": [
    "def combine_results(answers):\n",
    "    combined = 0\n",
    "    total = 0\n",
    "    for key in answers:\n",
    "        key_count = answers[key]\n",
    "        total = total + key_count\n",
    "\n",
    "    for key in answers:\n",
    "        key_count = answers[key]\n",
    "        ## a binary decimal for the full string is just to divide by 2**max bit size\n",
    "        ## so '001' is 1/8. '0010' is 3/16... \n",
    "        binary_decimal = int(key[::-1],2)/(2**len(key))\n",
    "        ## combine together as weighted average\n",
    "        ## each result is given the weight of its percetage of the total.\n",
    "        combined = combined + (key_count/total)*binary_decimal\n",
    "    return combined\n"
   ]
  },
  {
   "cell_type": "code",
   "execution_count": 127,
   "metadata": {},
   "outputs": [
    {
     "data": {
      "text/plain": [
       "<qiskit.circuit.instructionset.InstructionSet at 0x144d31438>"
      ]
     },
     "execution_count": 127,
     "metadata": {},
     "output_type": "execute_result"
    }
   ],
   "source": [
    "qr = QuantumRegister(4)\n",
    "cr = ClassicalRegister(3)\n",
    "qc = QuantumCircuit(qr, cr)\n",
    "\n",
    "qc.h(qr[0])\n",
    "qc.h(qr[1])\n",
    "qc.h(qr[2])\n",
    "qc.x(qr[3])\n",
    "\n",
    "\n",
    "angle = 5*π/8\n",
    "\n",
    "qc.cu1(angle, qr[2], qr[3])\n",
    "qc.cu1(2*angle, qr[1], qr[3])\n",
    "qc.cu1(4*angle, qr[0], qr[3])\n",
    "\n",
    "\n",
    "\n",
    "qft = textbook_qft(qr, cr, 3)\n",
    "\n",
    "m = QuantumCircuit(qr, cr)\n",
    "m.measure(qr[0], cr[0])\n",
    "m.measure(qr[1], cr[1])\n",
    "m.measure(qr[2], cr[2])\n",
    "\n"
   ]
  },
  {
   "cell_type": "code",
   "execution_count": 128,
   "metadata": {},
   "outputs": [
    {
     "name": "stdout",
     "output_type": "stream",
     "text": [
      "Reversed:QPE: [('000', 23), ('001', 63), ('010', 403), ('011', 418), ('100', 39), ('101', 22), ('110', 16), ('111', 16)]\n",
      "Reversed:QPE-Integer: [(0, 23), (1, 63), (2, 403), (3, 418), (4, 39), (5, 22), (6, 16), (7, 16)]\n",
      "--------------------\n",
      "Estimated Phase: 0.32462500000000005\n",
      "Actual: 0.3125\n",
      "As fraction: 1/3\n",
      "Actual: 5/16\n"
     ]
    }
   ],
   "source": [
    "shots = 1000\n",
    "answers = lq.execute_simulated(qc+qft.inverse()+m ,shots)\n",
    "lq.print_reverse_results(answers, label='QPE')\n",
    "lq.print_reverse_results(answers, label='QPE-Integer', integer=True)\n",
    "\n",
    "\n",
    "print('--------------------')\n",
    "estimate = combine_results(answers)\n",
    "print('Estimated Phase:', estimate)\n",
    "print('Actual:', angle/(2*π))\n",
    "print('As fraction:', Fraction(estimate).limit_denominator(16))\n",
    "print('Actual:', Fraction(angle/(2*π)).limit_denominator(16))"
   ]
  },
  {
   "cell_type": "code",
   "execution_count": 108,
   "metadata": {},
   "outputs": [
    {
     "data": {
      "image/png": "[encoded data removed]",
      "text/plain": [
       "<Figure size 720x360 with 1 Axes>"
      ]
     },
     "metadata": {
      "needs_background": "light"
     },
     "output_type": "display_data"
    }
   ],
   "source": [
    "lq.plot_results(answers, spacing=0)"
   ]
  },
  {
   "cell_type": "markdown",
   "metadata": {},
   "source": [
    "The above code averages over a series of runs, but you can see that using the continued fraction approach, the result from a single run is very close to the actual phase.\n",
    "\n",
    "As a practical matter, any quantum made today will run 1000 shots in not much more time than running 1 shot so this is of little immediate use.  However, assuming some larger quantum computers, it might be impractical to run hundred or thousands of times.  Using the phase estimation technique, you get a \"close\" estimation with high probability. "
   ]
  },
  {
   "cell_type": "code",
   "execution_count": 109,
   "metadata": {},
   "outputs": [
    {
     "name": "stdout",
     "output_type": "stream",
     "text": [
      "Reversed:QPE: [('011', 1)]\n",
      "3 1\n",
      "--------------------\n",
      "Estimated Phase: 0.375\n",
      "Actual: 0.3125\n",
      "As fraction: 3/8\n",
      "Actual: 5/16\n"
     ]
    }
   ],
   "source": [
    "shots = 1\n",
    "answers = lq.execute_simulated(qc+qft.inverse()+m ,shots)\n",
    "lq.print_reverse_results(answers, label='QPE')\n",
    "for key in answers:\n",
    "    print(int(key[::-1],2), answers[key])\n",
    "print('--------------------')\n",
    "estimate = combine_results(answers)\n",
    "print('Estimated Phase:', estimate)\n",
    "print('Actual:', angle/(2*π))\n",
    "print('As fraction:', Fraction(estimate).limit_denominator(16))\n",
    "print('Actual:', Fraction(angle/(2*π)).limit_denominator(16))"
   ]
  },
  {
   "cell_type": "markdown",
   "metadata": {},
   "source": [
    "## Exercise: What does the state look like without performing the inverse QFT"
   ]
  },
  {
   "cell_type": "code",
   "execution_count": 57,
   "metadata": {},
   "outputs": [],
   "source": [
    "shots = 1000\n",
    "answers = lq.execute_simulated(qc+m ,shots)\n",
    "\n"
   ]
  },
  {
   "cell_type": "code",
   "execution_count": 58,
   "metadata": {},
   "outputs": [
    {
     "data": {
      "image/png": "[encoded data removed]",
      "text/plain": [
       "<Figure size 720x360 with 1 Axes>"
      ]
     },
     "metadata": {
      "needs_background": "light"
     },
     "output_type": "display_data"
    }
   ],
   "source": [
    "lq.plot_results(answers, spacing=0)"
   ]
  },
  {
   "cell_type": "code",
   "execution_count": 59,
   "metadata": {},
   "outputs": [
    {
     "data": {
      "text/latex": [
       "\\begin{equation*} \\vert \\psi\\rangle=\\frac{1}{2\\sqrt{2}} \\vert0001\\rangle-0.2204+0.2764i \\vert0011\\rangle-0.0787-0.3447i \\vert0101\\rangle+0.3185+0.1534i \\vert0111\\rangle-0.3185+0.1534i \\vert1001\\rangle+0.0787-0.3447i \\vert1011\\rangle+0.2204+0.2764i \\vert1101\\rangle-\\frac{1}{2\\sqrt{2}} \\vert1111\\rangle\\end{equation*}"
      ],
      "text/plain": [
       "<IPython.core.display.Latex object>"
      ]
     },
     "execution_count": 59,
     "metadata": {},
     "output_type": "execute_result"
    }
   ],
   "source": [
    "Latex(lq.show_state_vector(qc))"
   ]
  },
  {
   "cell_type": "markdown",
   "metadata": {},
   "source": [
    "## Exercise:  Implement an arbitrary bit precission estimation circuit\n",
    "\n",
    "That is, input a precission bit size for phase estimation.  For hints, see the Reference Implementation of Shor's. "
   ]
  },
  {
   "cell_type": "markdown",
   "metadata": {},
   "source": [
    "## Reuse single qubit for phase estimation"
   ]
  },
  {
   "cell_type": "code",
   "execution_count": 171,
   "metadata": {},
   "outputs": [
    {
     "name": "stdout",
     "output_type": "stream",
     "text": [
      "10001\n",
      "Actual: 15/32\n",
      "Estimate As fraction: 17/32\n"
     ]
    }
   ],
   "source": [
    "def rotate_phase(rotate_angle, qr, cr):\n",
    "    rotation = QuantumCircuit(qr, cr)\n",
    "    rotation.cu1(rotate_angle, qr[0], qr[1])\n",
    "    return rotation\n",
    "\n",
    "qr = QuantumRegister(2)\n",
    "cr = ClassicalRegister(1)\n",
    "initial = QuantumCircuit(qr, cr)\n",
    "\n",
    "initial.h(qr[0])\n",
    "initial.x(qr[1])\n",
    "\n",
    "\n",
    "angle = 2 * (15*π/32)\n",
    "\n",
    "final = QuantumCircuit(qr, cr)\n",
    "final.h(qr[0])\n",
    "\n",
    "m = QuantumCircuit(qr, cr)\n",
    "m.measure(qr[0], cr[0])\n",
    "\n",
    "\n",
    "shots = 1\n",
    "binary_phase = ''\n",
    "for k in range(5):\n",
    "    rotation = rotate_phase(angle*(2**k), qr, cr)\n",
    "    \n",
    "    answers = lq.execute_simulated(initial+rotation+final+m ,shots)\n",
    "    binary_phase = next(iter(answers)) + binary_phase # reverse order\n",
    "\n",
    "binary_decimal = int(binary_phase,2)/(2**len(binary_phase))\n",
    "\n",
    "print('Actual:', Fraction(angle/(2*π)).limit_denominator(32))\n",
    "print('Estimate As fraction:', Fraction(binary_decimal).limit_denominator(32))"
   ]
  },
  {
   "cell_type": "code",
   "execution_count": null,
   "metadata": {},
   "outputs": [],
   "source": []
  },
  {
   "cell_type": "code",
   "execution_count": null,
   "metadata": {},
   "outputs": [],
   "source": []
  },
  {
   "cell_type": "code",
   "execution_count": null,
   "metadata": {},
   "outputs": [],
   "source": []
  }
 ],
 "metadata": {
  "kernelspec": {
   "display_name": "Python 3",
   "language": "python",
   "name": "python3"
  },
  "language_info": {
   "codemirror_mode": {
    "name": "ipython",
    "version": 3
   },
   "file_extension": ".py",
   "mimetype": "text/x-python",
   "name": "python",
   "nbconvert_exporter": "python",
   "pygments_lexer": "ipython3",
   "version": "3.7.2"
  }
 },
 "nbformat": 4,
 "nbformat_minor": 2
}
