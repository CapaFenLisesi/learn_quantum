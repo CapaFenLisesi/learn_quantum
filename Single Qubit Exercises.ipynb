{
 "cells": [
  {
   "cell_type": "markdown",
   "metadata": {},
   "source": [
    "# Quantum Programming: Single Qubits\n",
    "\n",
    "This code is meant to be used with the book.  The chapter should be in the same directory.  You will need the learn_quantum.py library and Qiskit.  \n",
    "\n",
    "This material assumes you know the basics of python programming and Qiskit.  Qiskit is used here because it has an easy interface to access the transformation matrix.  \n",
    "\n",
    "You can read the documentation on how to install and use [Qiskit](https://qiskit.org/documentation/terra/summary_of_quantum_operations.html#u-gates).\n",
    "\n",
    "This goal of this material is to cover concepts used in quantum programming -- not to be a lesson in linear alegbra nor to provide a tutorial on Qiskit or any other library.  You can review basic information on the linear algebra of quantum computing from [Microsoft](https://docs.microsoft.com/en-us/quantum/concepts/vectors-and-matrices?view=qsharp-preview).  \n"
   ]
  },
  {
   "cell_type": "code",
   "execution_count": 1,
   "metadata": {},
   "outputs": [],
   "source": [
    "from qiskit.visualization import plot_bloch_multivector\n",
    "from qiskit.visualization.bloch import Bloch\n",
    "from qiskit import QuantumCircuit, QuantumRegister, ClassicalRegister\n",
    "import learn_quantum as lq\n",
    "from learn_quantum import ket, bra, np_array_to_latex as a_to_l, show_array, show_me_the_matrix\n",
    "from IPython.display import Latex\n",
    "import numpy as np\n",
    "from math import pi as π, pi, sqrt\n"
   ]
  },
  {
   "cell_type": "markdown",
   "metadata": {},
   "source": [
    "## Single Qubits and the Standard Basis\n",
    "\n",
    "The examples present the information in Latex using various support functions in the 'learn_quantum' library. By default, rounded brackets are used. If you prefer square brackets, set lq.default_bracket_type = 'b'.\n",
    "\n",
    "Other common paramaters are factor_out and label which are demonstrated in these exercises.  \n",
    "\n",
    "Above, np_array_to_latex is setup with an alias of a_to_l.  \"llf\" is for Latex Line Feed and is used to put multiple expressions in a single output. "
   ]
  },
  {
   "cell_type": "code",
   "execution_count": 2,
   "metadata": {},
   "outputs": [
    {
     "data": {
      "text/latex": [
       "\\begin{equation*}\\begin{pmatrix}1 \\\\ \n",
       " 0  \\\\ \n",
       "\\end{pmatrix}\\end{equation*}\\begin{equation} \\\\ \\end{equation}\\begin{equation*}\\begin{pmatrix} 0  \\\\ \n",
       "1 \\\\ \n",
       "\\end{pmatrix}\\end{equation*}"
      ],
      "text/plain": [
       "<IPython.core.display.Latex object>"
      ]
     },
     "execution_count": 2,
     "metadata": {},
     "output_type": "execute_result"
    }
   ],
   "source": [
    "Latex(a_to_l(ket('0')) + lq.llf + lq.np_array_to_latex(ket('1')))"
   ]
  },
  {
   "cell_type": "code",
   "execution_count": 3,
   "metadata": {},
   "outputs": [
    {
     "data": {
      "text/latex": [
       "\\begin{equation*}\\frac{1}{\\sqrt{2}}\\begin{bmatrix}1 \\\\ \n",
       "1 \\\\ \n",
       "\\end{bmatrix}\\end{equation*}\\begin{equation} \\\\ \\end{equation}\\begin{equation*}\\begin{bmatrix}\\frac{1}{\\sqrt{2}} \\\\ \n",
       "-\\frac{1}{\\sqrt{2}} \\\\ \n",
       "\\end{bmatrix}\\end{equation*}"
      ],
      "text/plain": [
       "<IPython.core.display.Latex object>"
      ]
     },
     "execution_count": 3,
     "metadata": {},
     "output_type": "execute_result"
    }
   ],
   "source": [
    "lq.default_bracket_type = 'b'\n",
    "Latex(a_to_l(ket('+')) + lq.llf + a_to_l(ket('-'), factor_out=False))"
   ]
  },
  {
   "cell_type": "code",
   "execution_count": 4,
   "metadata": {},
   "outputs": [],
   "source": [
    "lq.default_bracket_type = 'p'"
   ]
  },
  {
   "cell_type": "markdown",
   "metadata": {},
   "source": [
    "____\n",
    "## Single Qubit Transformations in Bra-Ket\n",
    "\n",
    "All quantum programming amounts to matrix manipulation of an initial state by a transformation matrix.  This is represented as $\\vert \\psi'\\rangle = U\\vert \\psi\\rangle$. Where $U$ is a [unitary matrix](https://en.wikipedia.org/wiki/Unitary_matrix). \n",
    "\n",
    "Quantum gates are basic unitary matricies that map one state onto another.  One way to view these gates is using the bra-ket notation to \"project\" an initial state onto a new state.\n",
    "\n"
   ]
  },
  {
   "cell_type": "markdown",
   "metadata": {},
   "source": [
    "### X Gate\n",
    "\n",
    "The X Gate can be constructed using ket and bra \"projections.\"  The gate transforms 0 to 1 and 1 to 0.  Also known as the Not Gate.  But please see the discussion in the text about how a \"Not\" gate does not always perform a \"Not\" function.  In learning quantum programming, it is important to note that names given to various gates serve primmarily to identify the gate by its action on a non-quantum (classical) state.  This is suffcient for a basic understanding in this first chapter, but when acting on quantum states, the gate will not act in a classical manner. \n",
    "\n",
    "\\begin{equation*} X=\\vert 0\\rangle \\langle 1 \\vert   +   \\vert 1\\rangle \\langle 0 \\vert = \n",
    "\\end{equation*}\n",
    "\n",
    "\\begin{equation*}\n",
    "\\begin{pmatrix}1&0\\end{pmatrix}\\begin{pmatrix}0\\\\1\\end{pmatrix} + \n",
    "\\begin{pmatrix}0&1\\end{pmatrix}\\begin{pmatrix}1\\\\0\\end{pmatrix} = \n",
    "\\end{equation*}\n",
    "\n",
    "\\begin{equation*}\n",
    "\\begin{pmatrix}0&1\\\\0&0\\end{pmatrix} + \\begin{pmatrix}0&0\\\\1&0\\end{pmatrix} = \\begin{pmatrix}0&1\\\\1&0\\end{pmatrix}\n",
    "\\end{equation*}\n",
    "\n",
    "Note that above, the Latex was being formated to put multiple arrays in a single cell.  Use show_array to display a single array."
   ]
  },
  {
   "cell_type": "code",
   "execution_count": 15,
   "metadata": {},
   "outputs": [
    {
     "data": {
      "text/latex": [
       "\\begin{equation*}X = \\begin{pmatrix} 0  & 1 \\\\ \n",
       "1 &  0  \\\\ \n",
       "\\end{pmatrix}\\end{equation*}"
      ],
      "text/plain": [
       "<IPython.core.display.Latex object>"
      ]
     },
     "metadata": {},
     "output_type": "display_data"
    }
   ],
   "source": [
    "Ux = ket('0')@bra('1') + ket('1')@bra('0')\n",
    "show_array(Ux, label='X')"
   ]
  },
  {
   "cell_type": "code",
   "execution_count": 16,
   "metadata": {},
   "outputs": [
    {
     "data": {
      "text/latex": [
       "\\begin{equation*}\\begin{pmatrix} 0  \\\\ \n",
       "1 \\\\ \n",
       "\\end{pmatrix}\\end{equation*}"
      ],
      "text/plain": [
       "<IPython.core.display.Latex object>"
      ]
     },
     "metadata": {},
     "output_type": "display_data"
    }
   ],
   "source": [
    "# Multiply the X-Gate by an intial state of 0 give a new state of 1.  \n",
    "show_array(Ux@ket('0'))"
   ]
  },
  {
   "cell_type": "code",
   "execution_count": 17,
   "metadata": {},
   "outputs": [
    {
     "data": {
      "text/latex": [
       "\\begin{equation*}\\begin{pmatrix}1 \\\\ \n",
       " 0  \\\\ \n",
       "\\end{pmatrix}\\end{equation*}"
      ],
      "text/plain": [
       "<IPython.core.display.Latex object>"
      ]
     },
     "metadata": {},
     "output_type": "display_data"
    }
   ],
   "source": [
    "# Multiply the X-Gate by an intial state of 1 give a new state of 0.  \n",
    "show_array(Ux@ket('1'))"
   ]
  },
  {
   "cell_type": "markdown",
   "metadata": {},
   "source": [
    "_____\n",
    "### Z Gate\n",
    "\n",
    "The Z gate maps 0 onto 0 and 1 onto -1.  It is known as the \"phase flip\" gate.\n",
    "\n",
    "\\begin{equation*}\n",
    "Z = 1\\vert 0\\rangle \\langle 0 \\vert   - 1 \\vert 1\\rangle \\langle 1 \\vert =\n",
    "\\end{equation*}\n",
    "\n",
    "\\begin{equation*}\n",
    "\\begin{pmatrix}1&0\\end{pmatrix}\\begin{pmatrix}1\\\\0\\end{pmatrix} - \n",
    "\\begin{pmatrix}0&1\\end{pmatrix}\\begin{pmatrix}0\\\\1\\end{pmatrix} = \n",
    "\\end{equation*}\n",
    "\n",
    "\\begin{equation*}\n",
    "\\begin{pmatrix}1&0\\\\0&0\\end{pmatrix} - \\begin{pmatrix}0&0\\\\0&1\\end{pmatrix} = \\begin{pmatrix}1&0\\\\0&-1\\end{pmatrix}\n",
    "\\end{equation*}\n"
   ]
  },
  {
   "cell_type": "code",
   "execution_count": 18,
   "metadata": {},
   "outputs": [
    {
     "data": {
      "text/latex": [
       "\\begin{equation*}Z = \\begin{pmatrix}1 &  0  \\\\ \n",
       " 0  & -1 \\\\ \n",
       "\\end{pmatrix}\\end{equation*}"
      ],
      "text/plain": [
       "<IPython.core.display.Latex object>"
      ]
     },
     "metadata": {},
     "output_type": "display_data"
    }
   ],
   "source": [
    "U = ket('0')@bra('0') - ket('1')@bra('1')\n",
    "show_array(U, label='Z')"
   ]
  },
  {
   "cell_type": "markdown",
   "metadata": {},
   "source": [
    "### Y Gate\n",
    "\n",
    "The Y gate is represented in some texts as $Y = \\begin{pmatrix}0&-1\\\\1&0\\end{pmatrix}$ and is known as the bit and phase flip.  It is a combination of the X and Z gates. However, it is also frequently represented with an imaginary component. Either gate is the same gates up to the global phase -- that is, there is no computational difference between the gates and their entries differ by a common global factor.  See the text for detailed discussion of the global phase and how it is used to apply asthetics to certain matricies.  That is, you want a matrix to look a certain way to present it in literature, so a global phase is applied.  For computation purposes the matricies with 1/-1 and i/-i are identical. \n",
    "\n",
    "The Y gate transforms $\\vert 0\\rangle$ onto $\\vert 1\\rangle$ with an amplitude of $\\sqrt{1} = -i$ and $\\vert 1\\rangle$ onto $\\vert 0\\rangle$ with amplitude $\\sqrt{-1} = i$.  In bra-ket notation, and factoring out the coefficient to the front of the term, this is:\n",
    "\n",
    "\\begin{equation*}\n",
    "Y = -i\\vert 0\\rangle \\langle 1 \\vert   + i \\vert 1\\rangle \\langle 0 \\vert =\n",
    "\\end{equation*}\n",
    "\n",
    "\\begin{equation*}\n",
    "\\begin{pmatrix}0&-i\\\\0&0\\end{pmatrix} + \\begin{pmatrix}0&0\\\\i&0\\end{pmatrix} =\n",
    "\\begin{pmatrix}0&-i\\\\i&0\\end{pmatrix}\n",
    "\\end{equation*}\n"
   ]
  },
  {
   "cell_type": "code",
   "execution_count": 19,
   "metadata": {},
   "outputs": [
    {
     "data": {
      "text/latex": [
       "\\begin{equation*}Y = \\begin{pmatrix} 0  & -i \\\\ \n",
       "i &  0  \\\\ \n",
       "\\end{pmatrix}\\end{equation*}"
      ],
      "text/plain": [
       "<IPython.core.display.Latex object>"
      ]
     },
     "metadata": {},
     "output_type": "display_data"
    }
   ],
   "source": [
    "U = -lq.imag*ket('0')@bra('1') + lq.imag*ket('1')@bra('0')\n",
    "show_array(U, label='Y')"
   ]
  },
  {
   "cell_type": "code",
   "execution_count": 20,
   "metadata": {},
   "outputs": [
    {
     "data": {
      "text/latex": [
       "\\begin{equation*}Y = \\begin{pmatrix} 0  & -1 \\\\ \n",
       "1 &  0  \\\\ \n",
       "\\end{pmatrix}\\end{equation*}"
      ],
      "text/plain": [
       "<IPython.core.display.Latex object>"
      ]
     },
     "metadata": {},
     "output_type": "display_data"
    }
   ],
   "source": [
    "## Applly a global phase if you want the other form.  See text for discussion of global phase\n",
    "show_array(-lq.imag * U, label='Y')"
   ]
  },
  {
   "cell_type": "code",
   "execution_count": 21,
   "metadata": {},
   "outputs": [
    {
     "data": {
      "text/latex": [
       "\\begin{equation*}\\begin{pmatrix} 0  & -1 \\\\ \n",
       "1 &  0  \\\\ \n",
       "\\end{pmatrix}\\end{equation*}"
      ],
      "text/plain": [
       "<IPython.core.display.Latex object>"
      ]
     },
     "metadata": {},
     "output_type": "display_data"
    }
   ],
   "source": [
    "## Which is the same as X@Z\n",
    "show_array(lq.pauliX@lq.pauliZ)"
   ]
  },
  {
   "cell_type": "code",
   "execution_count": 22,
   "metadata": {},
   "outputs": [
    {
     "data": {
      "text/latex": [
       "\\begin{equation*}Y = \\begin{pmatrix} 0  & -1 \\\\ \n",
       "1 &  0  \\\\ \n",
       "\\end{pmatrix}\\end{equation*}"
      ],
      "text/plain": [
       "<IPython.core.display.Latex object>"
      ]
     },
     "metadata": {},
     "output_type": "display_data"
    }
   ],
   "source": [
    "## And a pi rotation on Y is the same\n",
    "qr = QuantumRegister(1)\n",
    "circuit = QuantumCircuit(qr)\n",
    "circuit.ry(pi, qr)\n",
    "show_me_the_matrix(circuit, label='Y')"
   ]
  },
  {
   "cell_type": "markdown",
   "metadata": {},
   "source": [
    "### Hadamard Gate\n",
    "\n",
    "To transform an input of $\\vert0\\rangle$ onto either $\\vert0\\rangle$ or $\\vert1\\rangle$ with 50/50 probabilities, the values of a and b would be $\\frac{1}{\\sqrt{2}}$, as the sum of squares of these probabilities must equal one.  And to transform an input value of $\\vert1\\rangle$ on $\\vert0\\rangle$ or $\\vert1\\rangle$ with 50/50 probabilities, the values of c and d would also be $\\frac{1}{\\sqrt{2}}$.  Here, we will apply a \"relative phase\" of -1 to d to keep the matrix unitary, with an explanation of what they means coming later. The transformation is:\n",
    "\\begin{equation*}\n",
    " \\frac{1}{\\sqrt{2}}\\vert 0 \\rangle \\langle 0 \\vert + \\frac{1}{\\sqrt{2}}\\vert 0 \\rangle \\langle 1 \\vert + \\frac{1}{\\sqrt{2}}\\vert 0 \\rangle \\langle 0 \\vert - \\frac{1}{\\sqrt{2}} \\vert 0 \\rangle\\langle 1 \\vert =\n",
    " \\end{equation*}\n",
    "\\begin{equation*}\n",
    " \\begin{pmatrix}\\frac{1}{\\sqrt{2}}&\\frac{1}{\\sqrt{2}}\\\\\\frac{1}{\\sqrt{2}}&-\\frac{1}{\\sqrt{2}}\\end{pmatrix} =\n",
    " \\frac{1}{\\sqrt{2}}\\begin{pmatrix}1 & 1 \\\\ \n",
    "1 & -1 \\\\ \n",
    "\\end{pmatrix}\n",
    "\\end{equation*}"
   ]
  },
  {
   "cell_type": "code",
   "execution_count": 23,
   "metadata": {},
   "outputs": [
    {
     "data": {
      "text/latex": [
       "\\begin{equation*}\\frac{1}{\\sqrt{2}}\\begin{pmatrix}1 & 1 \\\\ \n",
       "1 & -1 \\\\ \n",
       "\\end{pmatrix}\\end{equation*}"
      ],
      "text/plain": [
       "<IPython.core.display.Latex object>"
      ]
     },
     "metadata": {},
     "output_type": "display_data"
    }
   ],
   "source": [
    "show_array(\n",
    "    1/sqrt(2) * ket('0')@bra('0') + 1/sqrt(2) * ket('0')@bra('1') \n",
    "+ 1/sqrt(2) * ket('1')@bra('0') - 1/sqrt(2) * ket('1')@bra('1'))"
   ]
  },
  {
   "cell_type": "markdown",
   "metadata": {},
   "source": [
    "___\n",
    "## Visual Representation of a Qubit"
   ]
  },
  {
   "cell_type": "code",
   "execution_count": 24,
   "metadata": {},
   "outputs": [
    {
     "data": {
      "image/png": "[encoded data removed]",
      "text/plain": [
       "<Figure size 576x288 with 2 Axes>"
      ]
     },
     "execution_count": 24,
     "metadata": {},
     "output_type": "execute_result"
    }
   ],
   "source": [
    "bloch1 = QuantumCircuit(2)\n",
    "bloch1.x(1)\n",
    "plot_bloch_multivector(lq.execute_state_vector(bloch1))"
   ]
  },
  {
   "cell_type": "markdown",
   "metadata": {},
   "source": [
    "You can also step through a rotation to see how the rotation is performed. "
   ]
  },
  {
   "cell_type": "code",
   "execution_count": 20,
   "metadata": {},
   "outputs": [
    {
     "data": {
      "image/png": "[encoded data removed]",
      "text/plain": [
       "<Figure size 360x360 with 1 Axes>"
      ]
     },
     "metadata": {
      "needs_background": "light"
     },
     "output_type": "display_data"
    }
   ],
   "source": [
    "qr = QuantumRegister(1)\n",
    "qc = QuantumCircuit(qr)\n",
    "\n",
    "vectors = []\n",
    "vectors.append(lq.get_bloch_vectors(qc)[0])\n",
    "for k in range(8):\n",
    "    qc.rx(π/8, qr[0])\n",
    "    vectors.append(lq.get_bloch_vectors(qc)[0])\n",
    "\n",
    "sphere = Bloch()\n",
    "sphere.vector_color = ['#dc267f']\n",
    "sphere.add_vectors(vectors)\n",
    "sphere.render()"
   ]
  },
  {
   "cell_type": "markdown",
   "metadata": {},
   "source": [
    "____\n",
    "## Single qubits in superposition"
   ]
  },
  {
   "cell_type": "code",
   "execution_count": 25,
   "metadata": {},
   "outputs": [
    {
     "data": {
      "text/latex": [
       "\\begin{equation*} \\vert \\psi\\rangle=\\frac{1}{\\sqrt{2}}\\big( \\vert0\\rangle-i \\vert1\\rangle\\big)\\end{equation*}"
      ],
      "text/plain": [
       "<IPython.core.display.Latex object>"
      ]
     },
     "metadata": {},
     "output_type": "display_data"
    }
   ],
   "source": [
    "circuit = QuantumCircuit(1)\n",
    "circuit.rx(π/2, 0)\n",
    "lq.show_state_vector(circuit)"
   ]
  },
  {
   "cell_type": "code",
   "execution_count": 26,
   "metadata": {},
   "outputs": [
    {
     "data": {
      "image/png": "[encoded data removed]",
      "text/plain": [
       "<Figure size 288x288 with 1 Axes>"
      ]
     },
     "execution_count": 26,
     "metadata": {},
     "output_type": "execute_result"
    }
   ],
   "source": [
    "plot_bloch_multivector(lq.execute_state_vector(circuit))"
   ]
  },
  {
   "cell_type": "code",
   "execution_count": 27,
   "metadata": {},
   "outputs": [
    {
     "data": {
      "text/latex": [
       "\\begin{equation*} \\vert \\psi\\rangle=\\frac{1}{\\sqrt{2}}\\big( \\vert0\\rangle-i \\vert1\\rangle\\big)\\end{equation*}"
      ],
      "text/plain": [
       "<IPython.core.display.Latex object>"
      ]
     },
     "metadata": {},
     "output_type": "display_data"
    }
   ],
   "source": [
    "lq.show_state_vector(circuit, show_zeros=True)"
   ]
  },
  {
   "cell_type": "code",
   "execution_count": 28,
   "metadata": {},
   "outputs": [
    {
     "data": {
      "text/latex": [
       "\\begin{equation*} \\vert \\psi_0\\rangle=cos\\left(\\frac{\\pi}{2}\\right)\\vert 0 \\rangle + sin\\left(\\frac{\\pi}{2}\\right)\\vert 1 \\rangle\\end{equation*}\\begin{equation} \\\\ \\end{equation}"
      ],
      "text/plain": [
       "<IPython.core.display.Latex object>"
      ]
     },
     "metadata": {},
     "output_type": "display_data"
    }
   ],
   "source": [
    "lq.show_bloch_angles(circuit)"
   ]
  },
  {
   "cell_type": "markdown",
   "metadata": {},
   "source": [
    "## Eigenvectors"
   ]
  },
  {
   "cell_type": "markdown",
   "metadata": {},
   "source": [
    "Eigenvectors are discussed in the Appendix on eignevectors for discrete systems, but this is not to understate their importance.  Eigenvectors are the same thing as \"quantum states,\" with an Eigenvector being the mathematical representation for an Eignstate or quantum state.  That is, any quantum system can be measured in a finite set of states.  Those states are the Eigenstates for the system.  A state can be in a superposition of Eigenstates, but when measured can only a be in single Eigenstate.  This is commonly referred to as \"collapsing\" -- a word that confuses the issue more than it explains or describes.   \n",
    "\n",
    "Here, Eigenvectors as just introduced without much explanation.  We will return to various Eigenvectors, Eigenvalues, Eignephases, and various other \"eigen\" properties of quantum systems throughout the book. All of quantum programming is manipulating a system to transition from one Eigenstate to another until it finally reaches the Eigenstate you want with a high degree of probability. \n",
    "\n",
    "Qiskit only measures in the computational basis, which means that any final output will be Eigenvectors of the standard basis. Typically, this is handled by rotating the state into the basis you wish to measure in and the conducting a measurement in the standard basis.\n",
    "\n",
    "This entire book is about how to manipulate Eigenstates within a quantum computer. The formal mathematics will be used where approriate, but if you really wish to understand quantum programming, a thorough understanding of Eigenvectors is essential. "
   ]
  },
  {
   "cell_type": "code",
   "execution_count": 29,
   "metadata": {},
   "outputs": [
    {
     "data": {
      "text/latex": [
       "\\begin{equation*}\\lambda_0=1,\\; v_0 = \\begin{pmatrix}1 \\\\ \n",
       " 0  \\\\ \n",
       "\\end{pmatrix}\\quad\\lambda_1=1,\\; v_1 = \\begin{pmatrix} 0  \\\\ \n",
       "1 \\\\ \n",
       "\\end{pmatrix}\\quad\\end{equation*}"
      ],
      "text/plain": [
       "<IPython.core.display.Latex object>"
      ]
     },
     "metadata": {},
     "output_type": "display_data"
    }
   ],
   "source": [
    "circuit = QuantumCircuit(1)\n",
    "lq.show_eigens(circuit)"
   ]
  },
  {
   "cell_type": "markdown",
   "metadata": {},
   "source": [
    "## Measurement"
   ]
  },
  {
   "cell_type": "markdown",
   "metadata": {},
   "source": [
    "You can measure in other basis by performing a rotation into that basis and conducting a measumrent.  The X basis is measured by performing a Hadamared transformation and the Y basis is measured by performing a $S^\\dagger$ and Hadamard.  \n",
    "\n",
    "Because the standard (Z) bases is definite, the other two are completely random. \n",
    "\n",
    "Note that the \"measureZ\" variable does not do anything.  It is not necessary for this example to work, but is put in to illustrate the three different measruements. "
   ]
  },
  {
   "cell_type": "code",
   "execution_count": 30,
   "metadata": {},
   "outputs": [
    {
     "name": "stdout",
     "output_type": "stream",
     "text": [
      "Reversed:X: [('0', 499), ('1', 501)]\n",
      "Reversed:Y: [('0', 509), ('1', 491)]\n",
      "Reversed:Z: [('1', 1000)]\n"
     ]
    }
   ],
   "source": [
    "qr = QuantumRegister(1)\n",
    "cr = ClassicalRegister(1)\n",
    "\n",
    "## Put the qubit in the 1 state in the standard basis (Z), \n",
    "# then measure it in the X, Y, Z\n",
    "base = QuantumCircuit(qr, cr)\n",
    "base.x(qr[0])\n",
    "\n",
    "measureZ = QuantumCircuit(qr, cr)\n",
    "\n",
    "measureX = QuantumCircuit(qr, cr)\n",
    "measureX.h(qr[0])\n",
    "\n",
    "measureY = QuantumCircuit(qr, cr)\n",
    "measureY.sdg(qr[0])\n",
    "measureY.h(qr[0])\n",
    "\n",
    "m = QuantumCircuit(qr, cr)\n",
    "m.measure(qr, cr)\n",
    "\n",
    "shots = 1000\n",
    "answers = lq.execute_simulated(base+measureX + m ,shots)\n",
    "lq.print_reverse_results(answers, label='X')\n",
    "\n",
    "answers = lq.execute_simulated(base + measureY + m ,shots)\n",
    "lq.print_reverse_results(answers, label='Y')\n",
    "\n",
    "answers = lq.execute_simulated(base + measureZ + m ,shots)\n",
    "lq.print_reverse_results(answers, label='Z')"
   ]
  },
  {
   "cell_type": "markdown",
   "metadata": {},
   "source": [
    "### Measurement support functions\n",
    "\n",
    "Measurement across various axes is such a common tool for understanding small scale quantum systems that the library has some tools to make the task simple.  The following is identical to above code block:\n"
   ]
  },
  {
   "cell_type": "code",
   "execution_count": 31,
   "metadata": {},
   "outputs": [
    {
     "name": "stdout",
     "output_type": "stream",
     "text": [
      "Reversed:X: [('0', 509), ('1', 491)]\n",
      "Reversed:Y: [('0', 506), ('1', 494)]\n",
      "Reversed:Z: [('1', 1000)]\n"
     ]
    }
   ],
   "source": [
    "qr = QuantumRegister(1)\n",
    "cr = ClassicalRegister(1)\n",
    "\n",
    "## Put the qubit in the 1 state in the standard basis (Z), \n",
    "# then measure it in the X, Y, Z\n",
    "base = QuantumCircuit(qr, cr)\n",
    "base.x(qr[0])\n",
    "\n",
    "lq.print_measurements('XYZ', base, qr, cr, shots=1000)"
   ]
  },
  {
   "cell_type": "markdown",
   "metadata": {},
   "source": [
    "## Basic superposition\n",
    "\n",
    "The following sets up a basic superposition.  The factor=False prevents the $\\frac{1}{\\sqrt{2}}$ from being factored out.  Depending on which aspects of the system you are looking at, sometimes it is easier to see relationships when the terms are factored out.  Other times, it is easier without the factoring."
   ]
  },
  {
   "cell_type": "code",
   "execution_count": 32,
   "metadata": {},
   "outputs": [
    {
     "data": {
      "text/latex": [
       "\\begin{equation*} \\vert \\psi_{Rx}\\rangle=\\frac{1}{\\sqrt{2}} \\vert0\\rangle-\\frac{1}{\\sqrt{2}}i \\vert1\\rangle\\end{equation*}"
      ],
      "text/plain": [
       "<IPython.core.display.Latex object>"
      ]
     },
     "metadata": {},
     "output_type": "display_data"
    }
   ],
   "source": [
    "circuit = QuantumCircuit(1,1)\n",
    "circuit.rx(π/2, 0)\n",
    "lq.show_state_vector(circuit, factor_out=False, label='\\psi_{Rx}')"
   ]
  },
  {
   "cell_type": "markdown",
   "metadata": {},
   "source": [
    "And you can \"colapse\" the state vector."
   ]
  },
  {
   "cell_type": "code",
   "execution_count": 33,
   "metadata": {},
   "outputs": [
    {
     "data": {
      "text/latex": [
       "\\begin{equation*} \\vert \\psi_{Rx-Rx}\\rangle=1 \\vert0\\rangle\\end{equation*}"
      ],
      "text/plain": [
       "<IPython.core.display.Latex object>"
      ]
     },
     "metadata": {},
     "output_type": "display_data"
    }
   ],
   "source": [
    "circuit.rx(-π/2, 0)\n",
    "lq.show_state_vector(circuit, label='\\psi_{Rx-Rx}')"
   ]
  },
  {
   "cell_type": "markdown",
   "metadata": {},
   "source": [
    "____\n",
    "When you want to perform a measruement on a circuit but also wish to evaluate the transformation matrix or some sub-part of it, split the circuit into multiple parts.  Here, the measurement is split off so that we can evalute the circuit in its state prior to the measruement. \n",
    "\n",
    "Note that if we are not passing the registers to any functions, you can leave off the QuantumRegister and ClassicalRegister declarations and just reference their indicies."
   ]
  },
  {
   "cell_type": "code",
   "execution_count": 34,
   "metadata": {},
   "outputs": [
    {
     "data": {
      "text/latex": [
       "\\begin{equation*} \\vert \\psi_{Meas}\\rangle=1 \\vert0\\rangle\\end{equation*}"
      ],
      "text/plain": [
       "<IPython.core.display.Latex object>"
      ]
     },
     "metadata": {},
     "output_type": "display_data"
    }
   ],
   "source": [
    "circuit = QuantumCircuit(1,1)\n",
    "m = QuantumCircuit(1,1)\n",
    "circuit.rx(π/2, 0)\n",
    "m.measure(0,0)\n",
    "lq.show_state_vector(circuit + m, label='\\psi_{Meas}')"
   ]
  },
  {
   "cell_type": "code",
   "execution_count": 35,
   "metadata": {},
   "outputs": [
    {
     "data": {
      "text/latex": [
       "\\begin{equation*}\\lambda_0=\\frac{1}{\\sqrt{2}}+\\frac{1}{\\sqrt{2}}i,\\; v_0 = \\frac{1}{\\sqrt{2}}\\begin{pmatrix}1 \\\\ \n",
       "-1 \\\\ \n",
       "\\end{pmatrix}\\quad\\lambda_1=\\frac{1}{\\sqrt{2}}-\\frac{1}{\\sqrt{2}}i,\\; v_1 = \\frac{1}{\\sqrt{2}}\\begin{pmatrix}1 \\\\ \n",
       "1 \\\\ \n",
       "\\end{pmatrix}\\quad\\end{equation*}"
      ],
      "text/plain": [
       "<IPython.core.display.Latex object>"
      ]
     },
     "metadata": {},
     "output_type": "display_data"
    }
   ],
   "source": [
    "lq.show_eigens(circuit)"
   ]
  },
  {
   "cell_type": "markdown",
   "metadata": {},
   "source": [
    "____\n",
    "## Gate Composition\n",
    "\n",
    "Gates are matricies and circuits, which are sequences of gates, a just matricies multiplied together.  However, the prior state vector is on the right, so the gates are applied in \"reverse\" order -- that is, from right-to-left.  The following is the general formula for the decomposition of any unitary matrix:\n",
    "\n",
    "\\begin{equation*}\n",
    "    e^{i\\alpha} \n",
    "    \\begin{pmatrix} e^{-i\\beta/2} & 0 \\\\ \n",
    "                0 & e^{i\\beta/2}\\end{pmatrix}\n",
    "    \\begin{pmatrix} \\cos{\\frac{\\gamma}{2}} & -\\sin{\\frac{\\gamma}{2}} \\\\\n",
    "    \\sin{\\frac{\\gamma}{2}} & \\cos{\\frac{\\gamma}{2}} \\end{pmatrix}\n",
    "    \\begin{pmatrix}e^{-i\\delta/2} & 0 \\\\\n",
    "    0 & e^{i\\delta/2} \\end{pmatrix}\n",
    "\\end{equation*}"
   ]
  },
  {
   "cell_type": "markdown",
   "metadata": {},
   "source": [
    "When working on constructing matricies, you can perform the multiplaction directly using numpy arrays or you can let Qiskit do it for you. Note that matricies are applied from right-to-left:"
   ]
  },
  {
   "cell_type": "code",
   "execution_count": 36,
   "metadata": {},
   "outputs": [
    {
     "data": {
      "text/latex": [
       "\\begin{equation*}\\frac{1}{\\sqrt{2}}\\begin{pmatrix}i & i \\\\ \n",
       "-i & i \\\\ \n",
       "\\end{pmatrix}\\end{equation*}"
      ],
      "text/plain": [
       "<IPython.core.display.Latex object>"
      ]
     },
     "metadata": {},
     "output_type": "display_data"
    }
   ],
   "source": [
    "show_array(lq.pauliX@lq.pauliY@lq.hadamard)"
   ]
  },
  {
   "cell_type": "code",
   "execution_count": 37,
   "metadata": {},
   "outputs": [
    {
     "data": {
      "text/latex": [
       "\\begin{equation*}\\frac{1}{\\sqrt{2}}\\begin{pmatrix}i & i \\\\ \n",
       "-i & i \\\\ \n",
       "\\end{pmatrix}\\end{equation*}"
      ],
      "text/plain": [
       "<IPython.core.display.Latex object>"
      ]
     },
     "metadata": {},
     "output_type": "display_data"
    }
   ],
   "source": [
    "circuit = QuantumCircuit(1)\n",
    "circuit.h(0)\n",
    "circuit.y(0)\n",
    "circuit.x(0)\n",
    "show_me_the_matrix(circuit)"
   ]
  },
  {
   "cell_type": "code",
   "execution_count": 26,
   "metadata": {},
   "outputs": [
    {
     "data": {
      "text/latex": [
       "\\begin{equation*} \\vert \\psi\\rangle=\\frac{1}{\\sqrt{2}}i \\vert0\\rangle-\\frac{1}{\\sqrt{2}}i \\vert1\\rangle\\end{equation*}"
      ],
      "text/plain": [
       "<IPython.core.display.Latex object>"
      ]
     },
     "metadata": {},
     "output_type": "display_data"
    }
   ],
   "source": [
    "lq.show_state_vector(circuit, factor_out=False)"
   ]
  },
  {
   "cell_type": "code",
   "execution_count": 38,
   "metadata": {},
   "outputs": [
    {
     "data": {
      "text/latex": [
       "\\begin{equation*}\\begin{pmatrix}\\frac{1}{\\sqrt{2}}i \\\\ \n",
       "-\\frac{1}{\\sqrt{2}}i \\\\ \n",
       "\\end{pmatrix}\\end{equation*}"
      ],
      "text/plain": [
       "<IPython.core.display.Latex object>"
      ]
     },
     "metadata": {},
     "output_type": "display_data"
    }
   ],
   "source": [
    "show_array(lq.what_is_the_state_vector(circuit), factor_out=False)"
   ]
  },
  {
   "cell_type": "markdown",
   "metadata": {},
   "source": [
    "___________\n",
    "The state vector is just the transformation matrix multiplied by the existing state vector.  For a newly intialized qubit, that is just ket('0')"
   ]
  },
  {
   "cell_type": "code",
   "execution_count": 39,
   "metadata": {},
   "outputs": [
    {
     "data": {
      "text/latex": [
       "\\begin{equation*}\\begin{pmatrix}\\frac{1}{\\sqrt{2}}i \\\\ \n",
       "-\\frac{1}{\\sqrt{2}}i \\\\ \n",
       "\\end{pmatrix}\\end{equation*}"
      ],
      "text/plain": [
       "<IPython.core.display.Latex object>"
      ]
     },
     "metadata": {},
     "output_type": "display_data"
    }
   ],
   "source": [
    "show_array(lq.pauliX@lq.pauliY@lq.hadamard@ket('0'), factor_out=False)"
   ]
  },
  {
   "cell_type": "markdown",
   "metadata": {},
   "source": [
    "# Exponential view\n",
    "\n",
    "When composing gates, it can be helpful to view the matrices as exponents."
   ]
  },
  {
   "cell_type": "code",
   "execution_count": 40,
   "metadata": {},
   "outputs": [
    {
     "data": {
      "text/latex": [
       "\\begin{equation*}\\frac{1}{\\sqrt{2}}\\begin{pmatrix}e^{\\frac{\\pi}{2} i} & e^{\\frac{\\pi}{2} i} \\\\ \n",
       "e^{\\frac{3\\pi}{2} i} & e^{\\frac{\\pi}{2} i} \\\\ \n",
       "\\end{pmatrix}\\end{equation*}"
      ],
      "text/plain": [
       "<IPython.core.display.Latex object>"
      ]
     },
     "metadata": {},
     "output_type": "display_data"
    }
   ],
   "source": [
    "show_array(lq.pauliX@lq.pauliY@lq.hadamard, display_exp=True)"
   ]
  },
  {
   "cell_type": "code",
   "execution_count": 41,
   "metadata": {},
   "outputs": [
    {
     "data": {
      "text/latex": [
       "\\begin{equation*}\\begin{pmatrix}1 &  0  \\\\ \n",
       " 0  & e^{\\frac{\\pi}{2} i} \\\\ \n",
       "\\end{pmatrix}\\end{equation*}"
      ],
      "text/plain": [
       "<IPython.core.display.Latex object>"
      ]
     },
     "metadata": {},
     "output_type": "display_data"
    }
   ],
   "source": [
    "circuit = QuantumCircuit(1)\n",
    "circuit.s(0)\n",
    "show_me_the_matrix(circuit, display_exp=True)"
   ]
  },
  {
   "cell_type": "code",
   "execution_count": 42,
   "metadata": {},
   "outputs": [
    {
     "data": {
      "text/latex": [
       "\\begin{equation*}\\begin{pmatrix}1 &  0  \\\\ \n",
       " 0  & e^{\\frac{\\pi}{4} i} \\\\ \n",
       "\\end{pmatrix}\\end{equation*}"
      ],
      "text/plain": [
       "<IPython.core.display.Latex object>"
      ]
     },
     "metadata": {},
     "output_type": "display_data"
    }
   ],
   "source": [
    "circuit = QuantumCircuit(1)\n",
    "circuit.t(0)\n",
    "show_me_the_matrix(circuit, display_exp=True)"
   ]
  },
  {
   "cell_type": "markdown",
   "metadata": {},
   "source": [
    "# Hadamard as Fourier Transformation\n",
    "\n",
    "The [Quantum Fourier Transformation](https://en.wikipedia.org/wiki/Quantum_Fourier_transform) will be used extensively and it is useful to think of the Hadamard gate as a 2x2 Fourier Tranformation.  The properties and uses of the Quantum Fourier Transforation will be covered in detail in the coming chapters, but it is useful to identify it as a simple case of the QFT rather than as the \"superposition\" gate.  Viewing it as an exponential makes this concept clear."
   ]
  },
  {
   "cell_type": "code",
   "execution_count": 43,
   "metadata": {},
   "outputs": [
    {
     "data": {
      "text/latex": [
       "\\begin{equation*}\\frac{1}{\\sqrt{2}}\\begin{pmatrix}1 & 1 \\\\ \n",
       "1 & e^{\\pi i} \\\\ \n",
       "\\end{pmatrix}\\end{equation*}"
      ],
      "text/plain": [
       "<IPython.core.display.Latex object>"
      ]
     },
     "metadata": {},
     "output_type": "display_data"
    }
   ],
   "source": [
    "circuit = QuantumCircuit(1)\n",
    "circuit.h(0)\n",
    "show_me_the_matrix(circuit, display_exp=True)"
   ]
  },
  {
   "cell_type": "markdown",
   "metadata": {},
   "source": [
    "You should also look at the eigenvectors of the Pauli-X matrix -- which are the columns of the Hadamard transformation.  This is not a conincidence and will be explored in the section on the Quantum Fourier Transformation."
   ]
  },
  {
   "cell_type": "code",
   "execution_count": 70,
   "metadata": {},
   "outputs": [
    {
     "data": {
      "text/latex": [
       "\\begin{equation*}\\lambda_0=1,\\; v_0 = \\frac{1}{\\sqrt{2}}\\begin{pmatrix}1 \\\\ \n",
       "1 \\\\ \n",
       "\\end{pmatrix}\\quad\\lambda_1=-1,\\; v_1 = \\frac{1}{\\sqrt{2}}\\begin{pmatrix}1 \\\\ \n",
       "-1 \\\\ \n",
       "\\end{pmatrix}\\quad\\end{equation*}"
      ],
      "text/plain": [
       "<IPython.core.display.Latex object>"
      ]
     },
     "metadata": {},
     "output_type": "display_data"
    }
   ],
   "source": [
    "lq.show_eigens(lq.pauliX)"
   ]
  },
  {
   "cell_type": "code",
   "execution_count": 71,
   "metadata": {},
   "outputs": [
    {
     "data": {
      "text/latex": [
       "\\begin{equation*}\\frac{1}{\\sqrt{2}}\\begin{pmatrix}1 & 1 \\\\ \n",
       "1 & -1 \\\\ \n",
       "\\end{pmatrix}\\end{equation*}"
      ],
      "text/plain": [
       "<IPython.core.display.Latex object>"
      ]
     },
     "metadata": {},
     "output_type": "display_data"
    }
   ],
   "source": [
    "show_array(lq.hadamard)"
   ]
  },
  {
   "cell_type": "markdown",
   "metadata": {},
   "source": [
    "## Mechanical Composition"
   ]
  },
  {
   "cell_type": "code",
   "execution_count": 44,
   "metadata": {},
   "outputs": [
    {
     "data": {
      "image/png": "[encoded data removed]",
      "text/plain": [
       "<Figure size 545.412x84.28 with 1 Axes>"
      ]
     },
     "execution_count": 44,
     "metadata": {},
     "output_type": "execute_result"
    }
   ],
   "source": [
    "qr = QuantumRegister(1,'r1') ## Apply a label to identify in the circuit diagram\n",
    "custom = QuantumCircuit(qr)\n",
    "\n",
    "alpha = π/4\n",
    "beta = π/2\n",
    "gamma = π/2\n",
    "delta = -π/2\n",
    "\n",
    "custom.append(lq.rrz_gate(delta), [qr[0]])\n",
    "custom.ry(gamma, qr[0])\n",
    "custom.append(lq.rrz_gate(beta), [qr[0]])\n",
    "custom.append(lq.global_gate(alpha), [qr[0]])\n",
    "\n",
    "custom.draw(output='mpl')"
   ]
  },
  {
   "cell_type": "markdown",
   "metadata": {},
   "source": [
    "## Relative Phase"
   ]
  },
  {
   "cell_type": "code",
   "execution_count": 3,
   "metadata": {},
   "outputs": [
    {
     "data": {
      "text/latex": [
       "\\begin{equation*}\\begin{pmatrix}1 &  0  \\\\ \n",
       " 0  & e^{\\frac{\\pi}{2} i} \\\\ \n",
       "\\end{pmatrix}\\end{equation*}"
      ],
      "text/plain": [
       "<IPython.core.display.Latex object>"
      ]
     },
     "metadata": {},
     "output_type": "display_data"
    }
   ],
   "source": [
    "qc = QuantumCircuit(1)\n",
    "qc.s(0)\n",
    "lq.show_me_the_matrix(qc, display_exp=True)"
   ]
  },
  {
   "cell_type": "code",
   "execution_count": 4,
   "metadata": {},
   "outputs": [
    {
     "data": {
      "text/latex": [
       "\\begin{equation*}\\begin{pmatrix}1 &  0  \\\\ \n",
       " 0  & e^{\\frac{\\pi}{4} i} \\\\ \n",
       "\\end{pmatrix}\\end{equation*}"
      ],
      "text/plain": [
       "<IPython.core.display.Latex object>"
      ]
     },
     "metadata": {},
     "output_type": "display_data"
    }
   ],
   "source": [
    "qc = QuantumCircuit(1)\n",
    "qc.t(0)\n",
    "lq.show_me_the_matrix(qc, display_exp=True)"
   ]
  },
  {
   "cell_type": "code",
   "execution_count": 5,
   "metadata": {},
   "outputs": [
    {
     "data": {
      "text/latex": [
       "\\begin{equation*}\\begin{pmatrix}1 &  0  \\\\ \n",
       " 0  & e^{\\frac{\\pi}{8} i} \\\\ \n",
       "\\end{pmatrix}\\end{equation*}"
      ],
      "text/plain": [
       "<IPython.core.display.Latex object>"
      ]
     },
     "metadata": {},
     "output_type": "display_data"
    }
   ],
   "source": [
    "qc = QuantumCircuit(1)\n",
    "qc.u1(π/8, 0)\n",
    "lq.show_me_the_matrix(qc, display_exp=True)"
   ]
  },
  {
   "cell_type": "markdown",
   "metadata": {},
   "source": [
    "## Exercise 1"
   ]
  },
  {
   "cell_type": "code",
   "execution_count": 45,
   "metadata": {},
   "outputs": [
    {
     "name": "stdout",
     "output_type": "stream",
     "text": [
      "alpha= 0, beta= 0, gamma= pi/3, delta=0\n"
     ]
    }
   ],
   "source": [
    "u = sqrt(3/4)*ket('0')@bra('0') \\\n",
    "    - sqrt(1/4)*ket('0')@bra('1') \\\n",
    "    + sqrt(1/4)*ket('1')@bra('0') \\\n",
    "    + sqrt(3/4)*ket('1')@bra('1')\n",
    "\n",
    "lq.decompose_single(u)\n"
   ]
  },
  {
   "cell_type": "code",
   "execution_count": 46,
   "metadata": {},
   "outputs": [
    {
     "name": "stdout",
     "output_type": "stream",
     "text": [
      "Reversed: [('0', 746), ('1', 254)]\n"
     ]
    }
   ],
   "source": [
    "qr = QuantumRegister(1)\n",
    "cr = ClassicalRegister(1)\n",
    "circuit = QuantumCircuit(qr, cr)\n",
    "circuit.ry(π/3, qr[0])\n",
    "m = QuantumCircuit(qr, cr)\n",
    "m.measure(qr, cr)\n",
    "answers = lq.execute_simulated(circuit+m ,1000, \n",
    "                              seed_simulator=12345)\n",
    "lq.print_reverse_results(answers)"
   ]
  },
  {
   "cell_type": "markdown",
   "metadata": {},
   "source": [
    "## Exercise 2\n",
    "In this exercies, the negative sign is moved to the last term.  You can verify this still gives the same probability distribution when measured in the standard basis.  But it gives a very different probability distributions from the Ry rotation when they are both measured in the Hadamard basis.  This is because the \"relative phase\" of the systems is different -- in this case opposite.  When the system is rotated into a basis that reflects that phase, the results  will be different (in this case opposite). \n",
    "\n",
    "Here, the system in Exercise 1 was under specified.  In our initial setup, the only requirment was a single axis measurement split 75/25.  This gave several options for how to handle the phase --- none of which affected the outcome of the simple exercies.  For most quantum programs, the phase is a major component of the computation and it needs to be properly defined.\n",
    "\n",
    "This exerise introduces lq.decompose_single_qiskit(u) -- which decomposes a single qubit matrix into a single U3 gate.  The decompose_single function would work as well, but would requipe multiple gates.  To keep the example as simple as possible, it is easier to use the qiskit single gate decomposition. "
   ]
  },
  {
   "cell_type": "code",
   "execution_count": 47,
   "metadata": {},
   "outputs": [
    {
     "name": "stdout",
     "output_type": "stream",
     "text": [
      "theta= pi/3, phi= 0, lambda= pi, phase=0\n"
     ]
    }
   ],
   "source": [
    "u = sqrt(3/4)*ket('0')@bra('0')  \\\n",
    "    + sqrt(1/4)*ket('0')@bra('1') \\\n",
    "    + sqrt(1/4)*ket('1')@bra('0') \\\n",
    "    - sqrt(3/4)*ket('1')@bra('1')\n",
    "\n",
    "lq.decompose_single_qiskit(u)"
   ]
  },
  {
   "cell_type": "code",
   "execution_count": 48,
   "metadata": {},
   "outputs": [
    {
     "data": {
      "text/latex": [
       "\\begin{equation*}U3(\\pi/3,0,\\pi) = \\begin{pmatrix}\\frac{\\sqrt{3}}{2} & \\frac{1}{2} \\\\ \n",
       "\\frac{1}{2} & -\\frac{\\sqrt{3}}{2} \\\\ \n",
       "\\end{pmatrix}\\end{equation*}"
      ],
      "text/plain": [
       "<IPython.core.display.Latex object>"
      ]
     },
     "metadata": {},
     "output_type": "display_data"
    }
   ],
   "source": [
    "qc = QuantumCircuit(1)\n",
    "qc.u3(π/3,0, π, 0)\n",
    "show_me_the_matrix(qc, label='U3(\\pi/3,0,\\pi)')"
   ]
  },
  {
   "cell_type": "code",
   "execution_count": 49,
   "metadata": {},
   "outputs": [
    {
     "data": {
      "text/latex": [
       "\\begin{equation*}R_y = \\begin{pmatrix}\\frac{\\sqrt{3}}{2} & -\\frac{1}{2} \\\\ \n",
       "\\frac{1}{2} & \\frac{\\sqrt{3}}{2} \\\\ \n",
       "\\end{pmatrix}\\end{equation*}"
      ],
      "text/plain": [
       "<IPython.core.display.Latex object>"
      ]
     },
     "metadata": {},
     "output_type": "display_data"
    }
   ],
   "source": [
    "qc = QuantumCircuit(1)\n",
    "qc.ry(π/3, 0)\n",
    "show_me_the_matrix(qc, label='R_y')"
   ]
  },
  {
   "cell_type": "code",
   "execution_count": 50,
   "metadata": {},
   "outputs": [
    {
     "name": "stdout",
     "output_type": "stream",
     "text": [
      "Reversed: [('0', 66), ('1', 934)]\n"
     ]
    }
   ],
   "source": [
    "qr = QuantumRegister(1)\n",
    "cr = ClassicalRegister(1)\n",
    "rel_phase = QuantumCircuit(qr, cr)\n",
    "rel_phase.u3(-pi/3,0, pi, qr[0])\n",
    "rel_phase.h(qr[0])\n",
    "\n",
    "m_rel = QuantumCircuit(qr , cr)\n",
    "m_rel.measure(qr[0], cr[0])\n",
    "\n",
    "answers = lq.execute_simulated(rel_phase + m_rel ,1000, \n",
    "                              seed_simulator=12345)\n",
    "lq.print_reverse_results(answers)"
   ]
  },
  {
   "cell_type": "code",
   "execution_count": 51,
   "metadata": {},
   "outputs": [
    {
     "name": "stdout",
     "output_type": "stream",
     "text": [
      "Reversed: [('0', 945), ('1', 55)]\n"
     ]
    }
   ],
   "source": [
    "qr = QuantumRegister(1)\n",
    "cr = ClassicalRegister(1)\n",
    "initial_ry = QuantumCircuit(qr, cr)\n",
    "initial_ry.ry(π/3, qr[0])\n",
    "initial_ry.h(qr[0])\n",
    "\n",
    "m_ry = QuantumCircuit(qr , cr)\n",
    "m_ry.measure(qr[0], cr[0])\n",
    "\n",
    "answers = lq.execute_simulated(initial_ry + m_ry ,1000, \n",
    "                              seed_simulator=12345)\n",
    "lq.print_reverse_results(answers)"
   ]
  },
  {
   "cell_type": "code",
   "execution_count": 52,
   "metadata": {},
   "outputs": [
    {
     "data": {
      "text/latex": [
       "\\begin{equation*} \\vert \\psi_{u3}\\rangle=0.2588 \\vert0\\rangle+0.9659 \\vert1\\rangle\\end{equation*}"
      ],
      "text/plain": [
       "<IPython.core.display.Latex object>"
      ]
     },
     "metadata": {},
     "output_type": "display_data"
    }
   ],
   "source": [
    "lq.show_state_vector(rel_phase, label='\\psi_{u3}')"
   ]
  },
  {
   "cell_type": "code",
   "execution_count": 53,
   "metadata": {},
   "outputs": [
    {
     "data": {
      "text/latex": [
       "\\begin{equation*} \\vert \\psi_{Ry}\\rangle=0.9659 \\vert0\\rangle+0.2588 \\vert1\\rangle\\end{equation*}"
      ],
      "text/plain": [
       "<IPython.core.display.Latex object>"
      ]
     },
     "metadata": {},
     "output_type": "display_data"
    }
   ],
   "source": [
    "lq.show_state_vector(initial_ry, label='\\psi_{Ry}')"
   ]
  },
  {
   "cell_type": "markdown",
   "metadata": {},
   "source": [
    "## Exercise 3\n",
    "See text, no code."
   ]
  },
  {
   "cell_type": "markdown",
   "metadata": {},
   "source": [
    "## Exercise 4"
   ]
  },
  {
   "cell_type": "code",
   "execution_count": 54,
   "metadata": {},
   "outputs": [
    {
     "data": {
      "text/plain": [
       "array([[ 0.70710678,  0.70710678],\n",
       "       [ 0.70710678, -0.70710678]])"
      ]
     },
     "execution_count": 54,
     "metadata": {},
     "output_type": "execute_result"
    }
   ],
   "source": [
    "ket('0')@bra('+')  + ket('1')@bra('-')"
   ]
  },
  {
   "cell_type": "markdown",
   "metadata": {},
   "source": [
    "## Exercise 5"
   ]
  },
  {
   "cell_type": "code",
   "execution_count": 55,
   "metadata": {},
   "outputs": [
    {
     "name": "stdout",
     "output_type": "stream",
     "text": [
      "alpha= pi/2, beta= 0, gamma= pi/2, delta=pi\n"
     ]
    }
   ],
   "source": [
    "lq.decompose_single(lq.hadamard)"
   ]
  },
  {
   "cell_type": "code",
   "execution_count": 12,
   "metadata": {},
   "outputs": [
    {
     "data": {
      "text/latex": [
       "\\begin{equation*}Hadamard = \\frac{1}{\\sqrt{2}}\\begin{pmatrix}1 & 1 \\\\ \n",
       "1 & -1 \\\\ \n",
       "\\end{pmatrix}\\end{equation*}"
      ],
      "text/plain": [
       "<IPython.core.display.Latex object>"
      ]
     },
     "metadata": {},
     "output_type": "display_data"
    }
   ],
   "source": [
    "circuit = QuantumCircuit(1)\n",
    "\n",
    "circuit.rz(pi, 0)\n",
    "circuit.ry(pi/2, 0)\n",
    "\n",
    "show_me_the_matrix(circuit, label='Hadamard')"
   ]
  },
  {
   "cell_type": "code",
   "execution_count": 57,
   "metadata": {},
   "outputs": [
    {
     "data": {
      "text/html": [
       "<pre style=\"word-wrap: normal;white-space: pre;background: #fff0;line-height: 1.1;font-family: &quot;Courier New&quot;,Courier,monospace\">        ┌───┐\n",
       "q_0: |0>┤ H ├\n",
       "        └───┘</pre>"
      ],
      "text/plain": [
       "<qiskit.visualization.text.TextDrawing at 0x14528a9b0>"
      ]
     },
     "execution_count": 57,
     "metadata": {},
     "output_type": "execute_result"
    }
   ],
   "source": [
    "circuit = QuantumCircuit(1)\n",
    "circuit.h(0)\n",
    "circuit.draw()"
   ]
  },
  {
   "cell_type": "code",
   "execution_count": 58,
   "metadata": {},
   "outputs": [
    {
     "data": {
      "text/html": [
       "<pre style=\"word-wrap: normal;white-space: pre;background: #fff0;line-height: 1.1;font-family: &quot;Courier New&quot;,Courier,monospace\">        ┌──────────┐\n",
       "q_0: |0>┤ U2(0,pi) ├\n",
       "        └──────────┘</pre>"
      ],
      "text/plain": [
       "<qiskit.visualization.text.TextDrawing at 0x14538fd30>"
      ]
     },
     "execution_count": 58,
     "metadata": {},
     "output_type": "execute_result"
    }
   ],
   "source": [
    "circuit = QuantumCircuit(1)\n",
    "circuit.h(0)\n",
    "circuit.decompose().draw()"
   ]
  },
  {
   "cell_type": "markdown",
   "metadata": {},
   "source": [
    "## Exercise 6"
   ]
  },
  {
   "cell_type": "code",
   "execution_count": 59,
   "metadata": {},
   "outputs": [
    {
     "data": {
      "text/latex": [
       "\\begin{equation*}Hadamard = \\frac{1}{2}\\begin{pmatrix}1+i & 1+i \\\\ \n",
       "1+i & -1-i \\\\ \n",
       "\\end{pmatrix}\\end{equation*}"
      ],
      "text/plain": [
       "<IPython.core.display.Latex object>"
      ]
     },
     "metadata": {},
     "output_type": "display_data"
    }
   ],
   "source": [
    "qr = QuantumRegister(1)\n",
    "circuit = QuantumCircuit(qr)\n",
    "circuit.append(lq.global_gate(π/4), [qr[0]])\n",
    "circuit.h(qr[0])\n",
    "show_me_the_matrix(circuit, label='Hadamard')"
   ]
  },
  {
   "cell_type": "markdown",
   "metadata": {},
   "source": [
    "## Exercise 7"
   ]
  },
  {
   "cell_type": "code",
   "execution_count": 60,
   "metadata": {},
   "outputs": [
    {
     "name": "stdout",
     "output_type": "stream",
     "text": [
      "alpha= pi/4, beta= 3/2, gamma= pi/2, delta=pi/2\n"
     ]
    }
   ],
   "source": [
    "srn = np.array([[0.5+0.5j, 0.5-0.5j],\n",
    "       [0.5-0.5j, 0.5+0.5j]])\n",
    "lq.decompose_single(srn)"
   ]
  },
  {
   "cell_type": "code",
   "execution_count": 62,
   "metadata": {},
   "outputs": [
    {
     "data": {
      "text/latex": [
       "\\begin{equation*}\\sqrt{NOT} = \\frac{1}{2}\\begin{pmatrix}1+i & 1-i \\\\ \n",
       "1-i & 1+i \\\\ \n",
       "\\end{pmatrix}\\end{equation*}"
      ],
      "text/plain": [
       "<IPython.core.display.Latex object>"
      ]
     },
     "metadata": {},
     "output_type": "display_data"
    }
   ],
   "source": [
    "qr = QuantumRegister(1)\n",
    "circuit = QuantumCircuit(qr)\n",
    "\n",
    "alpha = π/4\n",
    "beta = -π/2\n",
    "gamma = π/2\n",
    "delta = π/2\n",
    "\n",
    "circuit.append(lq.rrz_gate(delta), [qr[0]])\n",
    "circuit.ry(gamma, qr)\n",
    "circuit.append(lq.rrz_gate(beta), [qr[0]])\n",
    "circuit.append(lq.global_gate(π/4), [qr[0]])\n",
    "\n",
    "show_me_the_matrix(circuit, label='\\sqrt{NOT}')"
   ]
  },
  {
   "cell_type": "code",
   "execution_count": 63,
   "metadata": {},
   "outputs": [
    {
     "data": {
      "text/latex": [
       "\\begin{equation*}\\sqrt{NOT} = \\frac{1}{2}\\begin{pmatrix}1+i & 1-i \\\\ \n",
       "1-i & 1+i \\\\ \n",
       "\\end{pmatrix}\\end{equation*}"
      ],
      "text/plain": [
       "<IPython.core.display.Latex object>"
      ]
     },
     "metadata": {},
     "output_type": "display_data"
    }
   ],
   "source": [
    "qc_srn = QuantumCircuit(1)\n",
    "qc_srn.h(0)\n",
    "qc_srn.s(0)\n",
    "qc_srn.h(0)\n",
    "show_me_the_matrix(qc_srn, label='\\sqrt{NOT}')"
   ]
  },
  {
   "cell_type": "code",
   "execution_count": 64,
   "metadata": {},
   "outputs": [
    {
     "name": "stdout",
     "output_type": "stream",
     "text": [
      "theta= pi/2, phi= 3/2, lambda= pi/2, phase=pi/4\n"
     ]
    }
   ],
   "source": [
    "lq.decompose_single_qiskit(srn)"
   ]
  },
  {
   "cell_type": "code",
   "execution_count": 65,
   "metadata": {},
   "outputs": [],
   "source": [
    "from qiskit.quantum_info.operators import Operator"
   ]
  },
  {
   "cell_type": "code",
   "execution_count": 66,
   "metadata": {},
   "outputs": [
    {
     "name": "stdout",
     "output_type": "stream",
     "text": [
      "          ┌─────────────────────┐\n",
      "q12_0: |0>┤ U3(pi/2,-pi/2,pi/2) ├\n",
      "          └─────────────────────┘\n"
     ]
    }
   ],
   "source": [
    "srn_gate = Operator(srn)\n",
    "qr = QuantumRegister(1)\n",
    "circ = QuantumCircuit(qr)\n",
    "circ.append(srn_gate, [qr[0]])\n",
    "print(circ.decompose().draw())\n"
   ]
  },
  {
   "cell_type": "code",
   "execution_count": 68,
   "metadata": {},
   "outputs": [
    {
     "data": {
      "text/latex": [
       "\\begin{equation*}\\sqrt{NOT} = \\frac{1}{\\sqrt{2}}\\begin{pmatrix}1 & -i \\\\ \n",
       "-i & 1 \\\\ \n",
       "\\end{pmatrix}\\end{equation*}"
      ],
      "text/plain": [
       "<IPython.core.display.Latex object>"
      ]
     },
     "metadata": {},
     "output_type": "display_data"
    }
   ],
   "source": [
    "qc_no_global = QuantumCircuit(1)\n",
    "qc_no_global.u3(π/2, -π/2, π/2, 0)\n",
    "show_me_the_matrix(qc_no_global, label='\\sqrt{NOT}')\n"
   ]
  },
  {
   "cell_type": "code",
   "execution_count": 69,
   "metadata": {},
   "outputs": [
    {
     "data": {
      "text/plain": [
       "True"
      ]
     },
     "execution_count": 69,
     "metadata": {},
     "output_type": "execute_result"
    }
   ],
   "source": [
    "# Compare the two matrices with ignore_phase\n",
    "mat = lq.what_is_the_matrix(qc_srn)\n",
    "mat2 = lq.what_is_the_matrix(qc_no_global)\n",
    "from qiskit.quantum_info.operators.predicates import matrix_equal\n",
    "matrix_equal(mat, mat2, ignore_phase=True)"
   ]
  },
  {
   "cell_type": "code",
   "execution_count": null,
   "metadata": {},
   "outputs": [],
   "source": []
  }
 ],
 "metadata": {
  "kernelspec": {
   "display_name": "Python 3",
   "language": "python",
   "name": "python3"
  },
  "language_info": {
   "codemirror_mode": {
    "name": "ipython",
    "version": 3
   },
   "file_extension": ".py",
   "mimetype": "text/x-python",
   "name": "python",
   "nbconvert_exporter": "python",
   "pygments_lexer": "ipython3",
   "version": "3.7.2"
  }
 },
 "nbformat": 4,
 "nbformat_minor": 2
}
