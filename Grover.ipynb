{
 "cells": [
  {
   "cell_type": "markdown",
   "metadata": {},
   "source": [
    "# Grover\n",
    "\n",
    "Demonstrates amplitude amplification  using a 2-qubit application using z-axis rotations to mark the state (See https://qiskit.org/textbook/ch-algorithms/grover.html).\n",
    "\n",
    "However, the Qiskit textbook presents a multiple marked circuit for the 3-qubit system which does not demostrate the need to iterate over the Grover operator.\n",
    "\n",
    "First, a 3-Qubit with no ancilla is presented. \n",
    "\n",
    "Then, a technique using ancilla is presented. (See https://arxiv.org/pdf/1903.04359.pdf).  "
   ]
  },
  {
   "cell_type": "code",
   "execution_count": 1,
   "metadata": {},
   "outputs": [],
   "source": [
    "import numpy as np\n",
    "\n",
    "from math import ceil, sqrt, log2\n",
    "from random import randint\n",
    "\n",
    "from fractions import Fraction\n",
    "\n",
    "from qiskit.visualization import plot_histogram\n",
    "from qiskit import QuantumRegister, ClassicalRegister, QuantumCircuit, execute\n",
    "import learn_quantum as lq\n",
    "from learn_quantum import imag, ket, bra, np_array_to_latex as a_to_l\n",
    "from IPython.display import Latex\n",
    "import numpy as np\n",
    "from numpy import pi, cos, sin, exp, gcd, lcm, pi as π\n",
    "from qiskit.aqua.circuits import gates\n",
    "\n",
    "import matplotlib.pyplot as plt\n",
    "\n"
   ]
  },
  {
   "cell_type": "markdown",
   "metadata": {},
   "source": [
    "### Setup\n",
    "\n",
    "Some functions to display the results"
   ]
  },
  {
   "cell_type": "code",
   "execution_count": 262,
   "metadata": {},
   "outputs": [],
   "source": [
    "split_color=['#C00', '#000', '#000']\n",
    "def sv(circuit):\n",
    "    lq.show_state_vector(circuit, split_registers=True, split_color=split_color, integer=False)\n",
    "    \n",
    "    \n",
    "def plot_grover(qc, truncate_size):\n",
    "       \n",
    "    ket_format = lq.format_state_vector(lq.execute_state_vector(qc), show_zeros=False)\n",
    "    x_axis_data = []\n",
    "    y_axis_data = []\n",
    "    total = 0\n",
    "    count = 0\n",
    "    for k, v in sorted(ket_format.items()):\n",
    "        v = v.real\n",
    "        x_axis_data.append(k[:len(k)-truncate_size])\n",
    "        y_axis_data.append(v)\n",
    "        total += v\n",
    "        count += 1\n",
    "\n",
    "    average = total/count\n",
    "    fig, axes = plt.subplots(1, 1, figsize=(10,5))\n",
    "\n",
    "    plt.plot([-1, 8], [average, average], 'r--')\n",
    "    axes.text(-1.3, average+.03, 'Avg='+str(round(average,2)), color='red')\n",
    "    plt.grid()\n",
    "\n",
    "    axes.set_ylim([-1.2, 1.2])\n",
    "    plt.bar(x_axis_data, y_axis_data)\n",
    "    \n",
    "    for i, v in enumerate(y_axis_data):\n",
    "        axes.text(i, 1,  str(round(v, 2)), color='blue', fontweight='bold', ha='center')\n",
    "    \n",
    "    plt.show()"
   ]
  },
  {
   "cell_type": "markdown",
   "metadata": {},
   "source": [
    "## 2-Qubit Grover using Z gates to mark"
   ]
  },
  {
   "cell_type": "code",
   "execution_count": 317,
   "metadata": {},
   "outputs": [
    {
     "data": {
      "text/latex": [
       "\\begin{equation*} \\vert \\psi\\rangle=\\frac{1}{2}\\big( \\vert\\textbf{00}\\rangle+ \\vert\\textbf{01}\\rangle+ \\vert\\textbf{10}\\rangle+ \\vert\\textbf{11}\\rangle\\big)\\end{equation*}"
      ],
      "text/plain": [
       "<IPython.core.display.Latex object>"
      ]
     },
     "metadata": {},
     "output_type": "display_data"
    },
    {
     "data": {
      "text/latex": [
       "\\begin{equation*} \\vert \\psi\\rangle=\\frac{1}{2}\\big( \\vert\\textbf{00}\\rangle+ \\vert\\textbf{01}\\rangle-1 \\vert\\textbf{10}\\rangle+ \\vert\\textbf{11}\\rangle\\big)\\end{equation*}"
      ],
      "text/plain": [
       "<IPython.core.display.Latex object>"
      ]
     },
     "metadata": {},
     "output_type": "display_data"
    },
    {
     "data": {
      "text/latex": [
       "\\begin{equation*} \\vert \\psi\\rangle=-1 \\vert\\textbf{10}\\rangle\\end{equation*}"
      ],
      "text/plain": [
       "<IPython.core.display.Latex object>"
      ]
     },
     "metadata": {},
     "output_type": "display_data"
    },
    {
     "name": "stdout",
     "output_type": "stream",
     "text": [
      "Reversed: [('10', 1000)]\n"
     ]
    }
   ],
   "source": [
    "\n",
    "oracle_size = 2\n",
    "\n",
    "oracle = QuantumRegister(oracle_size,'ora')\n",
    "cr_oracle = ClassicalRegister(oracle_size)\n",
    "\n",
    "init = QuantumCircuit(oracle)\n",
    "init.h(oracle)\n",
    "\n",
    "sv(init)\n",
    "\n",
    "# mark the stae 10 -- use the z gate to mark\n",
    "mark = QuantumCircuit(oracle)\n",
    "mark.z(oracle[0])\n",
    "mark.cz(oracle[0], oracle[1])\n",
    "\n",
    "sv(init+mark)\n",
    "\n",
    "diffusion = QuantumCircuit(oracle)\n",
    "diffusion.h(oracle)\n",
    "diffusion.x(oracle)\n",
    "diffusion.h(oracle[1])\n",
    "diffusion.cx(oracle[0], oracle[1])\n",
    "diffusion.h(oracle[1])\n",
    "diffusion.x(oracle)\n",
    "diffusion.h(oracle)\n",
    "\n",
    "sv(init+mark+diffusion)\n",
    "\n",
    "\n",
    "m = QuantumCircuit(oracle, cr_oracle)\n",
    "\n",
    "m.measure(oracle, cr_oracle)\n",
    "\n",
    "answers = lq.execute_simulated(qc+grover+m, 1000)\n",
    "lq.print_reverse_results(answers, integer=False)"
   ]
  },
  {
   "cell_type": "code",
   "execution_count": 318,
   "metadata": {},
   "outputs": [
    {
     "data": {
      "text/latex": [
       "\\begin{equation*}\\begin{pmatrix}\\frac{1}{2} & -\\frac{1}{2} & -\\frac{1}{2} & -\\frac{1}{2} \\\\ \n",
       "-\\frac{1}{2} & \\frac{1}{2} & -\\frac{1}{2} & -\\frac{1}{2} \\\\ \n",
       "-\\frac{1}{2} & -\\frac{1}{2} & \\frac{1}{2} & -\\frac{1}{2} \\\\ \n",
       "-\\frac{1}{2} & -\\frac{1}{2} & -\\frac{1}{2} & \\frac{1}{2} \\\\ \n",
       "\\end{pmatrix}\\end{equation*}"
      ],
      "text/plain": [
       "<IPython.core.display.Latex object>"
      ]
     },
     "metadata": {},
     "output_type": "display_data"
    }
   ],
   "source": [
    "lq.show_me_the_matrix(diffusion, factor_out=False)"
   ]
  },
  {
   "cell_type": "code",
   "execution_count": 321,
   "metadata": {},
   "outputs": [
    {
     "data": {
      "image/png": "[encoded data removed]",
      "text/plain": [
       "<Figure size 780.192x144.48 with 1 Axes>"
      ]
     },
     "execution_count": 321,
     "metadata": {},
     "output_type": "execute_result"
    }
   ],
   "source": [
    "(init+mark+diffusion).draw(output='mpl')"
   ]
  },
  {
   "cell_type": "markdown",
   "metadata": {},
   "source": [
    "## 3-Qubit no ancilla"
   ]
  },
  {
   "cell_type": "code",
   "execution_count": 387,
   "metadata": {},
   "outputs": [
    {
     "data": {
      "text/latex": [
       "\\begin{equation*} \\vert \\psi\\rangle=\\frac{1}{2\\sqrt{2}}\\big(1 \\vert\\textbf{000}\\rangle+1 \\vert\\textbf{001}\\rangle+1 \\vert\\textbf{010}\\rangle+1 \\vert\\textbf{011}\\rangle+1 \\vert\\textbf{100}\\rangle+1 \\vert\\textbf{101}\\rangle+1 \\vert\\textbf{110}\\rangle+1 \\vert\\textbf{111}\\rangle\\big)\\end{equation*}"
      ],
      "text/plain": [
       "<IPython.core.display.Latex object>"
      ]
     },
     "metadata": {},
     "output_type": "display_data"
    },
    {
     "data": {
      "text/latex": [
       "\\begin{equation*} \\vert \\psi\\rangle=\\frac{1}{2\\sqrt{2}}\\big(1 \\vert\\textbf{000}\\rangle+1 \\vert\\textbf{001}\\rangle-1 \\vert\\textbf{010}\\rangle+1 \\vert\\textbf{011}\\rangle+1 \\vert\\textbf{100}\\rangle+1 \\vert\\textbf{101}\\rangle+1 \\vert\\textbf{110}\\rangle+1 \\vert\\textbf{111}\\rangle\\big)\\end{equation*}"
      ],
      "text/plain": [
       "<IPython.core.display.Latex object>"
      ]
     },
     "metadata": {},
     "output_type": "display_data"
    },
    {
     "data": {
      "text/latex": [
       "\\begin{equation*} \\vert \\psi\\rangle=-\\frac{1}{4\\sqrt{2}} \\vert\\textbf{000}\\rangle-\\frac{1}{4\\sqrt{2}} \\vert\\textbf{001}\\rangle-\\frac{5}{4\\sqrt{2}} \\vert\\textbf{010}\\rangle-\\frac{1}{4\\sqrt{2}} \\vert\\textbf{011}\\rangle-\\frac{1}{4\\sqrt{2}} \\vert\\textbf{100}\\rangle-\\frac{1}{4\\sqrt{2}} \\vert\\textbf{101}\\rangle-\\frac{1}{4\\sqrt{2}} \\vert\\textbf{110}\\rangle-\\frac{1}{4\\sqrt{2}} \\vert\\textbf{111}\\rangle\\end{equation*}"
      ],
      "text/plain": [
       "<IPython.core.display.Latex object>"
      ]
     },
     "metadata": {},
     "output_type": "display_data"
    },
    {
     "name": "stdout",
     "output_type": "stream",
     "text": [
      "Iteration: 0\n"
     ]
    },
    {
     "data": {
      "text/latex": [
       "\\begin{equation*} \\vert \\psi\\rangle=\\frac{1}{2\\sqrt{2}}\\big(1 \\vert\\textbf{000}\\rangle+1 \\vert\\textbf{001}\\rangle-1 \\vert\\textbf{010}\\rangle+1 \\vert\\textbf{011}\\rangle+1 \\vert\\textbf{100}\\rangle+1 \\vert\\textbf{101}\\rangle+1 \\vert\\textbf{110}\\rangle+1 \\vert\\textbf{111}\\rangle\\big)\\end{equation*}"
      ],
      "text/plain": [
       "<IPython.core.display.Latex object>"
      ]
     },
     "metadata": {},
     "output_type": "display_data"
    },
    {
     "data": {
      "text/latex": [
       "\\begin{equation*} \\vert \\psi\\rangle=-\\frac{1}{4\\sqrt{2}} \\vert\\textbf{000}\\rangle-\\frac{1}{4\\sqrt{2}} \\vert\\textbf{001}\\rangle-\\frac{5}{4\\sqrt{2}} \\vert\\textbf{010}\\rangle-\\frac{1}{4\\sqrt{2}} \\vert\\textbf{011}\\rangle-\\frac{1}{4\\sqrt{2}} \\vert\\textbf{100}\\rangle-\\frac{1}{4\\sqrt{2}} \\vert\\textbf{101}\\rangle-\\frac{1}{4\\sqrt{2}} \\vert\\textbf{110}\\rangle-\\frac{1}{4\\sqrt{2}} \\vert\\textbf{111}\\rangle\\end{equation*}"
      ],
      "text/plain": [
       "<IPython.core.display.Latex object>"
      ]
     },
     "metadata": {},
     "output_type": "display_data"
    },
    {
     "name": "stdout",
     "output_type": "stream",
     "text": [
      "Reversed: [('000', 30), ('001', 37), ('010', 773), ('011', 35), ('100', 20), ('101', 32), ('110', 39), ('111', 34)]\n",
      "----------------------------------\n",
      "Iteration: 1\n"
     ]
    },
    {
     "data": {
      "text/latex": [
       "\\begin{equation*} \\vert \\psi\\rangle=-\\frac{1}{4\\sqrt{2}} \\vert\\textbf{000}\\rangle-\\frac{1}{4\\sqrt{2}} \\vert\\textbf{001}\\rangle+\\frac{5}{4\\sqrt{2}} \\vert\\textbf{010}\\rangle-\\frac{1}{4\\sqrt{2}} \\vert\\textbf{011}\\rangle-\\frac{1}{4\\sqrt{2}} \\vert\\textbf{100}\\rangle-\\frac{1}{4\\sqrt{2}} \\vert\\textbf{101}\\rangle-\\frac{1}{4\\sqrt{2}} \\vert\\textbf{110}\\rangle-\\frac{1}{4\\sqrt{2}} \\vert\\textbf{111}\\rangle\\end{equation*}"
      ],
      "text/plain": [
       "<IPython.core.display.Latex object>"
      ]
     },
     "metadata": {},
     "output_type": "display_data"
    },
    {
     "data": {
      "text/latex": [
       "\\begin{equation*} \\vert \\psi\\rangle=-\\frac{1}{8\\sqrt{2}} \\vert\\textbf{000}\\rangle-\\frac{1}{8\\sqrt{2}} \\vert\\textbf{001}\\rangle+0.9723 \\vert\\textbf{010}\\rangle-\\frac{1}{8\\sqrt{2}} \\vert\\textbf{011}\\rangle-\\frac{1}{8\\sqrt{2}} \\vert\\textbf{100}\\rangle-\\frac{1}{8\\sqrt{2}} \\vert\\textbf{101}\\rangle-\\frac{1}{8\\sqrt{2}} \\vert\\textbf{110}\\rangle-\\frac{1}{8\\sqrt{2}} \\vert\\textbf{111}\\rangle\\end{equation*}"
      ],
      "text/plain": [
       "<IPython.core.display.Latex object>"
      ]
     },
     "metadata": {},
     "output_type": "display_data"
    },
    {
     "name": "stdout",
     "output_type": "stream",
     "text": [
      "Reversed: [('000', 6), ('001', 11), ('010', 941), ('011', 10), ('100', 13), ('101', 9), ('110', 4), ('111', 6)]\n",
      "----------------------------------\n",
      "Iteration: 2\n"
     ]
    },
    {
     "data": {
      "text/latex": [
       "\\begin{equation*} \\vert \\psi\\rangle=-\\frac{1}{8\\sqrt{2}} \\vert\\textbf{000}\\rangle-\\frac{1}{8\\sqrt{2}} \\vert\\textbf{001}\\rangle-0.9723 \\vert\\textbf{010}\\rangle-\\frac{1}{8\\sqrt{2}} \\vert\\textbf{011}\\rangle-\\frac{1}{8\\sqrt{2}} \\vert\\textbf{100}\\rangle-\\frac{1}{8\\sqrt{2}} \\vert\\textbf{101}\\rangle-\\frac{1}{8\\sqrt{2}} \\vert\\textbf{110}\\rangle-\\frac{1}{8\\sqrt{2}} \\vert\\textbf{111}\\rangle\\end{equation*}"
      ],
      "text/plain": [
       "<IPython.core.display.Latex object>"
      ]
     },
     "metadata": {},
     "output_type": "display_data"
    },
    {
     "data": {
      "text/latex": [
       "\\begin{equation*} \\vert \\psi\\rangle=\\frac{7}{16\\sqrt{2}} \\vert\\textbf{000}\\rangle+\\frac{7}{16\\sqrt{2}} \\vert\\textbf{001}\\rangle-0.5745 \\vert\\textbf{010}\\rangle+\\frac{7}{16\\sqrt{2}} \\vert\\textbf{011}\\rangle+\\frac{7}{16\\sqrt{2}} \\vert\\textbf{100}\\rangle+\\frac{7}{16\\sqrt{2}} \\vert\\textbf{101}\\rangle+\\frac{7}{16\\sqrt{2}} \\vert\\textbf{110}\\rangle+\\frac{7}{16\\sqrt{2}} \\vert\\textbf{111}\\rangle\\end{equation*}"
      ],
      "text/plain": [
       "<IPython.core.display.Latex object>"
      ]
     },
     "metadata": {},
     "output_type": "display_data"
    },
    {
     "name": "stdout",
     "output_type": "stream",
     "text": [
      "Reversed: [('000', 99), ('001', 78), ('010', 340), ('011', 87), ('100', 93), ('101', 100), ('110', 108), ('111', 95)]\n",
      "----------------------------------\n"
     ]
    }
   ],
   "source": [
    "\n",
    "oracle = QuantumRegister(3,'ora')\n",
    "cr_oracle = ClassicalRegister(3)\n",
    "\n",
    "init = QuantumCircuit(oracle)\n",
    "init.h(oracle)\n",
    "\n",
    "sv(init)\n",
    "\n",
    "mark = QuantumCircuit(oracle)\n",
    "bits_to_mark='010'\n",
    "\n",
    "for k in range(len(bits_to_mark)):\n",
    "     if bits_to_mark[k] == '0':\n",
    "            mark.x(oracle[k])\n",
    "mark.h(oracle[2])\n",
    "mark.ccx(oracle[0], oracle[1], oracle[2])\n",
    "mark.h(oracle[2])\n",
    "for k in range(len(bits_to_mark)):\n",
    "     if bits_to_mark[k] == '0':\n",
    "            mark.x(oracle[k])        \n",
    "\n",
    "mark.barrier()\n",
    "\n",
    "sv(init+mark)\n",
    "\n",
    "diffusion = QuantumCircuit(oracle)\n",
    "diffusion.h(oracle)\n",
    "diffusion.x(oracle)\n",
    "diffusion.h(oracle[2])\n",
    "diffusion.ccx(oracle[0], oracle[1], oracle[2])\n",
    "diffusion.h(oracle[2])\n",
    "diffusion.x(oracle)\n",
    "diffusion.h(oracle)\n",
    "\n",
    "sv(init+mark+diffusion)\n",
    "\n",
    "m = QuantumCircuit(oracle, cr_oracle)\n",
    "m.measure(oracle, cr_oracle)\n",
    "\n",
    "iterations = 3\n",
    "iteration_qc = init\n",
    "\n",
    "for i in range(iterations):\n",
    "    print('Iteration:', i)\n",
    "    iteration_qc = iteration_qc + mark\n",
    "    sv(iteration_qc)\n",
    "    \n",
    "    iteration_qc = iteration_qc + diffusion\n",
    "    sv(iteration_qc)\n",
    "    \n",
    "    \n",
    "    answers = lq.execute_simulated(iteration_qc + m, 1000)\n",
    "    lq.print_reverse_results(answers, integer=False)\n",
    "    print('----------------------------------')\n",
    "\n",
    "# answers = lq.execute_simulated(init+mark+diffusion+m, 1000)\n",
    "# lq.print_reverse_results(answers, integer=False)"
   ]
  },
  {
   "cell_type": "code",
   "execution_count": null,
   "metadata": {},
   "outputs": [],
   "source": []
  },
  {
   "cell_type": "code",
   "execution_count": 377,
   "metadata": {},
   "outputs": [
    {
     "data": {
      "image/png": "[encoded data removed]",
      "text/plain": [
       "<Figure size 1020.99x204.68 with 1 Axes>"
      ]
     },
     "execution_count": 377,
     "metadata": {},
     "output_type": "execute_result"
    }
   ],
   "source": [
    "(init+mark+diffusion).draw(output='mpl')"
   ]
  },
  {
   "cell_type": "code",
   "execution_count": 384,
   "metadata": {},
   "outputs": [
    {
     "data": {
      "text/latex": [
       "\\begin{equation*}\\begin{pmatrix}\\frac{3}{4} & -\\frac{1}{4} & -\\frac{1}{4} & -\\frac{1}{4} & -\\frac{1}{4} & -\\frac{1}{4} & -\\frac{1}{4} & -\\frac{1}{4} \\\\ \n",
       "-\\frac{1}{4} & \\frac{3}{4} & -\\frac{1}{4} & -\\frac{1}{4} & -\\frac{1}{4} & -\\frac{1}{4} & -\\frac{1}{4} & -\\frac{1}{4} \\\\ \n",
       "-\\frac{1}{4} & -\\frac{1}{4} & \\frac{3}{4} & -\\frac{1}{4} & -\\frac{1}{4} & -\\frac{1}{4} & -\\frac{1}{4} & -\\frac{1}{4} \\\\ \n",
       "-\\frac{1}{4} & -\\frac{1}{4} & -\\frac{1}{4} & \\frac{3}{4} & -\\frac{1}{4} & -\\frac{1}{4} & -\\frac{1}{4} & -\\frac{1}{4} \\\\ \n",
       "-\\frac{1}{4} & -\\frac{1}{4} & -\\frac{1}{4} & -\\frac{1}{4} & \\frac{3}{4} & -\\frac{1}{4} & -\\frac{1}{4} & -\\frac{1}{4} \\\\ \n",
       "-\\frac{1}{4} & -\\frac{1}{4} & -\\frac{1}{4} & -\\frac{1}{4} & -\\frac{1}{4} & \\frac{3}{4} & -\\frac{1}{4} & -\\frac{1}{4} \\\\ \n",
       "-\\frac{1}{4} & -\\frac{1}{4} & -\\frac{1}{4} & -\\frac{1}{4} & -\\frac{1}{4} & -\\frac{1}{4} & \\frac{3}{4} & -\\frac{1}{4} \\\\ \n",
       "-\\frac{1}{4} & -\\frac{1}{4} & -\\frac{1}{4} & -\\frac{1}{4} & -\\frac{1}{4} & -\\frac{1}{4} & -\\frac{1}{4} & \\frac{3}{4} \\\\ \n",
       "\\end{pmatrix}\\end{equation*}"
      ],
      "text/plain": [
       "<IPython.core.display.Latex object>"
      ]
     },
     "metadata": {},
     "output_type": "display_data"
    }
   ],
   "source": [
    "lq.show_me_the_matrix(diffusion)"
   ]
  },
  {
   "cell_type": "code",
   "execution_count": null,
   "metadata": {},
   "outputs": [],
   "source": []
  },
  {
   "cell_type": "code",
   "execution_count": null,
   "metadata": {},
   "outputs": [],
   "source": []
  },
  {
   "cell_type": "code",
   "execution_count": null,
   "metadata": {},
   "outputs": [],
   "source": []
  },
  {
   "cell_type": "code",
   "execution_count": null,
   "metadata": {},
   "outputs": [],
   "source": []
  },
  {
   "cell_type": "markdown",
   "metadata": {},
   "source": [
    "## Two Qubit Grover (with 1 ancila)"
   ]
  },
  {
   "cell_type": "code",
   "execution_count": 389,
   "metadata": {},
   "outputs": [
    {
     "data": {
      "text/latex": [
       "\\begin{equation*} \\vert \\psi\\rangle=\\frac{1}{2}\\big(\\color{#C00}{ \\vert\\textbf{00}\\rangle}\\color{#000}{ \\vert\\textbf{1}\\rangle}+\\color{#C00}{ \\vert\\textbf{01}\\rangle}\\color{#000}{ \\vert\\textbf{1}\\rangle}+\\color{#C00}{ \\vert\\textbf{10}\\rangle}\\color{#000}{ \\vert\\textbf{1}\\rangle}+\\color{#C00}{ \\vert\\textbf{11}\\rangle}\\color{#000}{ \\vert\\textbf{1}\\rangle}\\big)\\end{equation*}"
      ],
      "text/plain": [
       "<IPython.core.display.Latex object>"
      ]
     },
     "metadata": {},
     "output_type": "display_data"
    },
    {
     "data": {
      "text/latex": [
       "\\begin{equation*} \\vert \\psi\\rangle=\\frac{1}{2}\\big(\\color{#C00}{ \\vert\\textbf{00}\\rangle}\\color{#000}{ \\vert\\textbf{1}\\rangle}-1\\color{#C00}{ \\vert\\textbf{01}\\rangle}\\color{#000}{ \\vert\\textbf{1}\\rangle}+\\color{#C00}{ \\vert\\textbf{10}\\rangle}\\color{#000}{ \\vert\\textbf{1}\\rangle}+\\color{#C00}{ \\vert\\textbf{11}\\rangle}\\color{#000}{ \\vert\\textbf{1}\\rangle}\\big)\\end{equation*}"
      ],
      "text/plain": [
       "<IPython.core.display.Latex object>"
      ]
     },
     "metadata": {},
     "output_type": "display_data"
    },
    {
     "data": {
      "text/latex": [
       "\\begin{equation*} \\vert \\psi\\rangle=-1\\color{#C00}{ \\vert\\textbf{01}\\rangle}\\color{#000}{ \\vert\\textbf{1}\\rangle}\\end{equation*}"
      ],
      "text/plain": [
       "<IPython.core.display.Latex object>"
      ]
     },
     "metadata": {},
     "output_type": "display_data"
    }
   ],
   "source": [
    "oracle = QuantumRegister(2,'ora')\n",
    "ancillary = QuantumRegister(1, 'anc')\n",
    "cr_oracle = ClassicalRegister(2, 'out')\n",
    "\n",
    "init = QuantumCircuit(oracle, ancillary, cr_oracle)\n",
    "\n",
    "init.h(oracle)\n",
    "init.x(ancillary)\n",
    "\n",
    "sv(init)\n",
    "\n",
    "mark = QuantumCircuit(oracle, ancillary, cr_oracle)\n",
    "mark.h(ancillary)\n",
    "bits_to_mark='01'\n",
    "for k in range(len(bits_to_mark)):\n",
    "     if bits_to_mark[k] == '0':\n",
    "            mark.x(oracle[k])\n",
    "mark.ccx(oracle[0], oracle[1], ancillary[0])\n",
    "for k in range(len(bits_to_mark)):\n",
    "     if bits_to_mark[k] == '0':\n",
    "            mark.x(oracle[k])\n",
    "mark.h(ancillary)\n",
    "mark.barrier()\n",
    "\n",
    "sv(init+mark)\n",
    "\n",
    "diffusion = QuantumCircuit(oracle, ancillary, cr_oracle)\n",
    "diffusion.h(oracle)\n",
    "diffusion.h(ancillary)\n",
    "diffusion.x(oracle)\n",
    "diffusion.ccx(oracle[0], oracle[1], ancillary[0])\n",
    "diffusion.x(oracle)\n",
    "diffusion.h(ancillary)\n",
    "diffusion.h(oracle)\n",
    "\n",
    "sv(init+mark+diffusion)"
   ]
  },
  {
   "cell_type": "code",
   "execution_count": 390,
   "metadata": {},
   "outputs": [
    {
     "data": {
      "image/png": "[encoded data removed]",
      "text/plain": [
       "<Figure size 720x360 with 1 Axes>"
      ]
     },
     "metadata": {
      "needs_background": "light"
     },
     "output_type": "display_data"
    }
   ],
   "source": [
    "plot_grover(init, 1)"
   ]
  },
  {
   "cell_type": "code",
   "execution_count": 391,
   "metadata": {},
   "outputs": [
    {
     "data": {
      "image/png": "[encoded data removed]",
      "text/plain": [
       "<Figure size 720x360 with 1 Axes>"
      ]
     },
     "metadata": {
      "needs_background": "light"
     },
     "output_type": "display_data"
    }
   ],
   "source": [
    "plot_grover(init+mark, 1)"
   ]
  },
  {
   "cell_type": "code",
   "execution_count": 393,
   "metadata": {},
   "outputs": [
    {
     "data": {
      "image/png": "[encoded data removed]",
      "text/plain": [
       "<Figure size 720x360 with 1 Axes>"
      ]
     },
     "metadata": {
      "needs_background": "light"
     },
     "output_type": "display_data"
    }
   ],
   "source": [
    "plot_grover(init+mark+diffusion, 1)\n"
   ]
  },
  {
   "cell_type": "code",
   "execution_count": null,
   "metadata": {},
   "outputs": [],
   "source": []
  },
  {
   "cell_type": "code",
   "execution_count": null,
   "metadata": {},
   "outputs": [],
   "source": []
  },
  {
   "cell_type": "code",
   "execution_count": null,
   "metadata": {},
   "outputs": [],
   "source": []
  },
  {
   "cell_type": "code",
   "execution_count": null,
   "metadata": {},
   "outputs": [],
   "source": []
  },
  {
   "cell_type": "markdown",
   "metadata": {},
   "source": [
    "## Functions for 3-qubit Grovers"
   ]
  },
  {
   "cell_type": "code",
   "execution_count": 299,
   "metadata": {},
   "outputs": [],
   "source": [
    "def cccx(qc, qr, an1, an2, mode='basic'):\n",
    "    if mode == 'noancilla':\n",
    "        qc.mct([qr[0], qr[1], qr[2]], an1[0], None, mode='noancilla')\n",
    "        return\n",
    "    \n",
    "    qc.ccx(qr[0], qr[1], an2[0])\n",
    "    qc.ccx(qr[2], an2[0], an1[0])\n",
    "    qc.ccx(qr[0], qr[1], an2[0])\n",
    "    \n",
    "    \n",
    "def grover_diffusion(qc, qr, an1, an2):\n",
    "    qc.h(qr)\n",
    "    qc.h(an1)\n",
    "    qc.x(qr)\n",
    "    cccx(qc, qr, an1, an2)\n",
    "    qc.x(qr)\n",
    "    qc.h(an1)\n",
    "    qc.h(qr)\n",
    "    \n",
    "    \n",
    "def mark_phase(qc, qr, an1, an2, bits_to_mark):\n",
    "    qc.h(an1)\n",
    "    for k in range(len(bits_to_mark)):\n",
    "        if bits_to_mark[k] == '0':\n",
    "            qc.x(qr[k])\n",
    "    \n",
    "    cccx(qc, qr, an1, an2)\n",
    "    for k in range(len(bits_to_mark)):\n",
    "        if bits_to_mark[k] == '0':\n",
    "            qc.x(qr[k])\n",
    "    \n",
    "    qc.h(an1)\n",
    "    qc.barrier()\n"
   ]
  },
  {
   "cell_type": "code",
   "execution_count": 422,
   "metadata": {},
   "outputs": [
    {
     "data": {
      "text/latex": [
       "\\begin{equation*} \\vert \\psi\\rangle=\\frac{1}{2\\sqrt{2}}\\big(1\\color{#C00}{ \\vert\\textbf{000}\\rangle}\\color{#000}{ \\vert\\textbf{1}\\rangle}\\color{#000}{ \\vert\\textbf{0}\\rangle}+1\\color{#C00}{ \\vert\\textbf{001}\\rangle}\\color{#000}{ \\vert\\textbf{1}\\rangle}\\color{#000}{ \\vert\\textbf{0}\\rangle}+1\\color{#C00}{ \\vert\\textbf{010}\\rangle}\\color{#000}{ \\vert\\textbf{1}\\rangle}\\color{#000}{ \\vert\\textbf{0}\\rangle}+1\\color{#C00}{ \\vert\\textbf{011}\\rangle}\\color{#000}{ \\vert\\textbf{1}\\rangle}\\color{#000}{ \\vert\\textbf{0}\\rangle}+1\\color{#C00}{ \\vert\\textbf{100}\\rangle}\\color{#000}{ \\vert\\textbf{1}\\rangle}\\color{#000}{ \\vert\\textbf{0}\\rangle}+1\\color{#C00}{ \\vert\\textbf{101}\\rangle}\\color{#000}{ \\vert\\textbf{1}\\rangle}\\color{#000}{ \\vert\\textbf{0}\\rangle}+1\\color{#C00}{ \\vert\\textbf{110}\\rangle}\\color{#000}{ \\vert\\textbf{1}\\rangle}\\color{#000}{ \\vert\\textbf{0}\\rangle}+1\\color{#C00}{ \\vert\\textbf{111}\\rangle}\\color{#000}{ \\vert\\textbf{1}\\rangle}\\color{#000}{ \\vert\\textbf{0}\\rangle}\\big)\\end{equation*}"
      ],
      "text/plain": [
       "<IPython.core.display.Latex object>"
      ]
     },
     "metadata": {},
     "output_type": "display_data"
    },
    {
     "name": "stdout",
     "output_type": "stream",
     "text": [
      "Iteration: 0\n"
     ]
    },
    {
     "data": {
      "text/latex": [
       "\\begin{equation*} \\vert \\psi\\rangle=\\frac{1}{2\\sqrt{2}}\\big(1\\color{#C00}{ \\vert\\textbf{000}\\rangle}\\color{#000}{ \\vert\\textbf{1}\\rangle}\\color{#000}{ \\vert\\textbf{0}\\rangle}+1\\color{#C00}{ \\vert\\textbf{001}\\rangle}\\color{#000}{ \\vert\\textbf{1}\\rangle}\\color{#000}{ \\vert\\textbf{0}\\rangle}+1\\color{#C00}{ \\vert\\textbf{010}\\rangle}\\color{#000}{ \\vert\\textbf{1}\\rangle}\\color{#000}{ \\vert\\textbf{0}\\rangle}+1\\color{#C00}{ \\vert\\textbf{011}\\rangle}\\color{#000}{ \\vert\\textbf{1}\\rangle}\\color{#000}{ \\vert\\textbf{0}\\rangle}+1\\color{#C00}{ \\vert\\textbf{100}\\rangle}\\color{#000}{ \\vert\\textbf{1}\\rangle}\\color{#000}{ \\vert\\textbf{0}\\rangle}-1\\color{#C00}{ \\vert\\textbf{101}\\rangle}\\color{#000}{ \\vert\\textbf{1}\\rangle}\\color{#000}{ \\vert\\textbf{0}\\rangle}+1\\color{#C00}{ \\vert\\textbf{110}\\rangle}\\color{#000}{ \\vert\\textbf{1}\\rangle}\\color{#000}{ \\vert\\textbf{0}\\rangle}+1\\color{#C00}{ \\vert\\textbf{111}\\rangle}\\color{#000}{ \\vert\\textbf{1}\\rangle}\\color{#000}{ \\vert\\textbf{0}\\rangle}\\big)\\end{equation*}"
      ],
      "text/plain": [
       "<IPython.core.display.Latex object>"
      ]
     },
     "metadata": {},
     "output_type": "display_data"
    },
    {
     "name": "stdout",
     "output_type": "stream",
     "text": [
      "0.35355339059327384|00010> \n",
      "0.3535533905932738|10010> \n",
      "0.3535533905932738|01010> \n",
      "0.35355339059327373|11010> \n",
      "0.3535533905932738|00110> \n",
      "-0.35355339059327373|10110> \n",
      "0.35355339059327373|01110> \n",
      "0.3535533905932737|11110> \n"
     ]
    },
    {
     "data": {
      "text/latex": [
       "\\begin{equation*} \\vert \\psi\\rangle=-\\frac{1}{4\\sqrt{2}}\\color{#C00}{ \\vert\\textbf{000}\\rangle}\\color{#000}{ \\vert\\textbf{1}\\rangle}\\color{#000}{ \\vert\\textbf{0}\\rangle}-\\frac{1}{4\\sqrt{2}}\\color{#C00}{ \\vert\\textbf{001}\\rangle}\\color{#000}{ \\vert\\textbf{1}\\rangle}\\color{#000}{ \\vert\\textbf{0}\\rangle}-\\frac{1}{4\\sqrt{2}}\\color{#C00}{ \\vert\\textbf{010}\\rangle}\\color{#000}{ \\vert\\textbf{1}\\rangle}\\color{#000}{ \\vert\\textbf{0}\\rangle}-\\frac{1}{4\\sqrt{2}}\\color{#C00}{ \\vert\\textbf{011}\\rangle}\\color{#000}{ \\vert\\textbf{1}\\rangle}\\color{#000}{ \\vert\\textbf{0}\\rangle}-\\frac{1}{4\\sqrt{2}}\\color{#C00}{ \\vert\\textbf{100}\\rangle}\\color{#000}{ \\vert\\textbf{1}\\rangle}\\color{#000}{ \\vert\\textbf{0}\\rangle}-\\frac{5}{4\\sqrt{2}}\\color{#C00}{ \\vert\\textbf{101}\\rangle}\\color{#000}{ \\vert\\textbf{1}\\rangle}\\color{#000}{ \\vert\\textbf{0}\\rangle}-\\frac{1}{4\\sqrt{2}}\\color{#C00}{ \\vert\\textbf{110}\\rangle}\\color{#000}{ \\vert\\textbf{1}\\rangle}\\color{#000}{ \\vert\\textbf{0}\\rangle}-\\frac{1}{4\\sqrt{2}}\\color{#C00}{ \\vert\\textbf{111}\\rangle}\\color{#000}{ \\vert\\textbf{1}\\rangle}\\color{#000}{ \\vert\\textbf{0}\\rangle}\\end{equation*}"
      ],
      "text/plain": [
       "<IPython.core.display.Latex object>"
      ]
     },
     "metadata": {},
     "output_type": "display_data"
    },
    {
     "name": "stdout",
     "output_type": "stream",
     "text": [
      "Reversed: [('000', 36), ('001', 24), ('010', 36), ('011', 28), ('100', 41), ('101', 771), ('110', 33), ('111', 31)]\n",
      "----------------------------------\n",
      "Iteration: 1\n"
     ]
    },
    {
     "data": {
      "text/latex": [
       "\\begin{equation*} \\vert \\psi\\rangle=-\\frac{1}{4\\sqrt{2}}\\color{#C00}{ \\vert\\textbf{000}\\rangle}\\color{#000}{ \\vert\\textbf{1}\\rangle}\\color{#000}{ \\vert\\textbf{0}\\rangle}-\\frac{1}{4\\sqrt{2}}\\color{#C00}{ \\vert\\textbf{001}\\rangle}\\color{#000}{ \\vert\\textbf{1}\\rangle}\\color{#000}{ \\vert\\textbf{0}\\rangle}-\\frac{1}{4\\sqrt{2}}\\color{#C00}{ \\vert\\textbf{010}\\rangle}\\color{#000}{ \\vert\\textbf{1}\\rangle}\\color{#000}{ \\vert\\textbf{0}\\rangle}-\\frac{1}{4\\sqrt{2}}\\color{#C00}{ \\vert\\textbf{011}\\rangle}\\color{#000}{ \\vert\\textbf{1}\\rangle}\\color{#000}{ \\vert\\textbf{0}\\rangle}-\\frac{1}{4\\sqrt{2}}\\color{#C00}{ \\vert\\textbf{100}\\rangle}\\color{#000}{ \\vert\\textbf{1}\\rangle}\\color{#000}{ \\vert\\textbf{0}\\rangle}+\\frac{5}{4\\sqrt{2}}\\color{#C00}{ \\vert\\textbf{101}\\rangle}\\color{#000}{ \\vert\\textbf{1}\\rangle}\\color{#000}{ \\vert\\textbf{0}\\rangle}-\\frac{1}{4\\sqrt{2}}\\color{#C00}{ \\vert\\textbf{110}\\rangle}\\color{#000}{ \\vert\\textbf{1}\\rangle}\\color{#000}{ \\vert\\textbf{0}\\rangle}-\\frac{1}{4\\sqrt{2}}\\color{#C00}{ \\vert\\textbf{111}\\rangle}\\color{#000}{ \\vert\\textbf{1}\\rangle}\\color{#000}{ \\vert\\textbf{0}\\rangle}\\end{equation*}"
      ],
      "text/plain": [
       "<IPython.core.display.Latex object>"
      ]
     },
     "metadata": {},
     "output_type": "display_data"
    },
    {
     "name": "stdout",
     "output_type": "stream",
     "text": [
      "-0.17677669529663695|00010> \n",
      "-0.17677669529663687|10010> \n",
      "-0.17677669529663692|01010> \n",
      "-0.17677669529663687|11010> \n",
      "-0.17677669529663698|00110> \n",
      "0.8838834764831842|10110> \n",
      "-0.17677669529663687|01110> \n",
      "-0.17677669529663684|11110> \n"
     ]
    },
    {
     "data": {
      "text/latex": [
       "\\begin{equation*} \\vert \\psi\\rangle=-\\frac{1}{8\\sqrt{2}}\\color{#C00}{ \\vert\\textbf{000}\\rangle}\\color{#000}{ \\vert\\textbf{1}\\rangle}\\color{#000}{ \\vert\\textbf{0}\\rangle}-\\frac{1}{8\\sqrt{2}}\\color{#C00}{ \\vert\\textbf{001}\\rangle}\\color{#000}{ \\vert\\textbf{1}\\rangle}\\color{#000}{ \\vert\\textbf{0}\\rangle}-\\frac{1}{8\\sqrt{2}}\\color{#C00}{ \\vert\\textbf{010}\\rangle}\\color{#000}{ \\vert\\textbf{1}\\rangle}\\color{#000}{ \\vert\\textbf{0}\\rangle}-\\frac{1}{8\\sqrt{2}}\\color{#C00}{ \\vert\\textbf{011}\\rangle}\\color{#000}{ \\vert\\textbf{1}\\rangle}\\color{#000}{ \\vert\\textbf{0}\\rangle}-\\frac{1}{8\\sqrt{2}}\\color{#C00}{ \\vert\\textbf{100}\\rangle}\\color{#000}{ \\vert\\textbf{1}\\rangle}\\color{#000}{ \\vert\\textbf{0}\\rangle}+0.9723\\color{#C00}{ \\vert\\textbf{101}\\rangle}\\color{#000}{ \\vert\\textbf{1}\\rangle}\\color{#000}{ \\vert\\textbf{0}\\rangle}-\\frac{1}{8\\sqrt{2}}\\color{#C00}{ \\vert\\textbf{110}\\rangle}\\color{#000}{ \\vert\\textbf{1}\\rangle}\\color{#000}{ \\vert\\textbf{0}\\rangle}-\\frac{1}{8\\sqrt{2}}\\color{#C00}{ \\vert\\textbf{111}\\rangle}\\color{#000}{ \\vert\\textbf{1}\\rangle}\\color{#000}{ \\vert\\textbf{0}\\rangle}\\end{equation*}"
      ],
      "text/plain": [
       "<IPython.core.display.Latex object>"
      ]
     },
     "metadata": {},
     "output_type": "display_data"
    },
    {
     "name": "stdout",
     "output_type": "stream",
     "text": [
      "Reversed: [('000', 5), ('001', 10), ('010', 7), ('011', 8), ('100', 8), ('101', 948), ('110', 6), ('111', 8)]\n",
      "----------------------------------\n",
      "Iteration: 2\n"
     ]
    },
    {
     "data": {
      "text/latex": [
       "\\begin{equation*} \\vert \\psi\\rangle=-\\frac{1}{8\\sqrt{2}}\\color{#C00}{ \\vert\\textbf{000}\\rangle}\\color{#000}{ \\vert\\textbf{1}\\rangle}\\color{#000}{ \\vert\\textbf{0}\\rangle}-\\frac{1}{8\\sqrt{2}}\\color{#C00}{ \\vert\\textbf{001}\\rangle}\\color{#000}{ \\vert\\textbf{1}\\rangle}\\color{#000}{ \\vert\\textbf{0}\\rangle}-\\frac{1}{8\\sqrt{2}}\\color{#C00}{ \\vert\\textbf{010}\\rangle}\\color{#000}{ \\vert\\textbf{1}\\rangle}\\color{#000}{ \\vert\\textbf{0}\\rangle}-\\frac{1}{8\\sqrt{2}}\\color{#C00}{ \\vert\\textbf{011}\\rangle}\\color{#000}{ \\vert\\textbf{1}\\rangle}\\color{#000}{ \\vert\\textbf{0}\\rangle}-\\frac{1}{8\\sqrt{2}}\\color{#C00}{ \\vert\\textbf{100}\\rangle}\\color{#000}{ \\vert\\textbf{1}\\rangle}\\color{#000}{ \\vert\\textbf{0}\\rangle}-0.9723\\color{#C00}{ \\vert\\textbf{101}\\rangle}\\color{#000}{ \\vert\\textbf{1}\\rangle}\\color{#000}{ \\vert\\textbf{0}\\rangle}-\\frac{1}{8\\sqrt{2}}\\color{#C00}{ \\vert\\textbf{110}\\rangle}\\color{#000}{ \\vert\\textbf{1}\\rangle}\\color{#000}{ \\vert\\textbf{0}\\rangle}-\\frac{1}{8\\sqrt{2}}\\color{#C00}{ \\vert\\textbf{111}\\rangle}\\color{#000}{ \\vert\\textbf{1}\\rangle}\\color{#000}{ \\vert\\textbf{0}\\rangle}\\end{equation*}"
      ],
      "text/plain": [
       "<IPython.core.display.Latex object>"
      ]
     },
     "metadata": {},
     "output_type": "display_data"
    },
    {
     "name": "stdout",
     "output_type": "stream",
     "text": [
      "-0.08838834764831838|00010> \n",
      "-0.08838834764831817|10010> \n",
      "-0.08838834764831846|01010> \n",
      "-0.08838834764831835|11010> \n",
      "-0.08838834764831838|00110> \n",
      "-0.9722718241315026|10110> \n",
      "-0.08838834764831832|01110> \n",
      "-0.08838834764831835|11110> \n"
     ]
    },
    {
     "data": {
      "text/latex": [
       "\\begin{equation*} \\vert \\psi\\rangle=\\frac{7}{16\\sqrt{2}}\\color{#C00}{ \\vert\\textbf{000}\\rangle}\\color{#000}{ \\vert\\textbf{1}\\rangle}\\color{#000}{ \\vert\\textbf{0}\\rangle}+\\frac{7}{16\\sqrt{2}}\\color{#C00}{ \\vert\\textbf{001}\\rangle}\\color{#000}{ \\vert\\textbf{1}\\rangle}\\color{#000}{ \\vert\\textbf{0}\\rangle}+\\frac{7}{16\\sqrt{2}}\\color{#C00}{ \\vert\\textbf{010}\\rangle}\\color{#000}{ \\vert\\textbf{1}\\rangle}\\color{#000}{ \\vert\\textbf{0}\\rangle}+\\frac{7}{16\\sqrt{2}}\\color{#C00}{ \\vert\\textbf{011}\\rangle}\\color{#000}{ \\vert\\textbf{1}\\rangle}\\color{#000}{ \\vert\\textbf{0}\\rangle}+\\frac{7}{16\\sqrt{2}}\\color{#C00}{ \\vert\\textbf{100}\\rangle}\\color{#000}{ \\vert\\textbf{1}\\rangle}\\color{#000}{ \\vert\\textbf{0}\\rangle}-0.5745\\color{#C00}{ \\vert\\textbf{101}\\rangle}\\color{#000}{ \\vert\\textbf{1}\\rangle}\\color{#000}{ \\vert\\textbf{0}\\rangle}+\\frac{7}{16\\sqrt{2}}\\color{#C00}{ \\vert\\textbf{110}\\rangle}\\color{#000}{ \\vert\\textbf{1}\\rangle}\\color{#000}{ \\vert\\textbf{0}\\rangle}+\\frac{7}{16\\sqrt{2}}\\color{#C00}{ \\vert\\textbf{111}\\rangle}\\color{#000}{ \\vert\\textbf{1}\\rangle}\\color{#000}{ \\vert\\textbf{0}\\rangle}\\end{equation*}"
      ],
      "text/plain": [
       "<IPython.core.display.Latex object>"
      ]
     },
     "metadata": {},
     "output_type": "display_data"
    },
    {
     "name": "stdout",
     "output_type": "stream",
     "text": [
      "Reversed: [('000', 101), ('001', 116), ('010', 96), ('011', 95), ('100', 102), ('101', 300), ('110', 99), ('111', 91)]\n",
      "----------------------------------\n"
     ]
    }
   ],
   "source": [
    "q = QuantumRegister(3,'compute')\n",
    "anc1 = QuantumRegister(1, 'anc1')\n",
    "anc2 = QuantumRegister(1,'anc2')\n",
    "init = QuantumCircuit(q, anc1, anc2)\n",
    "cr = ClassicalRegister(3)\n",
    "\n",
    "init.h(q)\n",
    "init.x(anc1)\n",
    "sv(init)\n",
    "\n",
    "mark = QuantumCircuit(q, anc1, anc2)\n",
    "mark_phase(mark, q, anc1, anc2, '101')\n",
    "\n",
    "diffusion = QuantumCircuit(q, anc1, anc2)\n",
    "grover_diffusion(diffusion, q, anc1, anc2)\n",
    "\n",
    "m = QuantumCircuit(q, anc1, anc2, cr)\n",
    "m.measure(q, cr)\n",
    "\n",
    "iterations = 3\n",
    "\n",
    "iteration_qc = init\n",
    "\n",
    "for i in range(iterations):\n",
    "    print('Iteration:', i)\n",
    "    iteration_qc = iteration_qc + mark\n",
    "    sv(iteration_qc)\n",
    "    lq.print_short_state_vector(iteration_qc)\n",
    "    iteration_qc = iteration_qc + diffusion\n",
    "    sv(iteration_qc)\n",
    "    \n",
    "    \n",
    "    answers = lq.execute_simulated(iteration_qc + m, 1000)\n",
    "    lq.print_reverse_results(answers, integer=False)\n",
    "    print('----------------------------------')\n"
   ]
  },
  {
   "cell_type": "code",
   "execution_count": 423,
   "metadata": {},
   "outputs": [
    {
     "data": {
      "image/png": "[encoded data removed]",
      "text/plain": [
       "<Figure size 1184.74x325.08 with 1 Axes>"
      ]
     },
     "execution_count": 423,
     "metadata": {},
     "output_type": "execute_result"
    }
   ],
   "source": [
    "(init+mark+diffusion).draw(output='mpl')"
   ]
  },
  {
   "cell_type": "code",
   "execution_count": 425,
   "metadata": {},
   "outputs": [
    {
     "data": {
      "image/png": "[encoded data removed]",
      "text/plain": [
       "<Figure size 720x360 with 1 Axes>"
      ]
     },
     "metadata": {
      "needs_background": "light"
     },
     "output_type": "display_data"
    }
   ],
   "source": [
    "plot_grover(init, 2)"
   ]
  },
  {
   "cell_type": "code",
   "execution_count": 426,
   "metadata": {},
   "outputs": [
    {
     "data": {
      "image/png": "[encoded data removed]",
      "text/plain": [
       "<Figure size 720x360 with 1 Axes>"
      ]
     },
     "metadata": {
      "needs_background": "light"
     },
     "output_type": "display_data"
    }
   ],
   "source": [
    "plot_grover(init+mark, 2)"
   ]
  },
  {
   "cell_type": "code",
   "execution_count": 427,
   "metadata": {},
   "outputs": [
    {
     "data": {
      "image/png": "[encoded data removed]",
      "text/plain": [
       "<Figure size 720x360 with 1 Axes>"
      ]
     },
     "metadata": {
      "needs_background": "light"
     },
     "output_type": "display_data"
    }
   ],
   "source": [
    "plot_grover(init+mark+diffusion, 2)"
   ]
  },
  {
   "cell_type": "code",
   "execution_count": 428,
   "metadata": {},
   "outputs": [
    {
     "data": {
      "image/png": "[encoded data removed]",
      "text/plain": [
       "<Figure size 720x360 with 1 Axes>"
      ]
     },
     "metadata": {
      "needs_background": "light"
     },
     "output_type": "display_data"
    }
   ],
   "source": [
    "plot_grover(init+mark+diffusion+mark+diffusion, 2)"
   ]
  },
  {
   "cell_type": "code",
   "execution_count": 429,
   "metadata": {},
   "outputs": [
    {
     "data": {
      "image/png": "[encoded data removed]",
      "text/plain": [
       "<Figure size 720x360 with 1 Axes>"
      ]
     },
     "metadata": {
      "needs_background": "light"
     },
     "output_type": "display_data"
    }
   ],
   "source": [
    "plot_grover(init+mark+diffusion+mark+diffusion+mark+diffusion, 2)"
   ]
  },
  {
   "cell_type": "markdown",
   "metadata": {},
   "source": [
    "## Exercise: Rotation about the average?\n",
    "\n",
    "Create a circuit that does not have an initial uniform distribution and show that the diffusion operator does not reflect across the average.\n",
    "\n",
    "Hint: This can be accomplished by adding a single line to the 3-Qubit Grover routine, but more elaborate setups will work as well.\n"
   ]
  },
  {
   "cell_type": "markdown",
   "metadata": {},
   "source": [
    "## Exercise: 8-Qubit Circuit. \n",
    "\n",
    "Create an 8-qubit circuit by using the Multiple Control Toffoli (mct) gate.  Write both one with ancilla and one without.  Try running them on a quantum computer and compare the results."
   ]
  },
  {
   "cell_type": "code",
   "execution_count": null,
   "metadata": {},
   "outputs": [],
   "source": []
  }
 ],
 "metadata": {
  "kernelspec": {
   "display_name": "Python 3",
   "language": "python",
   "name": "python3"
  },
  "language_info": {
   "codemirror_mode": {
    "name": "ipython",
    "version": 3
   },
   "file_extension": ".py",
   "mimetype": "text/x-python",
   "name": "python",
   "nbconvert_exporter": "python",
   "pygments_lexer": "ipython3",
   "version": "3.7.2"
  }
 },
 "nbformat": 4,
 "nbformat_minor": 2
}
