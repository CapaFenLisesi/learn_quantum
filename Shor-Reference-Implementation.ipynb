{
 "cells": [
  {
   "cell_type": "markdown",
   "metadata": {},
   "source": [
    "# Shor's Reference Implementation\n",
    "\n",
    "Please see the book chapters for a full explanation of the algorithm.  (Note: This chapter is not released yet as this is a draft.)\n",
    "\n",
    "This example follows Shor's initial article  https://arxiv.org/abs/quant-ph/9508027v2 and its summary https://arxiv.org/abs/1301.7007v1 by John A. Smolin, Graeme Smith and Alex Vargo. \n",
    "\n",
    "The code implementation will work for numbers up to 512, but it gets very slow."
   ]
  },
  {
   "cell_type": "code",
   "execution_count": 12,
   "metadata": {},
   "outputs": [],
   "source": [
    "import numpy as np\n",
    "from math import ceil, sqrt, log2\n",
    "from random import randint\n",
    "from fractions import Fraction\n",
    "\n",
    "from qiskit import execute, Aer, IBMQ \n",
    "from qiskit import QuantumRegister, ClassicalRegister, QuantumCircuit, execute\n",
    "from learn_quantum import ket\n",
    "import learn_quantum as lq\n",
    "\n",
    "from IPython.display import Latex\n",
    "from numpy import pi, pi as π, cos, sin, exp, gcd, lcm\n",
    "\n"
   ]
  },
  {
   "cell_type": "markdown",
   "metadata": {},
   "source": [
    "The main number to factor is typically referred to as \"N\", but because of the common use of \"n\" in code, nilf is used instead.  Number I'd Like to Factor."
   ]
  },
  {
   "cell_type": "code",
   "execution_count": 13,
   "metadata": {},
   "outputs": [],
   "source": [
    "nilf = 15  # Number I'd Like to Factor"
   ]
  },
  {
   "cell_type": "markdown",
   "metadata": {},
   "source": [
    "Chose $S \\equiv 2^{B}$ such that  $N^2 \\leq S \\lt 2N^2$.\n",
    "\n",
    "Chose (at random) as an integer $1 < a < N$. "
   ]
  },
  {
   "cell_type": "code",
   "execution_count": 14,
   "metadata": {},
   "outputs": [],
   "source": [
    "nilf_bit_size = ceil(log2(nilf))\n",
    "register_1_size = ceil(log2(nilf**2)) # not always 2*nilf_bit_size\n",
    "register_2_size = nilf_bit_size\n",
    "\n",
    "a = randint(2, nilf-1)\n",
    "## but I'll hardcode to 7 so the initial code lines up with Latex\n",
    "a = 7\n",
    "\n",
    "## check that it is not already a factor and that the nilf is not a square\n",
    "if gcd(a, nilf) > 1:\n",
    "    print('a is a factor. Chose a different a')\n",
    "for k in range(2, 5):\n",
    "    if nilf**(1/k) == int(nilf**(1/k)):\n",
    "        print('this nilf is square')\n",
    "\n"
   ]
  },
  {
   "cell_type": "code",
   "execution_count": null,
   "metadata": {},
   "outputs": [],
   "source": []
  },
  {
   "cell_type": "code",
   "execution_count": 15,
   "metadata": {},
   "outputs": [
    {
     "name": "stdout",
     "output_type": "stream",
     "text": [
      "S=256, N^2=225, 2N^2=450\n"
     ]
    }
   ],
   "source": [
    "print('S={}, N^2={}, 2N^2={}'.format(2**(register_1_size), nilf**2, 2*nilf**2))"
   ]
  },
  {
   "cell_type": "markdown",
   "metadata": {},
   "source": [
    "## Perform the initial quantum fourier transformation \n",
    "\n",
    "Construct the quantum state $$\\frac{1}{\\sqrt{S}}\\sum_{x=0}^{S-1} \\vert x \\rangle \\vert 0 \\rangle$$\n",
    "\n",
    "This is created by peforming a Fourier transformation on the first register.  As with Period Estimation, because the initial state is $ \\vert 0 \\rangle$, this amounts to only Hadamard gates.\n",
    "\n",
    "This uses two registers, the first is B-qubits ( from $S \\equiv 2^{B}$)  and the second is $log_2 N$."
   ]
  },
  {
   "cell_type": "code",
   "execution_count": 16,
   "metadata": {},
   "outputs": [
    {
     "name": "stdout",
     "output_type": "stream",
     "text": [
      "Reg 1 size:8, Reg 2 size:4\n"
     ]
    }
   ],
   "source": [
    "print('Reg 1 size:{}, Reg 2 size:{}'.format(register_1_size, register_2_size))"
   ]
  },
  {
   "cell_type": "code",
   "execution_count": 17,
   "metadata": {},
   "outputs": [
    {
     "data": {
      "text/plain": [
       "<qiskit.circuit.instructionset.InstructionSet at 0x136ade320>"
      ]
     },
     "execution_count": 17,
     "metadata": {},
     "output_type": "execute_result"
    }
   ],
   "source": [
    "reg_1 = QuantumRegister(register_1_size) \n",
    "reg_2 = QuantumRegister(register_2_size)\n",
    "qc = QuantumCircuit(reg_1, reg_2)\n",
    "\n",
    "qc.h(reg_1)\n"
   ]
  },
  {
   "cell_type": "code",
   "execution_count": 18,
   "metadata": {},
   "outputs": [],
   "source": [
    "#setup a function to handle the formating of the state vector\n",
    "def shor_state_vector(qc, split, factor=True):\n",
    "    return lq.show_state_vector(qc, integer=True, factor_out=factor, split=split, truncate=128, split_color='#C00')"
   ]
  },
  {
   "cell_type": "markdown",
   "metadata": {},
   "source": [
    "### Check the state vector matches the math\n",
    "\n",
    "The output of the state vector is the mathmatical format expanded:\n",
    "\n",
    "$$\\frac{1}{\\sqrt{S}}\\sum_{x=0}^{S-1} \\vert x \\rangle \\vert 0 \\rangle$$\n",
    "\n",
    "$ = \\frac{1}{\\sqrt{S}} \\left(  \\vert 0 \\rangle \\vert 0 \\rangle +  \\vert 1 \\rangle \\vert 0 \\rangle +  \\vert 2 \\rangle \\vert 0 \\rangle \\ldots  \\vert S-1 \\rangle \\vert 0 \\rangle \\right)$"
   ]
  },
  {
   "cell_type": "code",
   "execution_count": 19,
   "metadata": {},
   "outputs": [
    {
     "data": {
      "text/latex": [
       "\\begin{equation*} \\vert \\psi\\rangle=\\frac{1}{16}\\big( \\vert\\textbf{0}\\rangle\\color{#C00}{ \\vert\\textbf{0}\\rangle}+ \\vert\\textbf{1}\\rangle\\color{#C00}{ \\vert\\textbf{0}\\rangle}+ \\vert\\textbf{2}\\rangle\\color{#C00}{ \\vert\\textbf{0}\\rangle}+ \\vert\\textbf{3}\\rangle\\color{#C00}{ \\vert\\textbf{0}\\rangle}+ \\vert\\textbf{4}\\rangle\\color{#C00}{ \\vert\\textbf{0}\\rangle}+ \\vert\\textbf{5}\\rangle\\color{#C00}{ \\vert\\textbf{0}\\rangle}+ \\vert\\textbf{6}\\rangle\\color{#C00}{ \\vert\\textbf{0}\\rangle}+ \\vert\\textbf{7}\\rangle\\color{#C00}{ \\vert\\textbf{0}\\rangle}+ \\vert\\textbf{8}\\rangle\\color{#C00}{ \\vert\\textbf{0}\\rangle}+ \\vert\\textbf{9}\\rangle\\color{#C00}{ \\vert\\textbf{0}\\rangle}\\end{equation*}\n",
       "\\begin{equation*} \\quad\\quad\\quad + \\vert\\textbf{10}\\rangle\\color{#C00}{ \\vert\\textbf{0}\\rangle}+ \\vert\\textbf{11}\\rangle\\color{#C00}{ \\vert\\textbf{0}\\rangle}+ \\vert\\textbf{12}\\rangle\\color{#C00}{ \\vert\\textbf{0}\\rangle}+ \\vert\\textbf{13}\\rangle\\color{#C00}{ \\vert\\textbf{0}\\rangle}+ \\vert\\textbf{14}\\rangle\\color{#C00}{ \\vert\\textbf{0}\\rangle}+ \\vert\\textbf{15}\\rangle\\color{#C00}{ \\vert\\textbf{0}\\rangle}+ \\vert\\textbf{16}\\rangle\\color{#C00}{ \\vert\\textbf{0}\\rangle}+ \\vert\\textbf{17}\\rangle\\color{#C00}{ \\vert\\textbf{0}\\rangle}+ \\vert\\textbf{18}\\rangle\\color{#C00}{ \\vert\\textbf{0}\\rangle}+ \\vert\\textbf{19}\\rangle\\color{#C00}{ \\vert\\textbf{0}\\rangle}\\end{equation*}\n",
       "\\begin{equation*} \\quad\\quad\\quad + \\vert\\textbf{20}\\rangle\\color{#C00}{ \\vert\\textbf{0}\\rangle}+ \\vert\\textbf{21}\\rangle\\color{#C00}{ \\vert\\textbf{0}\\rangle}+ \\vert\\textbf{22}\\rangle\\color{#C00}{ \\vert\\textbf{0}\\rangle}+ \\vert\\textbf{23}\\rangle\\color{#C00}{ \\vert\\textbf{0}\\rangle}+ \\vert\\textbf{24}\\rangle\\color{#C00}{ \\vert\\textbf{0}\\rangle}+ \\vert\\textbf{25}\\rangle\\color{#C00}{ \\vert\\textbf{0}\\rangle}+ \\vert\\textbf{26}\\rangle\\color{#C00}{ \\vert\\textbf{0}\\rangle}+ \\vert\\textbf{27}\\rangle\\color{#C00}{ \\vert\\textbf{0}\\rangle}+ \\vert\\textbf{28}\\rangle\\color{#C00}{ \\vert\\textbf{0}\\rangle}+ \\vert\\textbf{29}\\rangle\\color{#C00}{ \\vert\\textbf{0}\\rangle}\\end{equation*}\n",
       "\\begin{equation*} \\quad\\quad\\quad + \\vert\\textbf{30}\\rangle\\color{#C00}{ \\vert\\textbf{0}\\rangle}+ \\vert\\textbf{31}\\rangle\\color{#C00}{ \\vert\\textbf{0}\\rangle}+ \\vert\\textbf{32}\\rangle\\color{#C00}{ \\vert\\textbf{0}\\rangle}+ \\vert\\textbf{33}\\rangle\\color{#C00}{ \\vert\\textbf{0}\\rangle}+ \\vert\\textbf{34}\\rangle\\color{#C00}{ \\vert\\textbf{0}\\rangle}+ \\vert\\textbf{35}\\rangle\\color{#C00}{ \\vert\\textbf{0}\\rangle}+ \\vert\\textbf{36}\\rangle\\color{#C00}{ \\vert\\textbf{0}\\rangle}+ \\vert\\textbf{37}\\rangle\\color{#C00}{ \\vert\\textbf{0}\\rangle}+ \\vert\\textbf{38}\\rangle\\color{#C00}{ \\vert\\textbf{0}\\rangle}+ \\vert\\textbf{39}\\rangle\\color{#C00}{ \\vert\\textbf{0}\\rangle}\\end{equation*}\n",
       "\\begin{equation*} \\quad\\quad\\quad + \\vert\\textbf{40}\\rangle\\color{#C00}{ \\vert\\textbf{0}\\rangle}+ \\vert\\textbf{41}\\rangle\\color{#C00}{ \\vert\\textbf{0}\\rangle}+ \\vert\\textbf{42}\\rangle\\color{#C00}{ \\vert\\textbf{0}\\rangle}+ \\vert\\textbf{43}\\rangle\\color{#C00}{ \\vert\\textbf{0}\\rangle}+ \\vert\\textbf{44}\\rangle\\color{#C00}{ \\vert\\textbf{0}\\rangle}+ \\vert\\textbf{45}\\rangle\\color{#C00}{ \\vert\\textbf{0}\\rangle}+ \\vert\\textbf{46}\\rangle\\color{#C00}{ \\vert\\textbf{0}\\rangle}+ \\vert\\textbf{47}\\rangle\\color{#C00}{ \\vert\\textbf{0}\\rangle}+ \\vert\\textbf{48}\\rangle\\color{#C00}{ \\vert\\textbf{0}\\rangle}+ \\vert\\textbf{49}\\rangle\\color{#C00}{ \\vert\\textbf{0}\\rangle}\\end{equation*}\n",
       "\\begin{equation*} \\quad\\quad\\quad + \\vert\\textbf{50}\\rangle\\color{#C00}{ \\vert\\textbf{0}\\rangle}+ \\vert\\textbf{51}\\rangle\\color{#C00}{ \\vert\\textbf{0}\\rangle}+ \\vert\\textbf{52}\\rangle\\color{#C00}{ \\vert\\textbf{0}\\rangle}+ \\vert\\textbf{53}\\rangle\\color{#C00}{ \\vert\\textbf{0}\\rangle}+ \\vert\\textbf{54}\\rangle\\color{#C00}{ \\vert\\textbf{0}\\rangle}+ \\vert\\textbf{55}\\rangle\\color{#C00}{ \\vert\\textbf{0}\\rangle}+ \\vert\\textbf{56}\\rangle\\color{#C00}{ \\vert\\textbf{0}\\rangle}+ \\vert\\textbf{57}\\rangle\\color{#C00}{ \\vert\\textbf{0}\\rangle}+ \\vert\\textbf{58}\\rangle\\color{#C00}{ \\vert\\textbf{0}\\rangle}+ \\vert\\textbf{59}\\rangle\\color{#C00}{ \\vert\\textbf{0}\\rangle}\\end{equation*}\n",
       "\\begin{equation*} \\quad\\quad\\quad + \\vert\\textbf{60}\\rangle\\color{#C00}{ \\vert\\textbf{0}\\rangle}+ \\vert\\textbf{61}\\rangle\\color{#C00}{ \\vert\\textbf{0}\\rangle}+ \\vert\\textbf{62}\\rangle\\color{#C00}{ \\vert\\textbf{0}\\rangle}\\end{equation*} \\begin{equation*} ....... \\end{equation*} \\begin{equation*} \\quad\\quad\\quad+ \\vert\\textbf{192}\\rangle\\color{#C00}{ \\vert\\textbf{0}\\rangle}+ \\vert\\textbf{193}\\rangle\\color{#C00}{ \\vert\\textbf{0}\\rangle}+ \\vert\\textbf{194}\\rangle\\color{#C00}{ \\vert\\textbf{0}\\rangle}+ \\vert\\textbf{195}\\rangle\\color{#C00}{ \\vert\\textbf{0}\\rangle}+ \\vert\\textbf{196}\\rangle\\color{#C00}{ \\vert\\textbf{0}\\rangle}+ \\vert\\textbf{197}\\rangle\\color{#C00}{ \\vert\\textbf{0}\\rangle}+ \\vert\\textbf{198}\\rangle\\color{#C00}{ \\vert\\textbf{0}\\rangle}+ \\vert\\textbf{199}\\rangle\\color{#C00}{ \\vert\\textbf{0}\\rangle}\\end{equation*}\n",
       "\\begin{equation*} \\quad\\quad\\quad + \\vert\\textbf{200}\\rangle\\color{#C00}{ \\vert\\textbf{0}\\rangle}+ \\vert\\textbf{201}\\rangle\\color{#C00}{ \\vert\\textbf{0}\\rangle}+ \\vert\\textbf{202}\\rangle\\color{#C00}{ \\vert\\textbf{0}\\rangle}+ \\vert\\textbf{203}\\rangle\\color{#C00}{ \\vert\\textbf{0}\\rangle}+ \\vert\\textbf{204}\\rangle\\color{#C00}{ \\vert\\textbf{0}\\rangle}+ \\vert\\textbf{205}\\rangle\\color{#C00}{ \\vert\\textbf{0}\\rangle}+ \\vert\\textbf{206}\\rangle\\color{#C00}{ \\vert\\textbf{0}\\rangle}+ \\vert\\textbf{207}\\rangle\\color{#C00}{ \\vert\\textbf{0}\\rangle}+ \\vert\\textbf{208}\\rangle\\color{#C00}{ \\vert\\textbf{0}\\rangle}+ \\vert\\textbf{209}\\rangle\\color{#C00}{ \\vert\\textbf{0}\\rangle}\\end{equation*}\n",
       "\\begin{equation*} \\quad\\quad\\quad + \\vert\\textbf{210}\\rangle\\color{#C00}{ \\vert\\textbf{0}\\rangle}+ \\vert\\textbf{211}\\rangle\\color{#C00}{ \\vert\\textbf{0}\\rangle}+ \\vert\\textbf{212}\\rangle\\color{#C00}{ \\vert\\textbf{0}\\rangle}+ \\vert\\textbf{213}\\rangle\\color{#C00}{ \\vert\\textbf{0}\\rangle}+ \\vert\\textbf{214}\\rangle\\color{#C00}{ \\vert\\textbf{0}\\rangle}+ \\vert\\textbf{215}\\rangle\\color{#C00}{ \\vert\\textbf{0}\\rangle}+ \\vert\\textbf{216}\\rangle\\color{#C00}{ \\vert\\textbf{0}\\rangle}+ \\vert\\textbf{217}\\rangle\\color{#C00}{ \\vert\\textbf{0}\\rangle}+ \\vert\\textbf{218}\\rangle\\color{#C00}{ \\vert\\textbf{0}\\rangle}+ \\vert\\textbf{219}\\rangle\\color{#C00}{ \\vert\\textbf{0}\\rangle}\\end{equation*}\n",
       "\\begin{equation*} \\quad\\quad\\quad + \\vert\\textbf{220}\\rangle\\color{#C00}{ \\vert\\textbf{0}\\rangle}+ \\vert\\textbf{221}\\rangle\\color{#C00}{ \\vert\\textbf{0}\\rangle}+ \\vert\\textbf{222}\\rangle\\color{#C00}{ \\vert\\textbf{0}\\rangle}+ \\vert\\textbf{223}\\rangle\\color{#C00}{ \\vert\\textbf{0}\\rangle}+ \\vert\\textbf{224}\\rangle\\color{#C00}{ \\vert\\textbf{0}\\rangle}+ \\vert\\textbf{225}\\rangle\\color{#C00}{ \\vert\\textbf{0}\\rangle}+ \\vert\\textbf{226}\\rangle\\color{#C00}{ \\vert\\textbf{0}\\rangle}+ \\vert\\textbf{227}\\rangle\\color{#C00}{ \\vert\\textbf{0}\\rangle}+ \\vert\\textbf{228}\\rangle\\color{#C00}{ \\vert\\textbf{0}\\rangle}+ \\vert\\textbf{229}\\rangle\\color{#C00}{ \\vert\\textbf{0}\\rangle}\\end{equation*}\n",
       "\\begin{equation*} \\quad\\quad\\quad + \\vert\\textbf{230}\\rangle\\color{#C00}{ \\vert\\textbf{0}\\rangle}+ \\vert\\textbf{231}\\rangle\\color{#C00}{ \\vert\\textbf{0}\\rangle}+ \\vert\\textbf{232}\\rangle\\color{#C00}{ \\vert\\textbf{0}\\rangle}+ \\vert\\textbf{233}\\rangle\\color{#C00}{ \\vert\\textbf{0}\\rangle}+ \\vert\\textbf{234}\\rangle\\color{#C00}{ \\vert\\textbf{0}\\rangle}+ \\vert\\textbf{235}\\rangle\\color{#C00}{ \\vert\\textbf{0}\\rangle}+ \\vert\\textbf{236}\\rangle\\color{#C00}{ \\vert\\textbf{0}\\rangle}+ \\vert\\textbf{237}\\rangle\\color{#C00}{ \\vert\\textbf{0}\\rangle}+ \\vert\\textbf{238}\\rangle\\color{#C00}{ \\vert\\textbf{0}\\rangle}+ \\vert\\textbf{239}\\rangle\\color{#C00}{ \\vert\\textbf{0}\\rangle}\\end{equation*}\n",
       "\\begin{equation*} \\quad\\quad\\quad + \\vert\\textbf{240}\\rangle\\color{#C00}{ \\vert\\textbf{0}\\rangle}+ \\vert\\textbf{241}\\rangle\\color{#C00}{ \\vert\\textbf{0}\\rangle}+ \\vert\\textbf{242}\\rangle\\color{#C00}{ \\vert\\textbf{0}\\rangle}+ \\vert\\textbf{243}\\rangle\\color{#C00}{ \\vert\\textbf{0}\\rangle}+ \\vert\\textbf{244}\\rangle\\color{#C00}{ \\vert\\textbf{0}\\rangle}+ \\vert\\textbf{245}\\rangle\\color{#C00}{ \\vert\\textbf{0}\\rangle}+ \\vert\\textbf{246}\\rangle\\color{#C00}{ \\vert\\textbf{0}\\rangle}+ \\vert\\textbf{247}\\rangle\\color{#C00}{ \\vert\\textbf{0}\\rangle}+ \\vert\\textbf{248}\\rangle\\color{#C00}{ \\vert\\textbf{0}\\rangle}+ \\vert\\textbf{249}\\rangle\\color{#C00}{ \\vert\\textbf{0}\\rangle}\\end{equation*}\n",
       "\\begin{equation*} \\quad\\quad\\quad + \\vert\\textbf{250}\\rangle\\color{#C00}{ \\vert\\textbf{0}\\rangle}+ \\vert\\textbf{251}\\rangle\\color{#C00}{ \\vert\\textbf{0}\\rangle}+ \\vert\\textbf{252}\\rangle\\color{#C00}{ \\vert\\textbf{0}\\rangle}+ \\vert\\textbf{253}\\rangle\\color{#C00}{ \\vert\\textbf{0}\\rangle}+ \\vert\\textbf{254}\\rangle\\color{#C00}{ \\vert\\textbf{0}\\rangle}+ \\vert\\textbf{255}\\rangle\\color{#C00}{ \\vert\\textbf{0}\\rangle}\\big)\\end{equation*}"
      ],
      "text/plain": [
       "<IPython.core.display.Latex object>"
      ]
     },
     "execution_count": 19,
     "metadata": {},
     "output_type": "execute_result"
    }
   ],
   "source": [
    "Latex(shor_state_vector(qc, register_1_size))"
   ]
  },
  {
   "cell_type": "markdown",
   "metadata": {},
   "source": [
    "# Map onto $a^x mod N$\n",
    "Map the state $\\vert x \\rangle\\vert 0 \\rangle$ to $\\vert x \\rangle\\vert a^x mod N \\rangle$.\n",
    "\n",
    "Doing this with quantum operations would exceed the circuit space available, so put it into a classical calulation and load the result into the quantum simulator."
   ]
  },
  {
   "cell_type": "code",
   "execution_count": 20,
   "metadata": {},
   "outputs": [],
   "source": [
    "def compute_state_vector(nilf, a, register_1_size, register_2_size):\n",
    "    bit_size = ceil(log2(nilf))\n",
    "    total_size = register_1_size + register_2_size\n",
    "    \n",
    "    state_vector = np.zeros((2**total_size, 1), dtype=complex)\n",
    "    power = 1\n",
    "    for k in range(2**(register_1_size)):\n",
    "        binary_k = lq.int_to_binary_string(k, register_1_size)\n",
    "        binary_power = lq.int_to_binary_string(power, register_2_size)\n",
    "        binary_k = binary_k[::-1]\n",
    "        binary_power = binary_power[::-1]\n",
    "        state_vector = state_vector + np.kron(ket(binary_power), ket(binary_k))\n",
    "        power = int(power) * int(a) % int(nilf)\n",
    "        # for larger nilf's, provides a status\n",
    "        if k+1 % 1000 == 0:\n",
    "            print('{} of {}'.format(k, 2**(register_1_size)))\n",
    "    state_vector = state_vector / sqrt(2**(register_1_size))\n",
    "    return state_vector.reshape(2**(total_size),)"
   ]
  },
  {
   "cell_type": "markdown",
   "metadata": {},
   "source": [
    "Formally: $$\\frac{1}{\\sqrt{S}}\\sum_{x=0}^{S-1} \\vert x \\rangle \\vert a^x mod \\; n \\rangle$$  (Note that the \"a\" and \"x\" are reversed between Shor's article and Smolin's.  Here, I use Smolin's a as the base.)"
   ]
  },
  {
   "cell_type": "code",
   "execution_count": 21,
   "metadata": {},
   "outputs": [
    {
     "data": {
      "text/plain": [
       "<qiskit.circuit.instructionset.InstructionSet at 0x136ade0b8>"
      ]
     },
     "execution_count": 21,
     "metadata": {},
     "output_type": "execute_result"
    }
   ],
   "source": [
    "reg_1 = QuantumRegister(register_1_size) \n",
    "reg_2 = QuantumRegister(register_2_size)\n",
    "cr = ClassicalRegister(register_1_size)  ## to measure output\n",
    "qc = QuantumCircuit(reg_1, reg_2, cr)\n",
    "\n",
    "modular_vector = compute_state_vector(nilf, a, register_1_size, register_2_size)\n",
    "qc.initialize(modular_vector, [reg_1, reg_2])\n",
    "\n"
   ]
  },
  {
   "cell_type": "markdown",
   "metadata": {},
   "source": [
    "The numbers in red are $a^x$ mod $N$.  If the transformation is done correctly, there are $S$ of these starting at 0 and going to $S-1$.  "
   ]
  },
  {
   "cell_type": "code",
   "execution_count": 22,
   "metadata": {},
   "outputs": [
    {
     "data": {
      "text/latex": [
       "\\begin{equation*} \\vert \\psi\\rangle=\\frac{1}{16}\\big( \\vert\\textbf{0}\\rangle\\color{#C00}{ \\vert\\textbf{1}\\rangle}+ \\vert\\textbf{1}\\rangle\\color{#C00}{ \\vert\\textbf{7}\\rangle}+ \\vert\\textbf{2}\\rangle\\color{#C00}{ \\vert\\textbf{4}\\rangle}+ \\vert\\textbf{3}\\rangle\\color{#C00}{ \\vert\\textbf{13}\\rangle}+ \\vert\\textbf{4}\\rangle\\color{#C00}{ \\vert\\textbf{1}\\rangle}+ \\vert\\textbf{5}\\rangle\\color{#C00}{ \\vert\\textbf{7}\\rangle}+ \\vert\\textbf{6}\\rangle\\color{#C00}{ \\vert\\textbf{4}\\rangle}+ \\vert\\textbf{7}\\rangle\\color{#C00}{ \\vert\\textbf{13}\\rangle}+ \\vert\\textbf{8}\\rangle\\color{#C00}{ \\vert\\textbf{1}\\rangle}+ \\vert\\textbf{9}\\rangle\\color{#C00}{ \\vert\\textbf{7}\\rangle}\\end{equation*}\n",
       "\\begin{equation*} \\quad\\quad\\quad + \\vert\\textbf{10}\\rangle\\color{#C00}{ \\vert\\textbf{4}\\rangle}+ \\vert\\textbf{11}\\rangle\\color{#C00}{ \\vert\\textbf{13}\\rangle}+ \\vert\\textbf{12}\\rangle\\color{#C00}{ \\vert\\textbf{1}\\rangle}+ \\vert\\textbf{13}\\rangle\\color{#C00}{ \\vert\\textbf{7}\\rangle}+ \\vert\\textbf{14}\\rangle\\color{#C00}{ \\vert\\textbf{4}\\rangle}+ \\vert\\textbf{15}\\rangle\\color{#C00}{ \\vert\\textbf{13}\\rangle}+ \\vert\\textbf{16}\\rangle\\color{#C00}{ \\vert\\textbf{1}\\rangle}+ \\vert\\textbf{17}\\rangle\\color{#C00}{ \\vert\\textbf{7}\\rangle}+ \\vert\\textbf{18}\\rangle\\color{#C00}{ \\vert\\textbf{4}\\rangle}+ \\vert\\textbf{19}\\rangle\\color{#C00}{ \\vert\\textbf{13}\\rangle}\\end{equation*}\n",
       "\\begin{equation*} \\quad\\quad\\quad + \\vert\\textbf{20}\\rangle\\color{#C00}{ \\vert\\textbf{1}\\rangle}+ \\vert\\textbf{21}\\rangle\\color{#C00}{ \\vert\\textbf{7}\\rangle}+ \\vert\\textbf{22}\\rangle\\color{#C00}{ \\vert\\textbf{4}\\rangle}+ \\vert\\textbf{23}\\rangle\\color{#C00}{ \\vert\\textbf{13}\\rangle}+ \\vert\\textbf{24}\\rangle\\color{#C00}{ \\vert\\textbf{1}\\rangle}+ \\vert\\textbf{25}\\rangle\\color{#C00}{ \\vert\\textbf{7}\\rangle}+ \\vert\\textbf{26}\\rangle\\color{#C00}{ \\vert\\textbf{4}\\rangle}+ \\vert\\textbf{27}\\rangle\\color{#C00}{ \\vert\\textbf{13}\\rangle}+ \\vert\\textbf{28}\\rangle\\color{#C00}{ \\vert\\textbf{1}\\rangle}+ \\vert\\textbf{29}\\rangle\\color{#C00}{ \\vert\\textbf{7}\\rangle}\\end{equation*}\n",
       "\\begin{equation*} \\quad\\quad\\quad + \\vert\\textbf{30}\\rangle\\color{#C00}{ \\vert\\textbf{4}\\rangle}+ \\vert\\textbf{31}\\rangle\\color{#C00}{ \\vert\\textbf{13}\\rangle}+ \\vert\\textbf{32}\\rangle\\color{#C00}{ \\vert\\textbf{1}\\rangle}+ \\vert\\textbf{33}\\rangle\\color{#C00}{ \\vert\\textbf{7}\\rangle}+ \\vert\\textbf{34}\\rangle\\color{#C00}{ \\vert\\textbf{4}\\rangle}+ \\vert\\textbf{35}\\rangle\\color{#C00}{ \\vert\\textbf{13}\\rangle}+ \\vert\\textbf{36}\\rangle\\color{#C00}{ \\vert\\textbf{1}\\rangle}+ \\vert\\textbf{37}\\rangle\\color{#C00}{ \\vert\\textbf{7}\\rangle}+ \\vert\\textbf{38}\\rangle\\color{#C00}{ \\vert\\textbf{4}\\rangle}+ \\vert\\textbf{39}\\rangle\\color{#C00}{ \\vert\\textbf{13}\\rangle}\\end{equation*}\n",
       "\\begin{equation*} \\quad\\quad\\quad + \\vert\\textbf{40}\\rangle\\color{#C00}{ \\vert\\textbf{1}\\rangle}+ \\vert\\textbf{41}\\rangle\\color{#C00}{ \\vert\\textbf{7}\\rangle}+ \\vert\\textbf{42}\\rangle\\color{#C00}{ \\vert\\textbf{4}\\rangle}+ \\vert\\textbf{43}\\rangle\\color{#C00}{ \\vert\\textbf{13}\\rangle}+ \\vert\\textbf{44}\\rangle\\color{#C00}{ \\vert\\textbf{1}\\rangle}+ \\vert\\textbf{45}\\rangle\\color{#C00}{ \\vert\\textbf{7}\\rangle}+ \\vert\\textbf{46}\\rangle\\color{#C00}{ \\vert\\textbf{4}\\rangle}+ \\vert\\textbf{47}\\rangle\\color{#C00}{ \\vert\\textbf{13}\\rangle}+ \\vert\\textbf{48}\\rangle\\color{#C00}{ \\vert\\textbf{1}\\rangle}+ \\vert\\textbf{49}\\rangle\\color{#C00}{ \\vert\\textbf{7}\\rangle}\\end{equation*}\n",
       "\\begin{equation*} \\quad\\quad\\quad + \\vert\\textbf{50}\\rangle\\color{#C00}{ \\vert\\textbf{4}\\rangle}+ \\vert\\textbf{51}\\rangle\\color{#C00}{ \\vert\\textbf{13}\\rangle}+ \\vert\\textbf{52}\\rangle\\color{#C00}{ \\vert\\textbf{1}\\rangle}+ \\vert\\textbf{53}\\rangle\\color{#C00}{ \\vert\\textbf{7}\\rangle}+ \\vert\\textbf{54}\\rangle\\color{#C00}{ \\vert\\textbf{4}\\rangle}+ \\vert\\textbf{55}\\rangle\\color{#C00}{ \\vert\\textbf{13}\\rangle}+ \\vert\\textbf{56}\\rangle\\color{#C00}{ \\vert\\textbf{1}\\rangle}+ \\vert\\textbf{57}\\rangle\\color{#C00}{ \\vert\\textbf{7}\\rangle}+ \\vert\\textbf{58}\\rangle\\color{#C00}{ \\vert\\textbf{4}\\rangle}+ \\vert\\textbf{59}\\rangle\\color{#C00}{ \\vert\\textbf{13}\\rangle}\\end{equation*}\n",
       "\\begin{equation*} \\quad\\quad\\quad + \\vert\\textbf{60}\\rangle\\color{#C00}{ \\vert\\textbf{1}\\rangle}+ \\vert\\textbf{61}\\rangle\\color{#C00}{ \\vert\\textbf{7}\\rangle}+ \\vert\\textbf{62}\\rangle\\color{#C00}{ \\vert\\textbf{4}\\rangle}\\end{equation*} \\begin{equation*} ....... \\end{equation*} \\begin{equation*} \\quad\\quad\\quad+ \\vert\\textbf{192}\\rangle\\color{#C00}{ \\vert\\textbf{1}\\rangle}+ \\vert\\textbf{193}\\rangle\\color{#C00}{ \\vert\\textbf{7}\\rangle}+ \\vert\\textbf{194}\\rangle\\color{#C00}{ \\vert\\textbf{4}\\rangle}+ \\vert\\textbf{195}\\rangle\\color{#C00}{ \\vert\\textbf{13}\\rangle}+ \\vert\\textbf{196}\\rangle\\color{#C00}{ \\vert\\textbf{1}\\rangle}+ \\vert\\textbf{197}\\rangle\\color{#C00}{ \\vert\\textbf{7}\\rangle}+ \\vert\\textbf{198}\\rangle\\color{#C00}{ \\vert\\textbf{4}\\rangle}+ \\vert\\textbf{199}\\rangle\\color{#C00}{ \\vert\\textbf{13}\\rangle}\\end{equation*}\n",
       "\\begin{equation*} \\quad\\quad\\quad + \\vert\\textbf{200}\\rangle\\color{#C00}{ \\vert\\textbf{1}\\rangle}+ \\vert\\textbf{201}\\rangle\\color{#C00}{ \\vert\\textbf{7}\\rangle}+ \\vert\\textbf{202}\\rangle\\color{#C00}{ \\vert\\textbf{4}\\rangle}+ \\vert\\textbf{203}\\rangle\\color{#C00}{ \\vert\\textbf{13}\\rangle}+ \\vert\\textbf{204}\\rangle\\color{#C00}{ \\vert\\textbf{1}\\rangle}+ \\vert\\textbf{205}\\rangle\\color{#C00}{ \\vert\\textbf{7}\\rangle}+ \\vert\\textbf{206}\\rangle\\color{#C00}{ \\vert\\textbf{4}\\rangle}+ \\vert\\textbf{207}\\rangle\\color{#C00}{ \\vert\\textbf{13}\\rangle}+ \\vert\\textbf{208}\\rangle\\color{#C00}{ \\vert\\textbf{1}\\rangle}+ \\vert\\textbf{209}\\rangle\\color{#C00}{ \\vert\\textbf{7}\\rangle}\\end{equation*}\n",
       "\\begin{equation*} \\quad\\quad\\quad + \\vert\\textbf{210}\\rangle\\color{#C00}{ \\vert\\textbf{4}\\rangle}+ \\vert\\textbf{211}\\rangle\\color{#C00}{ \\vert\\textbf{13}\\rangle}+ \\vert\\textbf{212}\\rangle\\color{#C00}{ \\vert\\textbf{1}\\rangle}+ \\vert\\textbf{213}\\rangle\\color{#C00}{ \\vert\\textbf{7}\\rangle}+ \\vert\\textbf{214}\\rangle\\color{#C00}{ \\vert\\textbf{4}\\rangle}+ \\vert\\textbf{215}\\rangle\\color{#C00}{ \\vert\\textbf{13}\\rangle}+ \\vert\\textbf{216}\\rangle\\color{#C00}{ \\vert\\textbf{1}\\rangle}+ \\vert\\textbf{217}\\rangle\\color{#C00}{ \\vert\\textbf{7}\\rangle}+ \\vert\\textbf{218}\\rangle\\color{#C00}{ \\vert\\textbf{4}\\rangle}+ \\vert\\textbf{219}\\rangle\\color{#C00}{ \\vert\\textbf{13}\\rangle}\\end{equation*}\n",
       "\\begin{equation*} \\quad\\quad\\quad + \\vert\\textbf{220}\\rangle\\color{#C00}{ \\vert\\textbf{1}\\rangle}+ \\vert\\textbf{221}\\rangle\\color{#C00}{ \\vert\\textbf{7}\\rangle}+ \\vert\\textbf{222}\\rangle\\color{#C00}{ \\vert\\textbf{4}\\rangle}+ \\vert\\textbf{223}\\rangle\\color{#C00}{ \\vert\\textbf{13}\\rangle}+ \\vert\\textbf{224}\\rangle\\color{#C00}{ \\vert\\textbf{1}\\rangle}+ \\vert\\textbf{225}\\rangle\\color{#C00}{ \\vert\\textbf{7}\\rangle}+ \\vert\\textbf{226}\\rangle\\color{#C00}{ \\vert\\textbf{4}\\rangle}+ \\vert\\textbf{227}\\rangle\\color{#C00}{ \\vert\\textbf{13}\\rangle}+ \\vert\\textbf{228}\\rangle\\color{#C00}{ \\vert\\textbf{1}\\rangle}+ \\vert\\textbf{229}\\rangle\\color{#C00}{ \\vert\\textbf{7}\\rangle}\\end{equation*}\n",
       "\\begin{equation*} \\quad\\quad\\quad + \\vert\\textbf{230}\\rangle\\color{#C00}{ \\vert\\textbf{4}\\rangle}+ \\vert\\textbf{231}\\rangle\\color{#C00}{ \\vert\\textbf{13}\\rangle}+ \\vert\\textbf{232}\\rangle\\color{#C00}{ \\vert\\textbf{1}\\rangle}+ \\vert\\textbf{233}\\rangle\\color{#C00}{ \\vert\\textbf{7}\\rangle}+ \\vert\\textbf{234}\\rangle\\color{#C00}{ \\vert\\textbf{4}\\rangle}+ \\vert\\textbf{235}\\rangle\\color{#C00}{ \\vert\\textbf{13}\\rangle}+ \\vert\\textbf{236}\\rangle\\color{#C00}{ \\vert\\textbf{1}\\rangle}+ \\vert\\textbf{237}\\rangle\\color{#C00}{ \\vert\\textbf{7}\\rangle}+ \\vert\\textbf{238}\\rangle\\color{#C00}{ \\vert\\textbf{4}\\rangle}+ \\vert\\textbf{239}\\rangle\\color{#C00}{ \\vert\\textbf{13}\\rangle}\\end{equation*}\n",
       "\\begin{equation*} \\quad\\quad\\quad + \\vert\\textbf{240}\\rangle\\color{#C00}{ \\vert\\textbf{1}\\rangle}+ \\vert\\textbf{241}\\rangle\\color{#C00}{ \\vert\\textbf{7}\\rangle}+ \\vert\\textbf{242}\\rangle\\color{#C00}{ \\vert\\textbf{4}\\rangle}+ \\vert\\textbf{243}\\rangle\\color{#C00}{ \\vert\\textbf{13}\\rangle}+ \\vert\\textbf{244}\\rangle\\color{#C00}{ \\vert\\textbf{1}\\rangle}+ \\vert\\textbf{245}\\rangle\\color{#C00}{ \\vert\\textbf{7}\\rangle}+ \\vert\\textbf{246}\\rangle\\color{#C00}{ \\vert\\textbf{4}\\rangle}+ \\vert\\textbf{247}\\rangle\\color{#C00}{ \\vert\\textbf{13}\\rangle}+ \\vert\\textbf{248}\\rangle\\color{#C00}{ \\vert\\textbf{1}\\rangle}+ \\vert\\textbf{249}\\rangle\\color{#C00}{ \\vert\\textbf{7}\\rangle}\\end{equation*}\n",
       "\\begin{equation*} \\quad\\quad\\quad + \\vert\\textbf{250}\\rangle\\color{#C00}{ \\vert\\textbf{4}\\rangle}+ \\vert\\textbf{251}\\rangle\\color{#C00}{ \\vert\\textbf{13}\\rangle}+ \\vert\\textbf{252}\\rangle\\color{#C00}{ \\vert\\textbf{1}\\rangle}+ \\vert\\textbf{253}\\rangle\\color{#C00}{ \\vert\\textbf{7}\\rangle}+ \\vert\\textbf{254}\\rangle\\color{#C00}{ \\vert\\textbf{4}\\rangle}+ \\vert\\textbf{255}\\rangle\\color{#C00}{ \\vert\\textbf{13}\\rangle}\\big)\\end{equation*}"
      ],
      "text/plain": [
       "<IPython.core.display.Latex object>"
      ]
     },
     "execution_count": 22,
     "metadata": {},
     "output_type": "execute_result"
    }
   ],
   "source": [
    "Latex(shor_state_vector(qc, register_1_size))"
   ]
  },
  {
   "cell_type": "code",
   "execution_count": 23,
   "metadata": {},
   "outputs": [],
   "source": [
    "# if Latex is too long, use:\n",
    "#lq.print_state_vector(qc, integer=True, split=register_1_size)"
   ]
  },
  {
   "cell_type": "markdown",
   "metadata": {},
   "source": [
    "Because $N^2 \\leq S \\lt 2N^2$, this state vector always contains the period, but we cannot read it directly in a real quantum computer.  As such, use a quantum Fourier transformation to condense it to the overlaping numbers.  That is, map it onto: $$\\frac{1}{S}\\sum_x \\sum_y e^{(2\\pi i/S)xy} \\vert y \\rangle \\vert a^x mod \\; n \\rangle$$\n",
    "\n",
    "This is done by applying a unitary matrix with the (x, y) entry equal to $$\\frac{1}{\\sqrt{S}}e^{2\\pi ixy/S}$$\n",
    "\n",
    "This is accomplished with the textbook QFT.  But to verify the matrix, we will create a smaller sample of just the first register.  Even then, it is too big to display the whole thing, but the library will truncate it to the first 16 rows/columns.  Inspect these and make sure they match the reference.\n",
    "\n"
   ]
  },
  {
   "cell_type": "code",
   "execution_count": 24,
   "metadata": {},
   "outputs": [],
   "source": [
    "def textbook_qft(circuit, qr_qft, bit_size, start_at=0):\n",
    "\n",
    "    for j in range(bit_size + start_at):\n",
    "        circuit.h(qr_qft[j])\n",
    "        for k in range(1 + start_at, bit_size - j + start_at):\n",
    "            angle = π/(2**k)\n",
    "            circuit.cu1(angle, qr_qft[k+j], qr_qft[j])\n",
    "            \n",
    "    for i in range(bit_size//2 + start_at):\n",
    "        circuit.swap(qr_qft[i], qr_qft[bit_size-i-1])\n",
    "    return circuit"
   ]
  },
  {
   "cell_type": "code",
   "execution_count": 25,
   "metadata": {},
   "outputs": [
    {
     "data": {
      "text/plain": [
       "<qiskit.circuit.quantumcircuit.QuantumCircuit at 0x136a31860>"
      ]
     },
     "execution_count": 25,
     "metadata": {},
     "output_type": "execute_result"
    }
   ],
   "source": [
    "verify_reg = QuantumRegister(register_1_size)\n",
    "verify_qft = QuantumCircuit(verify_reg)\n",
    "textbook_qft(verify_qft, verify_reg, register_1_size)\n"
   ]
  },
  {
   "cell_type": "code",
   "execution_count": 26,
   "metadata": {},
   "outputs": [
    {
     "data": {
      "text/latex": [
       "\\begin{equation*}\\frac{1}{16}\\begin{pmatrix}1 & 1 & 1 & 1 & 1 & 1 & 1 & 1 & 1 & 1 & 1 & 1 & 1 & 1 & 1 \\\\ \n",
       "1 & e^{\\frac{\\pi}{128} i} & e^{\\frac{\\pi}{64} i} & e^{\\frac{3\\pi}{128} i} & e^{\\frac{\\pi}{32} i} & e^{\\frac{5\\pi}{128} i} & e^{\\frac{3\\pi}{64} i} & e^{\\frac{7\\pi}{128} i} & e^{\\frac{\\pi}{16} i} & e^{\\frac{9\\pi}{128} i} & e^{\\frac{5\\pi}{64} i} & e^{\\frac{11\\pi}{128} i} & e^{\\frac{3\\pi}{32} i} & e^{\\frac{13\\pi}{128} i} & e^{\\frac{7\\pi}{64} i} \\\\ \n",
       "1 & e^{\\frac{\\pi}{64} i} & e^{\\frac{\\pi}{32} i} & e^{\\frac{3\\pi}{64} i} & e^{\\frac{\\pi}{16} i} & e^{\\frac{5\\pi}{64} i} & e^{\\frac{3\\pi}{32} i} & e^{\\frac{7\\pi}{64} i} & e^{\\frac{\\pi}{8} i} & e^{\\frac{9\\pi}{64} i} & e^{\\frac{5\\pi}{32} i} & e^{\\frac{11\\pi}{64} i} & e^{\\frac{3\\pi}{16} i} & e^{\\frac{13\\pi}{64} i} & e^{\\frac{7\\pi}{32} i} \\\\ \n",
       "1 & e^{\\frac{3\\pi}{128} i} & e^{\\frac{3\\pi}{64} i} & e^{\\frac{9\\pi}{128} i} & e^{\\frac{3\\pi}{32} i} & e^{\\frac{15\\pi}{128} i} & e^{\\frac{9\\pi}{64} i} & e^{\\frac{21\\pi}{128} i} & e^{\\frac{3\\pi}{16} i} & e^{\\frac{27\\pi}{128} i} & e^{\\frac{15\\pi}{64} i} & e^{\\frac{33\\pi}{128} i} & e^{\\frac{9\\pi}{32} i} & e^{\\frac{39\\pi}{128} i} & e^{\\frac{21\\pi}{64} i} \\\\ \n",
       "1 & e^{\\frac{\\pi}{32} i} & e^{\\frac{\\pi}{16} i} & e^{\\frac{3\\pi}{32} i} & e^{\\frac{\\pi}{8} i} & e^{\\frac{5\\pi}{32} i} & e^{\\frac{3\\pi}{16} i} & e^{\\frac{7\\pi}{32} i} & e^{\\frac{\\pi}{4} i} & e^{\\frac{9\\pi}{32} i} & e^{\\frac{5\\pi}{16} i} & e^{\\frac{11\\pi}{32} i} & e^{\\frac{3\\pi}{8} i} & e^{\\frac{13\\pi}{32} i} & e^{\\frac{7\\pi}{16} i} \\\\ \n",
       "1 & e^{\\frac{5\\pi}{128} i} & e^{\\frac{5\\pi}{64} i} & e^{\\frac{15\\pi}{128} i} & e^{\\frac{5\\pi}{32} i} & e^{\\frac{25\\pi}{128} i} & e^{\\frac{15\\pi}{64} i} & e^{\\frac{35\\pi}{128} i} & e^{\\frac{5\\pi}{16} i} & e^{\\frac{45\\pi}{128} i} & e^{\\frac{25\\pi}{64} i} & e^{\\frac{55\\pi}{128} i} & e^{\\frac{15\\pi}{32} i} & e^{\\frac{65\\pi}{128} i} & e^{\\frac{35\\pi}{64} i} \\\\ \n",
       "1 & e^{\\frac{3\\pi}{64} i} & e^{\\frac{3\\pi}{32} i} & e^{\\frac{9\\pi}{64} i} & e^{\\frac{3\\pi}{16} i} & e^{\\frac{15\\pi}{64} i} & e^{\\frac{9\\pi}{32} i} & e^{\\frac{21\\pi}{64} i} & e^{\\frac{3\\pi}{8} i} & e^{\\frac{27\\pi}{64} i} & e^{\\frac{15\\pi}{32} i} & e^{\\frac{33\\pi}{64} i} & e^{\\frac{9\\pi}{16} i} & e^{\\frac{39\\pi}{64} i} & e^{\\frac{21\\pi}{32} i} \\\\ \n",
       "1 & e^{\\frac{7\\pi}{128} i} & e^{\\frac{7\\pi}{64} i} & e^{\\frac{21\\pi}{128} i} & e^{\\frac{7\\pi}{32} i} & e^{\\frac{35\\pi}{128} i} & e^{\\frac{21\\pi}{64} i} & e^{\\frac{49\\pi}{128} i} & e^{\\frac{7\\pi}{16} i} & e^{\\frac{63\\pi}{128} i} & e^{\\frac{35\\pi}{64} i} & e^{\\frac{77\\pi}{128} i} & e^{\\frac{21\\pi}{32} i} & e^{\\frac{91\\pi}{128} i} & e^{\\frac{49\\pi}{64} i} \\\\ \n",
       "1 & e^{\\frac{\\pi}{16} i} & e^{\\frac{\\pi}{8} i} & e^{\\frac{3\\pi}{16} i} & e^{\\frac{\\pi}{4} i} & e^{\\frac{5\\pi}{16} i} & e^{\\frac{3\\pi}{8} i} & e^{\\frac{7\\pi}{16} i} & e^{\\frac{\\pi}{2} i} & e^{\\frac{9\\pi}{16} i} & e^{\\frac{5\\pi}{8} i} & e^{\\frac{11\\pi}{16} i} & e^{\\frac{3\\pi}{4} i} & e^{\\frac{13\\pi}{16} i} & e^{\\frac{7\\pi}{8} i} \\\\ \n",
       "1 & e^{\\frac{9\\pi}{128} i} & e^{\\frac{9\\pi}{64} i} & e^{\\frac{27\\pi}{128} i} & e^{\\frac{9\\pi}{32} i} & e^{\\frac{45\\pi}{128} i} & e^{\\frac{27\\pi}{64} i} & e^{\\frac{63\\pi}{128} i} & e^{\\frac{9\\pi}{16} i} & e^{\\frac{81\\pi}{128} i} & e^{\\frac{45\\pi}{64} i} & e^{\\frac{99\\pi}{128} i} & e^{\\frac{27\\pi}{32} i} & e^{\\frac{117\\pi}{128} i} & e^{\\frac{63\\pi}{64} i} \\\\ \n",
       "1 & e^{\\frac{5\\pi}{64} i} & e^{\\frac{5\\pi}{32} i} & e^{\\frac{15\\pi}{64} i} & e^{\\frac{5\\pi}{16} i} & e^{\\frac{25\\pi}{64} i} & e^{\\frac{15\\pi}{32} i} & e^{\\frac{35\\pi}{64} i} & e^{\\frac{5\\pi}{8} i} & e^{\\frac{45\\pi}{64} i} & e^{\\frac{25\\pi}{32} i} & e^{\\frac{55\\pi}{64} i} & e^{\\frac{15\\pi}{16} i} & e^{\\frac{65\\pi}{64} i} & e^{\\frac{35\\pi}{32} i} \\\\ \n",
       "1 & e^{\\frac{11\\pi}{128} i} & e^{\\frac{11\\pi}{64} i} & e^{\\frac{33\\pi}{128} i} & e^{\\frac{11\\pi}{32} i} & e^{\\frac{55\\pi}{128} i} & e^{\\frac{33\\pi}{64} i} & e^{\\frac{77\\pi}{128} i} & e^{\\frac{11\\pi}{16} i} & e^{\\frac{99\\pi}{128} i} & e^{\\frac{55\\pi}{64} i} & e^{\\frac{121\\pi}{128} i} & e^{\\frac{33\\pi}{32} i} & e^{\\frac{143\\pi}{128} i} & e^{\\frac{77\\pi}{64} i} \\\\ \n",
       "1 & e^{\\frac{3\\pi}{32} i} & e^{\\frac{3\\pi}{16} i} & e^{\\frac{9\\pi}{32} i} & e^{\\frac{3\\pi}{8} i} & e^{\\frac{15\\pi}{32} i} & e^{\\frac{9\\pi}{16} i} & e^{\\frac{21\\pi}{32} i} & e^{\\frac{3\\pi}{4} i} & e^{\\frac{27\\pi}{32} i} & e^{\\frac{15\\pi}{16} i} & e^{\\frac{33\\pi}{32} i} & e^{\\frac{9\\pi}{8} i} & e^{\\frac{39\\pi}{32} i} & e^{\\frac{21\\pi}{16} i} \\\\ \n",
       "1 & e^{\\frac{13\\pi}{128} i} & e^{\\frac{13\\pi}{64} i} & e^{\\frac{39\\pi}{128} i} & e^{\\frac{13\\pi}{32} i} & e^{\\frac{65\\pi}{128} i} & e^{\\frac{39\\pi}{64} i} & e^{\\frac{91\\pi}{128} i} & e^{\\frac{13\\pi}{16} i} & e^{\\frac{117\\pi}{128} i} & e^{\\frac{65\\pi}{64} i} & e^{\\frac{143\\pi}{128} i} & e^{\\frac{39\\pi}{32} i} & e^{\\frac{169\\pi}{128} i} & e^{\\frac{91\\pi}{64} i} \\\\ \n",
       "1 & e^{\\frac{7\\pi}{64} i} & e^{\\frac{7\\pi}{32} i} & e^{\\frac{21\\pi}{64} i} & e^{\\frac{7\\pi}{16} i} & e^{\\frac{35\\pi}{64} i} & e^{\\frac{21\\pi}{32} i} & e^{\\frac{49\\pi}{64} i} & e^{\\frac{7\\pi}{8} i} & e^{\\frac{63\\pi}{64} i} & e^{\\frac{35\\pi}{32} i} & e^{\\frac{77\\pi}{64} i} & e^{\\frac{21\\pi}{16} i} & e^{\\frac{91\\pi}{64} i} & e^{\\frac{49\\pi}{32} i} \\\\ \n",
       "\\end{pmatrix}\\end{equation*}Max Display Size Exceeded"
      ],
      "text/plain": [
       "<IPython.core.display.Latex object>"
      ]
     },
     "execution_count": 26,
     "metadata": {},
     "output_type": "execute_result"
    }
   ],
   "source": [
    "Latex(lq.show_me_the_matrix(verify_qft, normalize=True, display_exp=True))"
   ]
  },
  {
   "cell_type": "markdown",
   "metadata": {},
   "source": [
    "## Perform the actual QFT on the real matrix"
   ]
  },
  {
   "cell_type": "code",
   "execution_count": 27,
   "metadata": {},
   "outputs": [],
   "source": [
    "qft = QuantumCircuit(reg_1, reg_2, cr)\n",
    "textbook_qft(qft, reg_1, register_1_size)\n",
    "qft = qft.inverse()"
   ]
  },
  {
   "cell_type": "code",
   "execution_count": 28,
   "metadata": {},
   "outputs": [
    {
     "data": {
      "text/latex": [
       "\\begin{equation*} \\vert \\psi\\rangle=\\frac{1}{4}\\big( \\vert\\textbf{0}\\rangle\\color{#C00}{ \\vert\\textbf{1}\\rangle}+ \\vert\\textbf{0}\\rangle\\color{#C00}{ \\vert\\textbf{4}\\rangle}+ \\vert\\textbf{0}\\rangle\\color{#C00}{ \\vert\\textbf{7}\\rangle}+ \\vert\\textbf{0}\\rangle\\color{#C00}{ \\vert\\textbf{13}\\rangle}+ \\vert\\textbf{64}\\rangle\\color{#C00}{ \\vert\\textbf{1}\\rangle}- \\vert\\textbf{64}\\rangle\\color{#C00}{ \\vert\\textbf{4}\\rangle}-i \\vert\\textbf{64}\\rangle\\color{#C00}{ \\vert\\textbf{7}\\rangle}+ \\vert\\textbf{64}\\rangle\\color{#C00}{ \\vert\\textbf{13}\\rangle}+ \\vert\\textbf{128}\\rangle\\color{#C00}{ \\vert\\textbf{1}\\rangle}+ \\vert\\textbf{128}\\rangle\\color{#C00}{ \\vert\\textbf{4}\\rangle}\\end{equation*}\n",
       "\\begin{equation*} \\quad\\quad\\quad - \\vert\\textbf{128}\\rangle\\color{#C00}{ \\vert\\textbf{7}\\rangle}- \\vert\\textbf{128}\\rangle\\color{#C00}{ \\vert\\textbf{13}\\rangle}+ \\vert\\textbf{192}\\rangle\\color{#C00}{ \\vert\\textbf{1}\\rangle}- \\vert\\textbf{192}\\rangle\\color{#C00}{ \\vert\\textbf{4}\\rangle}+ \\vert\\textbf{192}\\rangle\\color{#C00}{ \\vert\\textbf{7}\\rangle}-i \\vert\\textbf{192}\\rangle\\color{#C00}{ \\vert\\textbf{13}\\rangle}\\big)\\end{equation*}"
      ],
      "text/plain": [
       "<IPython.core.display.Latex object>"
      ]
     },
     "execution_count": 28,
     "metadata": {},
     "output_type": "execute_result"
    }
   ],
   "source": [
    "Latex(shor_state_vector(qc + qft, register_1_size))"
   ]
  },
  {
   "cell_type": "code",
   "execution_count": 29,
   "metadata": {},
   "outputs": [],
   "source": [
    "# if Latex is too long, use:\n",
    "#lq.print_state_vector(qc + qft.inverse(), integer=True, split=register_1_size)"
   ]
  },
  {
   "cell_type": "markdown",
   "metadata": {},
   "source": [
    "The \"show_state_vector\" routine uses show_zeros=False by default. The QFT maps all the other terms to 0. When the register size is an exact multiple of the period, it gives an exact result and the size of the displayed state vector will be small. \n",
    "\n",
    "Essentially, the QFT is displaying the frequency information from the previous state vector. "
   ]
  },
  {
   "cell_type": "markdown",
   "metadata": {},
   "source": [
    "## Measurement\n",
    "Add a measurment and compute the period.  The math behind this is fairly interesting and is covered in the book. But the code is simple as it is convered by the Fraction module.\n",
    "\n",
    "Shor's original paper covered a single measurement.  In modern quantum computers, performing multiple measurements once the circuit has been set up is fairly fast, so I'll first cover the single measurment situation and then multile-measurments.\n",
    "\n",
    "If the period is odd or $a^{r/2} = -1 $ mod $N$, it will not find a factor (in most cases). A factor is found by the greatest common divisor of $a^{r/2} \\pm 1$ and $N$. \n",
    "\n",
    "Rather than performing various checks, for small numbers, it is easiest to try to get the factor. "
   ]
  },
  {
   "cell_type": "code",
   "execution_count": 30,
   "metadata": {},
   "outputs": [],
   "source": [
    "def check_factor(nilf, r, a):\n",
    "    a = int(a)\n",
    "    p = int(r/2)\n",
    "\n",
    "    power = pow(a, p, nilf)\n",
    "    g1 = gcd(power+1, nilf)\n",
    "    if g1>1 and g1<nilf and nilf/g1 == int(nilf/g1):\n",
    "        return g1\n",
    "    \n",
    "    g2 = gcd(power-1, nilf)\n",
    "    if g2 >1 and g2<nilf and nilf/g2 == int(nilf/g2):\n",
    "            return g2\n",
    "        \n",
    "    return -1"
   ]
  },
  {
   "cell_type": "code",
   "execution_count": 31,
   "metadata": {},
   "outputs": [
    {
     "name": "stdout",
     "output_type": "stream",
     "text": [
      "5\n"
     ]
    }
   ],
   "source": [
    "m = QuantumCircuit(reg_1, reg_2, cr)\n",
    "m.measure(reg_1, cr)\n",
    "shots = 1\n",
    "answers = lq.execute_simulated(qc + qft + m ,shots)\n",
    "k = next(iter(answers))\n",
    "val = int(lq.reverse_string(k),2)\n",
    "period = Fraction(val/(2**register_1_size)).limit_denominator(nilf-1).denominator\n",
    "print(check_factor(nilf, period, a))"
   ]
  },
  {
   "cell_type": "markdown",
   "metadata": {},
   "source": [
    "## Plot the results to visually see the periods\n",
    "\n",
    "The number of peaks corresponds to the period.  "
   ]
  },
  {
   "cell_type": "code",
   "execution_count": 32,
   "metadata": {},
   "outputs": [],
   "source": [
    "shots = 1000\n",
    "answers = lq.execute_simulated(qc + qft + m ,shots)"
   ]
  },
  {
   "cell_type": "code",
   "execution_count": 33,
   "metadata": {},
   "outputs": [
    {
     "data": {
      "image/png": "[encoded data removed]",
      "text/plain": [
       "<Figure size 720x360 with 1 Axes>"
      ]
     },
     "metadata": {
      "needs_background": "light"
     },
     "output_type": "display_data"
    }
   ],
   "source": [
    "lq.plot_results(answers, integer=True, tick_threshold=0)"
   ]
  },
  {
   "cell_type": "code",
   "execution_count": null,
   "metadata": {},
   "outputs": [],
   "source": []
  }
 ],
 "metadata": {
  "kernelspec": {
   "display_name": "Python 3",
   "language": "python",
   "name": "python3"
  },
  "language_info": {
   "codemirror_mode": {
    "name": "ipython",
    "version": 3
   },
   "file_extension": ".py",
   "mimetype": "text/x-python",
   "name": "python",
   "nbconvert_exporter": "python",
   "pygments_lexer": "ipython3",
   "version": "3.7.2"
  }
 },
 "nbformat": 4,
 "nbformat_minor": 2
}
