{
 "cells": [
  {
   "cell_type": "markdown",
   "metadata": {},
   "source": [
    "Portions of this code are originally from https://github.com/qiskit/. Which is licensed under Apache License 2.0 http://www.apache.org/licenses/\n",
    "\n",
    "The original code is © Copyright IBM 2017, 2019.\n",
    "\n",
    "This code is licensed under the Apache License, Version 2.0. You may obtain a copy of this license in the LICENSE.txt file in the root directory of this source tree or at http://www.apache.org/licenses/LICENSE-2.0.\n",
    "\n",
    "Any modifications or derivative works of this code must retain this copyright notice, and modified files need to carry a notice indicating that they have been altered from the originals.\n",
    "\n",
    "Major modifications have been made to the original code. The modifications were not made by IBM.\n"
   ]
  },
  {
   "cell_type": "markdown",
   "metadata": {},
   "source": [
    "# Integer Factorization in N+1 Qubits\n",
    "\n",
    "The following is a simplification of Shor's algorithm using N+1 qubits and only one application of modular exponentiation.  The drastically reduced gate count should allow it to run on existing hardware and there is no need for error correcting qubits for moderately reliable qubits because it handles error correction with redundancy.   \n",
    "\n",
    "Shor's Original and Beauregards make up the base of the quantum function.  A simplification of only handling 2 as a base was implemnted to reduce the number of qubits.  This means that some numbers cannot be factored -- the same numbers Shor's Original cannot factor using only a base of 2. \n",
    "\n",
    "The key to the algorithm is that  $x^2 mod N$ as a quantum function creates a permutation matrix.  This matrix has eigenvalues, and one of those eigenvalues is the period of the function.  We do not need the exact period, but only a multiple of one of the sub-periods.  In Shor's Original, the post processing divides by 2 to get the sub-period that is needed.  In fact, Shor's goes further than necessary by finding the conjunction of both sub-periods.  Finding both sub-periods is unnecessary, as finding one sub-period provides one factor to the number.  From there, the other factor(s) are trivial. This routine attempts to access the sub-periods directly, as the sub-periods are always shorter than then full period. \n",
    "\n",
    "A periodic eigenvalue repeats the same vector each number of times in its period.  Here, the eigenvalues are roots of unity (that is, they are complex numbers that when raised to a power, equal 1).  Those eigenvalues must be physically represented by the qubits.  Therefore, when all the qubits return to their original positions, you know that is a multiple of a period of an eigenvalue.  Which multiple is irrelevant as the classical post processing efficiently handles even extremely large multiples. \n",
    "\n",
    "Because the function is periodic, it does not matter whether you find the first value that will factor the number or the 1000th value.  There is no need to worry about coordination or correlation of the qubits, as they are periodic functions.  Shor's Original spends most of its processing time eliminating these unnecessary periods.  Such calculations are faster to perform in classical post processing with the power mod function.  Even the classical post-processing function below can be significantly optimized, but there is little reason as it runs fast enough as it is, and the inefficiencies are left in so that it is easier to see how it works. \n",
    "\n",
    "The advantage to this method is that error correction is handled by redundancy. The gate count can be significantly reduced by switching to Big Endian  (Qiskit) format.  I leave it in this form as it is easier to understand how it works using the \"textbook\" version of the algorithms.  But all the swap gates can be removed from the QFT if it is done as Big Endian. \n",
    "\n",
    "A logical question is whether this entire routine can be efficiently classically simulated -- to which I have an answer, but it is too large to fit in the margins of this notebook. \n",
    "\n",
    "As an additional practical note, the classical post processing works best on numbers that are the products of two prime numbers. For the product of more than two primes, it very quickly finds the full major period which prevents it from finding non-trivial factors. However, with the full period, it is trivial to factor the number, but the classical post processing below does not do this as it adds little explanatory value.    \n",
    "\n",
    "See Shor's initial article https://arxiv.org/abs/quant-ph/9508027v2 and its summary https://arxiv.org/abs/1301.7007v1 by John A. Smolin, Graeme Smith and Alex Vargo.  Basic outline from Stephane Beauregard (https://arxiv.org/abs/quant-ph/0205095 ).  Implemention of some functions modified from Qiskit, which appears to have borrowed from a project from TU-Delft. (https://www.tudelft.nl/en/). "
   ]
  },
  {
   "cell_type": "code",
   "execution_count": 1,
   "metadata": {},
   "outputs": [],
   "source": [
    "# You need the learn_quantum.py library which is in the same directory.\n",
    "import numpy as np\n",
    "\n",
    "from math import ceil, sqrt, log2\n",
    "\n",
    "from qiskit import QuantumRegister, ClassicalRegister, QuantumCircuit, execute\n",
    "import learn_quantum as lq\n",
    "from math import acos\n",
    "from numpy import pi, cos, sin, exp, gcd, lcm, pi as π\n",
    "from IPython.display import Latex, display\n",
    "from qiskit.aqua.utils.circuit_utils import summarize_circuits"
   ]
  },
  {
   "cell_type": "code",
   "execution_count": null,
   "metadata": {},
   "outputs": [],
   "source": []
  },
  {
   "cell_type": "markdown",
   "metadata": {},
   "source": [
    "# Quantum Routines "
   ]
  },
  {
   "cell_type": "code",
   "execution_count": 2,
   "metadata": {},
   "outputs": [],
   "source": [
    "def textbook_qft(qr, start_at=0, no_swaps=False, bit_size=0):\n",
    "    if bit_size == 0:\n",
    "        bit_size = len(qr)\n",
    "    circuit = QuantumCircuit(qr)\n",
    "    \n",
    "    for j in range(bit_size):\n",
    "        circuit.h(qr[j+start_at])\n",
    "        for k in range(1, bit_size-j):\n",
    "            angle = π/(2**k)\n",
    "            circuit.cu1(angle, qr[k+j+start_at], qr[j+start_at])\n",
    "    \n",
    "    if not no_swaps:\n",
    "        for i in range(bit_size//2):\n",
    "            circuit.swap(qr[i+start_at], qr[bit_size-i-1+start_at])\n",
    "    \n",
    "    return circuit"
   ]
  },
  {
   "cell_type": "code",
   "execution_count": 3,
   "metadata": {},
   "outputs": [],
   "source": [
    "def add_integer(circuit, qr, value):\n",
    "    q_count = len(qr)\n",
    "    angle = value * π * (1/(2**(q_count-1)))\n",
    "    for k in range(q_count):\n",
    "        circuit.u1((2**k) * angle, qr[q_count - 1 - k] )\n",
    "\n",
    "\n",
    "def c_add_integer(circuit, qr, control, value):\n",
    "    q_count = len(qr)\n",
    "    angle = value * π * (1/(2**(q_count-1)))\n",
    "    # the \"control\" qubit can be in either location\n",
    "    for k in range(q_count):\n",
    "        circuit.cu1((2**k) * angle, qr[q_count - 1 - k], control )\n",
    "        \n",
    "        \n",
    "def multiply_2_mod(circuit, qr, qr_anc, mod):\n",
    "    # shift all bits left 1 <<\n",
    "    shift = QuantumCircuit(qr, qr_anc)\n",
    "    size = len(qr)\n",
    "    for k in range(size-1):\n",
    "        shift.swap(qr[k], qr[k+1])\n",
    "    circuit += shift\n",
    "    \n",
    "    # subtract the mod\n",
    "    qft = textbook_qft(qr)\n",
    "    circuit += qft\n",
    "    add_mod = QuantumCircuit(qr, qr_anc)\n",
    "    add_integer(add_mod, qr, mod)\n",
    "    circuit += add_mod.inverse()\n",
    "    \n",
    "    # check whether the top bit is 1 (negative)\n",
    "    circuit += qft.inverse()\n",
    "    circuit.cx(qr[0], qr_anc[0])\n",
    "    circuit += qft\n",
    "    \n",
    "    # add the mod back if it was negative\n",
    "    c_add_mod = QuantumCircuit(qr, qr_anc)\n",
    "    c_add_integer(c_add_mod, qr, qr_anc[0], mod)\n",
    "    circuit += c_add_mod\n",
    "   \n",
    "    #un-compute the ancillary\n",
    "    circuit += qft.inverse()\n",
    "    circuit += shift.inverse()\n",
    "    circuit += add_mod\n",
    "    circuit.x(qr[0])\n",
    "    circuit.cx(qr[0], qr_anc[0])\n",
    "    circuit.x(qr[0])\n",
    "    circuit += add_mod.inverse()\n",
    "    circuit += shift\n",
    "    \n",
    "    return circuit"
   ]
  },
  {
   "cell_type": "markdown",
   "metadata": {},
   "source": [
    "# Classical Post-Processing Routines"
   ]
  },
  {
   "cell_type": "code",
   "execution_count": 4,
   "metadata": {},
   "outputs": [],
   "source": [
    "def period_from_probability(prob):\n",
    "    radians = acos(sqrt(prob))\n",
    "    return period_from_radian(radians)\n",
    "\n",
    "def period_from_radian(rad):\n",
    "    #  need to adjust these number to factor larger numbers\n",
    "    # these values should work for most numbers runnable on current hardware\n",
    "    for k in range(1, 5000000):\n",
    "        if ((k*rad) % (2*π)) < 0.00001:\n",
    "            return k\n",
    "    return -1\n",
    "\n",
    "def search_answers(ones, shots, nilf, bit_size, precission):\n",
    "    product = 1\n",
    "    for val in ones:\n",
    "        prob = round(val/shots, precission)\n",
    "\n",
    "        per = period_from_probability(prob)\n",
    "        if per > -1 :\n",
    "            product *= per\n",
    "        print('Period:', per)\n",
    "        p=pow(2, product, nilf)\n",
    "\n",
    "        g1 = gcd(p-1, nilf)\n",
    "        if g1 > 1 and g1 < nilf:\n",
    "            return g1\n",
    "        g2 = gcd(p+1, nilf)\n",
    "        if g2 > 1 and g2 < nilf:\n",
    "            return g2\n",
    "    return -1"
   ]
  },
  {
   "cell_type": "code",
   "execution_count": null,
   "metadata": {},
   "outputs": [],
   "source": []
  },
  {
   "cell_type": "markdown",
   "metadata": {},
   "source": [
    "# Quantum Function"
   ]
  },
  {
   "cell_type": "code",
   "execution_count": 11,
   "metadata": {},
   "outputs": [
    {
     "name": "stdout",
     "output_type": "stream",
     "text": [
      "Base size:  17\n",
      "Done\n"
     ]
    }
   ],
   "source": [
    "# number I'd like to factor\n",
    "#nilf =  34889 #123 #50621#55687#47897 # examples to test\n",
    "#nilf = 376489  # Can do 20 bit numbers\n",
    "nilf = 59989  ## verify it is more efficient than traditional-classical by using less than 29750 shots\n",
    "\n",
    "bit_size = len('{0:b}'.format(nilf)) + 1 \n",
    "print('Base size: ', bit_size)\n",
    "\n",
    "# uses an ancillary register size 1 for computing mod\n",
    "qr = QuantumRegister(bit_size)\n",
    "qr_anc = QuantumRegister(1)\n",
    "cr = ClassicalRegister(bit_size)\n",
    "\n",
    "init = QuantumCircuit(qr, qr_anc)\n",
    "init.x(qr[bit_size - 1])\n",
    "\n",
    "final_h = QuantumCircuit(qr, qr_anc)\n",
    "final_h.h(qr)\n",
    "\n",
    "qc_multi_2 = QuantumCircuit(qr, qr_anc)\n",
    "qc_multi_2 = multiply_2_mod(qc_multi_2, qr, qr_anc, nilf)\n",
    "\n",
    "qft = textbook_qft(qr)\n",
    "\n",
    "m = QuantumCircuit(qr, qr_anc, cr)\n",
    "m.measure(qr, cr)\n",
    "\n",
    "# increasing the shots greatly increases the probability to find\n",
    "# For numbers less than 15 bits, 1000*bit_size is usually sufficient\n",
    "shots = 5000*bit_size\n",
    "\n",
    "shots = 29000 ## remove this for general testing.  \n",
    "\n",
    "answers = lq.execute_simulated(init + qc_multi_2  + qft + final_h\n",
    "                               +m, shots)\n",
    "\n",
    "\n",
    "print('Done')"
   ]
  },
  {
   "cell_type": "code",
   "execution_count": 12,
   "metadata": {},
   "outputs": [
    {
     "name": "stdout",
     "output_type": "stream",
     "text": [
      "Submitting 1 circuits.\n",
      "============================================================================\n",
      "0-th circuit: 18 qubits, 0 classical bits and 943 operations with depth 198\n",
      "op_counts: OrderedDict([('cu1', 697), ('h', 102), ('swap', 88), ('u1', 51), ('x', 3), ('cx', 2)])\n",
      "============================================================================\n",
      "\n"
     ]
    }
   ],
   "source": [
    "print(summarize_circuits(init + qc_multi_2  + qft + final_h))"
   ]
  },
  {
   "cell_type": "markdown",
   "metadata": {},
   "source": [
    "# Classical Post-Processing\n",
    "\n",
    "The results of each qubit are combined into an array that has the number of zeros and ones for each individual qubit.  That results is used to calculate the angle of the individual qubit.  The angle is used to calculate a period.  For instance $\\pi/4$ has a period of 8 -- that is, it will reach a multiple of $2\\pi$ every 8 cycles. \n",
    "\n",
    "The periods are multiplied together to test for the sub-period. A sub-period is the number of times a factor has a greatest common divisor with a $2^x mod N$.  In Shor's Original, the sub-period is found at the end by dividing the full period by 2.  However, additional sub-periods exist, and it is always the case that one sub-period is smaller than the other.   I use the term \"full period\" to mean $2^x mod N = 1$.  And a sub-period is $gcd(2^x mod N, N) =$ non-trivial factor."
   ]
  },
  {
   "cell_type": "code",
   "execution_count": 13,
   "metadata": {},
   "outputs": [
    {
     "name": "stdout",
     "output_type": "stream",
     "text": [
      "Period: 4\n",
      "Period: 1\n",
      "Period: 1339493\n",
      "Period: 492745\n",
      "Period: 462635\n",
      "Found it: 251 239\n"
     ]
    }
   ],
   "source": [
    "# puts the results into totals by qubit\n",
    "zeros, ones = lq.results_by_qubit(answers)\n",
    "\n",
    "# increase the precission until it is found\n",
    "for precission in range(3, 7):\n",
    "    factor = search_answers(ones, shots, nilf, bit_size, precission)\n",
    "    if factor > -1:\n",
    "        print('Found it:', factor, nilf//factor)\n",
    "        break\n",
    "        "
   ]
  },
  {
   "cell_type": "markdown",
   "metadata": {},
   "source": [
    "If it didn't find it.  Just run the quatum circuit again -- not just the classical post-processing. You can also increase he number of \"shots\".  As an improvement, the results from multiple smaller shot runs could be combined such that the more you ran it, the more accurate it would be. "
   ]
  },
  {
   "cell_type": "markdown",
   "metadata": {},
   "source": [
    "# How it works\n",
    "\n"
   ]
  },
  {
   "cell_type": "code",
   "execution_count": 246,
   "metadata": {},
   "outputs": [
    {
     "name": "stdout",
     "output_type": "stream",
     "text": [
      "Base size:  6\n"
     ]
    }
   ],
   "source": [
    "# number I'd like to factor\n",
    "nilf = 21\n",
    "\n",
    "bit_size = len('{0:b}'.format(nilf)) + 1 \n",
    "print('Base size: ', bit_size)\n",
    "\n",
    "qr = QuantumRegister(bit_size)\n",
    "qr_anc = QuantumRegister(1)\n",
    "\n",
    "qc_multi_2_small = QuantumCircuit(qr, qr_anc)\n",
    "qc_multi_2_small = multiply_2_mod(qc_multi_2_small, qr, qr_anc, nilf)"
   ]
  },
  {
   "cell_type": "code",
   "execution_count": 247,
   "metadata": {},
   "outputs": [
    {
     "data": {
      "text/latex": [
       "\\begin{equation*}1 \\mapsto 86 \\mapsto 5 \\mapsto 94 \\mapsto 21 \\mapsto 126 \\mapsto 127 \\mapsto 85 \\mapsto 43 \\mapsto 84\\;\\;\\;(10)\\\\2 \\mapsto 4 \\mapsto 8 \\mapsto 16 \\mapsto 32 \\mapsto 22\\;\\;\\;(6)\\\\3 \\mapsto 90 \\mapsto 13 \\mapsto 110 \\mapsto 53 \\mapsto 104 \\mapsto 41 \\mapsto 80 \\mapsto 35 \\mapsto 68 \\mapsto 11 \\mapsto 106 \\mapsto 45 \\mapsto 88 \\mapsto 9 \\mapsto 102 \\mapsto 37 \\mapsto 72 \\mapsto 19 \\mapsto 122 \\mapsto 119 \\mapsto 69 \\mapsto 97 \\mapsto 67 \\mapsto 93 \\mapsto 59 \\mapsto 74 \\mapsto 23 \\mapsto 44 \\mapsto 46 \\mapsto 50 \\mapsto 58 \\mapsto 116 \\mapsto 107 \\mapsto 87 \\mapsto 47 \\mapsto 92 \\mapsto 17 \\mapsto 118 \\mapsto 111 \\mapsto 95 \\mapsto 63 \\mapsto 82 \\mapsto 39 \\mapsto 76 \\mapsto 27 \\mapsto 52 \\mapsto 62 \\mapsto 124 \\mapsto 123 \\mapsto 77 \\mapsto 113 \\mapsto 99 \\mapsto 71 \\mapsto 101 \\mapsto 75 \\mapsto 109 \\mapsto 91 \\mapsto 55 \\mapsto 66 \\mapsto 7 \\mapsto 98 \\mapsto 29 \\mapsto 56 \\mapsto 112 \\mapsto 57 \\mapsto 70 \\mapsto 15 \\mapsto 114 \\mapsto 61 \\mapsto 78 \\mapsto 31 \\mapsto 60 \\mapsto 120 \\mapsto 115 \\mapsto 103 \\mapsto 79 \\mapsto 117 \\mapsto 65 \\mapsto 89 \\mapsto 51 \\mapsto 100 \\mapsto 33 \\mapsto 64\\;\\;\\;(84)\\\\6 \\mapsto 12 \\mapsto 24\\;\\;\\;(3)\\\\10 \\mapsto 20 \\mapsto 40 \\mapsto 38 \\mapsto 34 \\mapsto 26\\;\\;\\;(6)\\\\14 \\mapsto 28\\;\\;\\;(2)\\\\18 \\mapsto 36 \\mapsto 30\\;\\;\\;(3)\\\\22 \\mapsto 2\\;\\;\\;(2)\\\\24 \\mapsto 6\\;\\;\\;(2)\\\\25 \\mapsto 48 \\mapsto 54 \\mapsto 108 \\mapsto 49 \\mapsto 96\\;\\;\\;(6)\\\\26 \\mapsto 10\\;\\;\\;(2)\\\\28 \\mapsto 14\\;\\;\\;(2)\\\\30 \\mapsto 18\\;\\;\\;(2)\\\\64 \\mapsto 3\\;\\;\\;(2)\\\\73 \\mapsto 105 \\mapsto 83 \\mapsto 125 \\mapsto 81 \\mapsto 121\\;\\;\\;(6)\\\\84 \\mapsto 1\\;\\;\\;(2)\\\\96 \\mapsto 25\\;\\;\\;(2)\\\\121 \\mapsto 73\\;\\;\\;(2)\\\\\\end{equation*}"
      ],
      "text/plain": [
       "<IPython.core.display.Latex object>"
      ]
     },
     "metadata": {},
     "output_type": "display_data"
    }
   ],
   "source": [
    "if len(qc_multi_2_small.qregs[0]) < 8:\n",
    "    lq.show_cycles(qc_multi_2_small, min_size=2)\n",
    "else:\n",
    "    print('Circuit too large')"
   ]
  },
  {
   "cell_type": "markdown",
   "metadata": {},
   "source": [
    "The period is represented inside the quantum function -- which is represented by the trasformation matrix.  It is a permutation matrix, and the \"show cycles\" function maps out the permutations.  \n",
    "\n",
    "For instance, the period $2 \\mapsto 4 \\mapsto 8 \\mapsto 16 \\mapsto 32 \\mapsto 22$ corresponds with the general period.  As a note, these values are pow(2, k, nilf\\*2).  But they have the same period as Shor's Original.  That is, simply multiplying a number by 2 does not increase its period. It may not be that specific order is used, but one of the 6 cycle terms is used.  As a practical matter, you can always spot the size of the full period because there will be a pow(2, k, nilf\\*2) period. "
   ]
  },
  {
   "cell_type": "code",
   "execution_count": 248,
   "metadata": {},
   "outputs": [
    {
     "data": {
      "text/latex": [
       "\\begin{equation*}\\begin{pmatrix}1 &  0  &  0  &  0  &  0  &  0  &  0  &  0  &  0  &  0  &  0  &  0  &  0  &  0  &  0  \\\\ \n",
       " 0  &  0  &  0  &  0  &  0  &  0  &  0  &  0  &  0  &  0  &  0  &  0  &  0  &  0  &  0  \\\\ \n",
       " 0  &  0  &  0  &  0  &  0  &  0  &  0  &  0  &  0  &  0  &  0  &  0  &  0  &  0  &  0  \\\\ \n",
       " 0  &  0  &  0  &  0  &  0  &  0  &  0  &  0  &  0  &  0  &  0  &  0  &  0  &  0  &  0  \\\\ \n",
       " 0  &  0  & 1 &  0  &  0  &  0  &  0  &  0  &  0  &  0  &  0  &  0  &  0  &  0  &  0  \\\\ \n",
       " 0  &  0  &  0  &  0  &  0  &  0  &  0  &  0  &  0  &  0  &  0  &  0  &  0  &  0  &  0  \\\\ \n",
       " 0  &  0  &  0  &  0  &  0  &  0  &  0  &  0  &  0  &  0  &  0  &  0  &  0  &  0  &  0  \\\\ \n",
       " 0  &  0  &  0  &  0  &  0  &  0  &  0  &  0  &  0  &  0  &  0  &  0  &  0  &  0  &  0  \\\\ \n",
       " 0  &  0  &  0  &  0  & 1 &  0  &  0  &  0  &  0  &  0  &  0  &  0  &  0  &  0  &  0  \\\\ \n",
       " 0  &  0  &  0  &  0  &  0  &  0  &  0  &  0  &  0  &  0  &  0  &  0  &  0  &  0  &  0  \\\\ \n",
       " 0  &  0  &  0  &  0  &  0  &  0  &  0  &  0  &  0  &  0  &  0  &  0  &  0  &  0  &  0  \\\\ \n",
       " 0  &  0  &  0  &  0  &  0  &  0  &  0  &  0  &  0  &  0  &  0  &  0  &  0  &  0  &  0  \\\\ \n",
       " 0  &  0  &  0  &  0  &  0  &  0  & 1 &  0  &  0  &  0  &  0  &  0  &  0  &  0  &  0  \\\\ \n",
       " 0  &  0  &  0  &  0  &  0  &  0  &  0  &  0  &  0  &  0  &  0  &  0  &  0  &  0  &  0  \\\\ \n",
       " 0  &  0  &  0  &  0  &  0  &  0  &  0  &  0  &  0  &  0  &  0  &  0  &  0  &  0  &  0  \\\\ \n",
       "\\end{pmatrix}\\end{equation*}Max Display Size Exceeded"
      ],
      "text/plain": [
       "<IPython.core.display.Latex object>"
      ]
     },
     "metadata": {},
     "output_type": "display_data"
    }
   ],
   "source": [
    "# the matrix is too large to show, this truncates it\n",
    "# and shows just a small section.  \n",
    "# All the computational rows are \"one-hot\", even though the 1 does not appear in the truncated version\n",
    "lq.show_me_the_matrix(qc_multi_2_small)"
   ]
  },
  {
   "cell_type": "markdown",
   "metadata": {},
   "source": [
    "The periods that correspond to the eigenvalues are in the phases:"
   ]
  },
  {
   "cell_type": "code",
   "execution_count": 249,
   "metadata": {},
   "outputs": [
    {
     "data": {
      "text/latex": [
       "\\begin{equation*} \\vert \\psi_0\\rangle=cos\\left(0\\right)\\vert 0 \\rangle +e^{\\frac{115\\pi}{61} i} sin\\left(0\\right)\\vert 1 \\rangle\\end{equation*}\\begin{equation} \\\\ \\end{equation}\\begin{equation*} \\vert \\psi_1\\rangle=cos\\left(0\\right)\\vert 0 \\rangle +e^{\\frac{2\\pi}{67} i} sin\\left(0\\right)\\vert 1 \\rangle\\end{equation*}\\begin{equation} \\\\ \\end{equation}\\begin{equation*} \\vert \\psi_2\\rangle=cos\\left(0\\right)\\vert 0 \\rangle +e^{0.647210895721 i} sin\\left(0\\right)\\vert 1 \\rangle\\end{equation*}\\begin{equation} \\\\ \\end{equation}\\begin{equation*} \\vert \\psi_3\\rangle=cos\\left(0\\right)\\vert 0 \\rangle +e^{0.575315878678 i} sin\\left(0\\right)\\vert 1 \\rangle\\end{equation*}\\begin{equation} \\\\ \\end{equation}\\begin{equation*} \\vert \\psi_4\\rangle=cos\\left(0\\right)\\vert 0 \\rangle +e^{0.425501608339 i} sin\\left(0\\right)\\vert 1 \\rangle\\end{equation*}\\begin{equation} \\\\ \\end{equation}\\begin{equation*} \\vert \\psi_5\\rangle=cos\\left(0\\right)\\vert 0 \\rangle +e^{0.177940111883 i} sin\\left(0\\right)\\vert 1 \\rangle\\end{equation*}\\begin{equation} \\\\ \\end{equation}\\begin{equation*} \\vert \\psi_6\\rangle=cos\\left(0\\right)\\vert 0 \\rangle +e^{1.169249190144 i} sin\\left(0\\right)\\vert 1 \\rangle\\end{equation*}\\begin{equation} \\\\ \\end{equation}"
      ],
      "text/plain": [
       "<IPython.core.display.Latex object>"
      ]
     },
     "metadata": {},
     "output_type": "display_data"
    }
   ],
   "source": [
    "if len(qc_multi_2_small.qregs[0]) < 8:\n",
    "    lq.show_bloch_angles(qc_multi_2_small)\n",
    "else:\n",
    "    print('Circuit too large')"
   ]
  },
  {
   "cell_type": "markdown",
   "metadata": {},
   "source": [
    "Extract the exact phases and you can compute the full period.  This is period Shor's Original finds.  If you test the gcd after each multiple, it will find the gcd sub-periods. "
   ]
  },
  {
   "cell_type": "code",
   "execution_count": 256,
   "metadata": {},
   "outputs": [
    {
     "name": "stdout",
     "output_type": "stream",
     "text": [
      "Found it: 7 3\n",
      "Found it: 3 7\n"
     ]
    }
   ],
   "source": [
    "circuit_angles = lq.get_bloch_angles(qc_multi_2_small)\n",
    "product = 1\n",
    "for angles in circuit_angles:\n",
    "    p=period_from_radian(round( angles[1], 10))\n",
    "    product *= p\n",
    "\n",
    "p=pow(2, product, nilf)\n",
    "\n",
    "while p == 1:\n",
    "    product = product // 2\n",
    "    p = pow(2, product, nilf)\n",
    "\n",
    "g1 = gcd(p-1, nilf)\n",
    "if g1 > 1 and g1 < nilf:\n",
    "    print('Found it:', g1, nilf//g1)\n",
    "    \n",
    "g2 = gcd(p+1, nilf)\n",
    "if g2 > 1 and g2 < nilf:\n",
    "    print('Found it:', g2, nilf//g2)\n",
    "        "
   ]
  },
  {
   "cell_type": "markdown",
   "metadata": {},
   "source": [
    "On a real quantum computer, we can't access those angles directly.  So, shift to frequency space with a QFT and then measure out the individual qubits in the +/- basis (perform a Hadamard on each qubit).  Measuring the results approximates the angle -- which gives us the period."
   ]
  },
  {
   "cell_type": "markdown",
   "metadata": {},
   "source": [
    "# Key Points"
   ]
  },
  {
   "cell_type": "markdown",
   "metadata": {},
   "source": [
    "The key to this algorithm is the eigenvalues created by the permutation matrix.  It should be noted that a Hadamard is not used as input, therefore it is not \"trying all possibilities.\"  Hopefully, this demonstration finally puts that notion to rest.  The secret to Shor's algorithm is math -- not magic.\n",
    "\n",
    "This point is further illustrated by the nilf 59989 which has a period of 29750.  It can be factored in less than 29750 runs through the system, so it is clear that it could not possibly be trying every possible solution.  By the traditinal classical method, I am referring to using the power mod function to find the period.  Obviously, a number seive could be used to factor much faster for such a small number.  "
   ]
  },
  {
   "cell_type": "markdown",
   "metadata": {},
   "source": [
    "# Factoring larger numbers\n",
    "\n",
    "Several improvements could be made for factoring larger numbers in excess of 512 bits.  However, this example is more for learning how the algorithm works rather than providing an exact mechanism."
   ]
  },
  {
   "cell_type": "code",
   "execution_count": 275,
   "metadata": {},
   "outputs": [
    {
     "data": {
      "text/html": [
       "<h3>Version Information</h3><table><tr><th>Qiskit Software</th><th>Version</th></tr><tr><td>Qiskit</td><td>0.14.1</td></tr><tr><td>Terra</td><td>0.11.1</td></tr><tr><td>Aer</td><td>0.3.4</td></tr><tr><td>Ignis</td><td>0.2.0</td></tr><tr><td>Aqua</td><td>0.6.2</td></tr><tr><td>IBM Q Provider</td><td>0.4.5</td></tr><tr><th>System information</th></tr><tr><td>Python</td><td>3.7.2 (v3.7.2:9a3ffc0492, Dec 24 2018, 02:44:43) \n",
       "[Clang 6.0 (clang-600.0.57)]</td></tr><tr><td>OS</td><td>Darwin</td></tr><tr><td>CPUs</td><td>6</td></tr><tr><td>Memory (Gb)</td><td>16.0</td></tr><tr><td colspan='2'>Mon Feb 03 04:00:50 2020 PST</td></tr></table>"
      ],
      "text/plain": [
       "<IPython.core.display.HTML object>"
      ]
     },
     "metadata": {},
     "output_type": "display_data"
    }
   ],
   "source": [
    "import qiskit.tools.jupyter\n",
    "%qiskit_version_table"
   ]
  },
  {
   "cell_type": "code",
   "execution_count": null,
   "metadata": {},
   "outputs": [],
   "source": []
  }
 ],
 "metadata": {
  "kernelspec": {
   "display_name": "Python 3",
   "language": "python",
   "name": "python3"
  },
  "language_info": {
   "codemirror_mode": {
    "name": "ipython",
    "version": 3
   },
   "file_extension": ".py",
   "mimetype": "text/x-python",
   "name": "python",
   "nbconvert_exporter": "python",
   "pygments_lexer": "ipython3",
   "version": "3.7.2"
  }
 },
 "nbformat": 4,
 "nbformat_minor": 2
}
