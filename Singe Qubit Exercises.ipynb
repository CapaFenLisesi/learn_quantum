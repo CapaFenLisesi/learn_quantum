{
 "cells": [
  {
   "cell_type": "markdown",
   "metadata": {},
   "source": [
    "# Quantum Programming: Single Qubits\n",
    "\n",
    "This code is meant to be used with the book.  The chapter should be in the same directory.  You will need the learn_quantum.py library and Qiskit.  "
   ]
  },
  {
   "cell_type": "code",
   "execution_count": 1,
   "metadata": {},
   "outputs": [],
   "source": [
    "from qiskit.visualization import plot_bloch_multivector\n",
    "from qiskit import QuantumCircuit, QuantumRegister, ClassicalRegister\n",
    "import learn_quantum as lq\n",
    "from learn_quantum import ket, bra\n",
    "from learn_quantum import np_array_to_latex as a_to_l\n",
    "from IPython.display import Latex\n",
    "import numpy as np\n",
    "from math import pi, sqrt\n"
   ]
  },
  {
   "cell_type": "markdown",
   "metadata": {},
   "source": [
    "## Single Qubits and the Standard Basis\n",
    "\n",
    "The examples present the information in Latex using various support function in the 'learn_quantum' library. If you prefer the square brackets, set lq.default_bracket_type = 'b' and use factor_out=False to not factor out common fractions.  \n",
    "\n",
    "Here, the np_array_to_latex is setup with an alias of a_to_l.  "
   ]
  },
  {
   "cell_type": "code",
   "execution_count": 3,
   "metadata": {},
   "outputs": [
    {
     "data": {
      "text/latex": [
       "\\begin{equation*}\\begin{pmatrix}1 \\\\ \n",
       " 0  \\\\ \n",
       "\\end{pmatrix}\\end{equation*}\\begin{equation} \\\\ \\end{equation}\\begin{equation*}\\begin{pmatrix} 0  \\\\ \n",
       "1 \\\\ \n",
       "\\end{pmatrix}\\end{equation*}"
      ],
      "text/plain": [
       "<IPython.core.display.Latex object>"
      ]
     },
     "execution_count": 3,
     "metadata": {},
     "output_type": "execute_result"
    }
   ],
   "source": [
    "Latex(a_to_l(ket('0')) + lq.llf + lq.np_array_to_latex(ket('1')))"
   ]
  },
  {
   "cell_type": "code",
   "execution_count": 4,
   "metadata": {},
   "outputs": [
    {
     "data": {
      "text/latex": [
       "\\begin{equation*}\\frac{1}{\\sqrt{2}}\\begin{bmatrix}1 \\\\ \n",
       "1 \\\\ \n",
       "\\end{bmatrix}\\end{equation*}\\begin{equation} \\\\ \\end{equation}\\begin{equation*}\\begin{bmatrix}\\frac{1}{\\sqrt{2}} \\\\ \n",
       "-\\frac{1}{\\sqrt{2}} \\\\ \n",
       "\\end{bmatrix}\\end{equation*}"
      ],
      "text/plain": [
       "<IPython.core.display.Latex object>"
      ]
     },
     "execution_count": 4,
     "metadata": {},
     "output_type": "execute_result"
    }
   ],
   "source": [
    "lq.default_bracket_type = 'b'\n",
    "Latex(a_to_l(ket('+')) + lq.llf + a_to_l(ket('-'), factor_out=False))"
   ]
  },
  {
   "cell_type": "code",
   "execution_count": 5,
   "metadata": {},
   "outputs": [],
   "source": [
    "lq.default_bracket_type = 'p'"
   ]
  },
  {
   "cell_type": "markdown",
   "metadata": {},
   "source": [
    "____\n",
    "## Single Qubit Transformations in Bra-Ket\n",
    "\n",
    "All quantum programming amounts to matrix manipulation of an initial state by a transformation matrix.  This is represented as $\\vert \\psi'\\rangle = U\\vert \\psi\\rangle$. Where $U$ is a [unitary matrix](https://en.wikipedia.org/wiki/Unitary_matrix). \n",
    "\n",
    "Quantum gates are basic unitary matricies that map one state onto another.  One way to view these gates is using the bra-ket notation to \"project\" an initial state onto a new state.\n",
    "\n"
   ]
  },
  {
   "cell_type": "markdown",
   "metadata": {},
   "source": [
    "### X Gate\n",
    "\n",
    "The X Gate can be constructed using ket and bra \"projections.\"  The gate transforms 0 to 1 and 1 to 0.  Also known as the Not Gate\n",
    "\n",
    "\\begin{equation*} X=\\vert 0\\rangle \\langle 1 \\vert   +   \\vert 1\\rangle \\langle 0 \\vert = \n",
    "\\end{equation*}\n",
    "\n",
    "\\begin{equation*}\n",
    "\\begin{pmatrix}1&0\\end{pmatrix}\\begin{pmatrix}0\\\\1\\end{pmatrix} + \n",
    "\\begin{pmatrix}0&1\\end{pmatrix}\\begin{pmatrix}1\\\\0\\end{pmatrix} = \n",
    "\\end{equation*}\n",
    "\n",
    "\\begin{equation*}\n",
    "\\begin{pmatrix}0&1\\\\0&0\\end{pmatrix} + \\begin{pmatrix}0&0\\\\1&0\\end{pmatrix} = \\begin{pmatrix}0&1\\\\1&0\\end{pmatrix}\n",
    "\\end{equation*}"
   ]
  },
  {
   "cell_type": "code",
   "execution_count": 29,
   "metadata": {},
   "outputs": [
    {
     "data": {
      "text/latex": [
       "\\begin{equation*}X = \\begin{pmatrix} 0  & 1 \\\\ \n",
       "1 &  0  \\\\ \n",
       "\\end{pmatrix}\\end{equation*}"
      ],
      "text/plain": [
       "<IPython.core.display.Latex object>"
      ]
     },
     "execution_count": 29,
     "metadata": {},
     "output_type": "execute_result"
    }
   ],
   "source": [
    "Ux = ket('0')@bra('1') + ket('1')@bra('0')\n",
    "Latex(a_to_l(Ux, label='X'))"
   ]
  },
  {
   "cell_type": "code",
   "execution_count": 30,
   "metadata": {},
   "outputs": [
    {
     "data": {
      "text/latex": [
       "\\begin{equation*}\\begin{pmatrix} 0  \\\\ \n",
       "1 \\\\ \n",
       "\\end{pmatrix}\\end{equation*}"
      ],
      "text/plain": [
       "<IPython.core.display.Latex object>"
      ]
     },
     "execution_count": 30,
     "metadata": {},
     "output_type": "execute_result"
    }
   ],
   "source": [
    "# Multiply the X-Gate by an intial state of 0 give a new state of 1.  \n",
    "Latex(a_to_l(Ux@ket('0')))"
   ]
  },
  {
   "cell_type": "code",
   "execution_count": 31,
   "metadata": {},
   "outputs": [
    {
     "data": {
      "text/latex": [
       "\\begin{equation*}\\begin{pmatrix}1 \\\\ \n",
       " 0  \\\\ \n",
       "\\end{pmatrix}\\end{equation*}"
      ],
      "text/plain": [
       "<IPython.core.display.Latex object>"
      ]
     },
     "execution_count": 31,
     "metadata": {},
     "output_type": "execute_result"
    }
   ],
   "source": [
    "# Multiply the X-Gate by an intial state of 1 give a new state of 0.  \n",
    "Latex(a_to_l(Ux@ket('1')))"
   ]
  },
  {
   "cell_type": "markdown",
   "metadata": {},
   "source": [
    "_____\n",
    "### Z Gate\n",
    "\n",
    "The Z gate maps 0 onto 0 and 1 onto -1.  It is known as the \"phase flip\" gate.\n",
    "\n",
    "\\begin{equation*}\n",
    "Z = 1\\vert 0\\rangle \\langle 0 \\vert   - 1 \\vert 1\\rangle \\langle 1 \\vert =\n",
    "\\end{equation*}\n",
    "\n",
    "\\begin{equation*}\n",
    "\\begin{pmatrix}1&0\\end{pmatrix}\\begin{pmatrix}1\\\\0\\end{pmatrix} - \n",
    "\\begin{pmatrix}0&1\\end{pmatrix}\\begin{pmatrix}0\\\\1\\end{pmatrix} = \n",
    "\\end{equation*}\n",
    "\n",
    "\\begin{equation*}\n",
    "\\begin{pmatrix}1&0\\\\0&0\\end{pmatrix} - \\begin{pmatrix}0&0\\\\0&1\\end{pmatrix} = \\begin{pmatrix}1&0\\\\0&-1\\end{pmatrix}\n",
    "\\end{equation*}\n"
   ]
  },
  {
   "cell_type": "code",
   "execution_count": 14,
   "metadata": {},
   "outputs": [
    {
     "data": {
      "text/latex": [
       "\\begin{equation*}Z = \\begin{pmatrix}1 &  0  \\\\ \n",
       " 0  & -1 \\\\ \n",
       "\\end{pmatrix}\\end{equation*}"
      ],
      "text/plain": [
       "<IPython.core.display.Latex object>"
      ]
     },
     "execution_count": 14,
     "metadata": {},
     "output_type": "execute_result"
    }
   ],
   "source": [
    "U = ket('0')@bra('0') - ket('1')@bra('1')\n",
    "Latex(a_to_l(U, label='Z'))"
   ]
  },
  {
   "cell_type": "markdown",
   "metadata": {},
   "source": [
    "### Y Gate\n",
    "\n",
    "The Y gate is represented in some texts as $Y = \\begin{pmatrix}0&-1\\\\1&0\\end{pmatrix}$ and is known as the bit and phase flip.  It is a combination of the X and Z gates. However, it is frequently represented with an imaginary component. Either gate is the same gates up to the global phase -- that is, there is no computational difference between the gates and their entries differ by a common global factor.  See the text for detailed discussion of the global phase and how it is used to apply asthetics to certain matricies.  That is, you want a matrix to look a certain way to present it in literature, so a global phase is applied.  For computation purposes the matricies with 1/-1 and i/-i are identical. \n",
    "\n",
    "The Y gate transforms $\\vert 0\\rangle$ onto $\\vert 1\\rangle$ with an amplitude of $\\sqrt{1} = -i$ and $\\vert 1\\rangle$ onto $\\vert 0\\rangle$ with amplitude $\\sqrt{-1} = i$.  In bra-ket notation, and factoring out the coefficient to the front of the term, this is:\n",
    "\n",
    "\\begin{equation*}\n",
    "Y = -i\\vert 0\\rangle \\langle 1 \\vert   + i \\vert 1\\rangle \\langle 0 \\vert =\n",
    "\\end{equation*}\n",
    "\n",
    "\\begin{equation*}\n",
    "\\begin{pmatrix}0&-i\\\\0&0\\end{pmatrix} + \\begin{pmatrix}0&0\\\\i&0\\end{pmatrix} =\n",
    "\\begin{pmatrix}0&-i\\\\i&0\\end{pmatrix}\n",
    "\\end{equation*}\n"
   ]
  },
  {
   "cell_type": "code",
   "execution_count": 38,
   "metadata": {},
   "outputs": [
    {
     "data": {
      "text/latex": [
       "\\begin{equation*}Y = \\begin{pmatrix} 0  & -i \\\\ \n",
       "i &  0  \\\\ \n",
       "\\end{pmatrix}\\end{equation*}"
      ],
      "text/plain": [
       "<IPython.core.display.Latex object>"
      ]
     },
     "execution_count": 38,
     "metadata": {},
     "output_type": "execute_result"
    }
   ],
   "source": [
    "U = -lq.imag*ket('0')@bra('1') + lq.imag*ket('1')@bra('0')\n",
    "Latex(a_to_l(U, label='Y'))"
   ]
  },
  {
   "cell_type": "code",
   "execution_count": 40,
   "metadata": {},
   "outputs": [
    {
     "data": {
      "text/latex": [
       "\\begin{equation*}Y = \\begin{pmatrix} 0  & -1 \\\\ \n",
       "1 &  0  \\\\ \n",
       "\\end{pmatrix}\\end{equation*}"
      ],
      "text/plain": [
       "<IPython.core.display.Latex object>"
      ]
     },
     "execution_count": 40,
     "metadata": {},
     "output_type": "execute_result"
    }
   ],
   "source": [
    "## Applly a global phase if you want the other form.  See text for discussion of global phase\n",
    "Latex(a_to_l(-lq.imag * U, label='Y'))"
   ]
  },
  {
   "cell_type": "code",
   "execution_count": 131,
   "metadata": {},
   "outputs": [
    {
     "data": {
      "text/plain": [
       "array([[ 0.+0.j, -1.+0.j],\n",
       "       [ 1.+0.j,  0.+0.j]])"
      ]
     },
     "execution_count": 131,
     "metadata": {},
     "output_type": "execute_result"
    }
   ],
   "source": [
    "## Which is the same as X@Z\n",
    "lq.pauliX@lq.pauliZ"
   ]
  },
  {
   "cell_type": "code",
   "execution_count": 150,
   "metadata": {},
   "outputs": [
    {
     "data": {
      "text/latex": [
       "\\begin{equation*}Y = \\begin{pmatrix} 0  & -1 \\\\ \n",
       "1 &  0  \\\\ \n",
       "\\end{pmatrix}\\end{equation*}"
      ],
      "text/plain": [
       "<IPython.core.display.Latex object>"
      ]
     },
     "execution_count": 150,
     "metadata": {},
     "output_type": "execute_result"
    }
   ],
   "source": [
    "## And a pi rotation on Y is the same\n",
    "qr = QuantumRegister(1)\n",
    "circuit = QuantumCircuit(qr)\n",
    "circuit.ry(pi, qr)\n",
    "Latex(lq.show_me_the_matrix(circuit, label='Y'))"
   ]
  },
  {
   "cell_type": "markdown",
   "metadata": {},
   "source": [
    "### Hadamard Gate\n",
    "\n",
    "To transform an input of \\ket{0} onto either \\ket{0} or \\ket{1} with 50/50 probabilities, the values of a and b would be $\\frac{1}{\\sqrt{2}}$, as the sum of squares of these probabilities must equal one.  And to transform an input value of \\ket{1} on \\ket{0} or \\ket{1} with 50/50 probabilities, the values of c and d would also be $\\frac{1}{\\sqrt{2}}$.  Here, we will apply a \"relative phase\" of -1 to d to keep the matrix unitary, with an explanation of what they means coming later. The transformation is:\n",
    "\\begin{equation*}\n",
    " \\frac{1}{\\sqrt{2}}\\vert 0 \\rangle \\langle 0 \\vert + \\frac{1}{\\sqrt{2}}\\vert 0 \\rangle \\langle 1 \\vert + \\frac{1}{\\sqrt{2}}\\vert 0 \\rangle \\langle 0 \\vert - \\frac{1}{\\sqrt{2}} \\vert 0 \\rangle\\langle 1 \\vert =\n",
    " \\end{equation*}\n",
    "\\begin{equation*}\n",
    " \\begin{pmatrix}\\frac{1}{\\sqrt{2}}&\\frac{1}{\\sqrt{2}}\\\\\\frac{1}{\\sqrt{2}}&-\\frac{1}{\\sqrt{2}}\\end{pmatrix} =\n",
    " \\frac{1}{\\sqrt{2}}\\begin{pmatrix}1 & 1 \\\\ \n",
    "1 & -1 \\\\ \n",
    "\\end{pmatrix}\n",
    "\\end{equation*}"
   ]
  },
  {
   "cell_type": "code",
   "execution_count": 24,
   "metadata": {},
   "outputs": [
    {
     "data": {
      "text/latex": [
       "\\begin{equation*}\\frac{1}{\\sqrt{2}}\\begin{pmatrix}1 & 1 \\\\ \n",
       "1 & -1 \\\\ \n",
       "\\end{pmatrix}\\end{equation*}"
      ],
      "text/plain": [
       "<IPython.core.display.Latex object>"
      ]
     },
     "execution_count": 24,
     "metadata": {},
     "output_type": "execute_result"
    }
   ],
   "source": [
    "Latex(a_to_l(\n",
    "    1/sqrt(2) * ket('0')@bra('0') + 1/sqrt(2) * ket('0')@bra('1') \n",
    "+ 1/sqrt(2) * ket('1')@bra('0') - 1/sqrt(2) * ket('1')@bra('1')))"
   ]
  },
  {
   "cell_type": "markdown",
   "metadata": {},
   "source": [
    "___\n",
    "## Visual Representation of a Qubit"
   ]
  },
  {
   "cell_type": "code",
   "execution_count": 10,
   "metadata": {},
   "outputs": [
    {
     "data": {
      "image/png": "[encoded data removed]",
      "text/plain": [
       "<Figure size 576x288 with 2 Axes>"
      ]
     },
     "execution_count": 10,
     "metadata": {},
     "output_type": "execute_result"
    }
   ],
   "source": [
    "bloch1 = QuantumCircuit(2)\n",
    "bloch1.x(1)\n",
    "plot_bloch_multivector(lq.execute_state_vector(bloch1))"
   ]
  },
  {
   "cell_type": "markdown",
   "metadata": {},
   "source": [
    "____\n",
    "## Single qubits in superposition"
   ]
  },
  {
   "cell_type": "code",
   "execution_count": 29,
   "metadata": {},
   "outputs": [
    {
     "data": {
      "text/latex": [
       "\\begin{equation*} \\vert \\psi\\rangle=\\frac{1}{\\sqrt{2}} \\vert0\\rangle+-\\frac{1}{\\sqrt{2}}i \\vert1\\rangle\\end{equation*}"
      ],
      "text/plain": [
       "<IPython.core.display.Latex object>"
      ]
     },
     "execution_count": 29,
     "metadata": {},
     "output_type": "execute_result"
    }
   ],
   "source": [
    "circuit = QuantumCircuit(1)\n",
    "circuit.rx(np.pi/2, 0)\n",
    "Latex(lq.show_state_vector(circuit))"
   ]
  },
  {
   "cell_type": "code",
   "execution_count": 30,
   "metadata": {},
   "outputs": [
    {
     "data": {
      "image/png": "[encoded data removed]",
      "text/plain": [
       "<Figure size 288x288 with 1 Axes>"
      ]
     },
     "execution_count": 30,
     "metadata": {},
     "output_type": "execute_result"
    }
   ],
   "source": [
    "plot_bloch_multivector(lq.execute_state_vector(circuit))"
   ]
  },
  {
   "cell_type": "code",
   "execution_count": 13,
   "metadata": {},
   "outputs": [
    {
     "data": {
      "text/latex": [
       "\\begin{equation*} \\vert \\psi\\rangle= 0  \\vert00\\rangle+1 \\vert01\\rangle+ 0  \\vert10\\rangle+ 0  \\vert11\\rangle\\end{equation*}"
      ],
      "text/plain": [
       "<IPython.core.display.Latex object>"
      ]
     },
     "execution_count": 13,
     "metadata": {},
     "output_type": "execute_result"
    }
   ],
   "source": [
    "Latex(lq.show_state_vector(bloch1, show_zeros=True))"
   ]
  },
  {
   "cell_type": "markdown",
   "metadata": {},
   "source": [
    "## Measurement"
   ]
  },
  {
   "cell_type": "markdown",
   "metadata": {},
   "source": [
    "Eigenvectors are discussed in the Appendix in eignevectors for discrete systems.  Here, it is just noted that any measurement puts the system in an eigenstate of the measurment basis.  Qiskit, like most quantum programming interfaces, only allows for measurement in the standard basis (Z-Axis).  As such, the values are always one of the eigenvectors on this basis: "
   ]
  },
  {
   "cell_type": "code",
   "execution_count": 132,
   "metadata": {},
   "outputs": [
    {
     "data": {
      "text/latex": [
       "\\begin{equation*}\\lambda_0=1,\\; v_0 = \\begin{pmatrix}1 \\\\ \n",
       " 0  \\\\ \n",
       "\\end{pmatrix}\\quad\\lambda_1=1,\\; v_1 = \\begin{pmatrix} 0  \\\\ \n",
       "1 \\\\ \n",
       "\\end{pmatrix}\\quad\\end{equation*}"
      ],
      "text/plain": [
       "<IPython.core.display.Latex object>"
      ]
     },
     "execution_count": 132,
     "metadata": {},
     "output_type": "execute_result"
    }
   ],
   "source": [
    "circuit = QuantumCircuit(1)\n",
    "Latex(lq.show_eigens(circuit))"
   ]
  },
  {
   "cell_type": "markdown",
   "metadata": {},
   "source": [
    "You can measure in other basis by performing a rotation into that basis and conducting a measumrent.  The X basis is measured by performing a Hadamared transformation and the Y basis is measured by performing a $S^\\dagger$ and Hadamard.  "
   ]
  },
  {
   "cell_type": "markdown",
   "metadata": {},
   "source": [
    "______\n",
    "The following sets up a basic superposition:"
   ]
  },
  {
   "cell_type": "code",
   "execution_count": 31,
   "metadata": {},
   "outputs": [
    {
     "data": {
      "text/latex": [
       "\\begin{equation*} \\vert \\psi_{Rx}\\rangle=\\frac{1}{\\sqrt{2}} \\vert0\\rangle+-\\frac{1}{\\sqrt{2}}i \\vert1\\rangle\\end{equation*}"
      ],
      "text/plain": [
       "<IPython.core.display.Latex object>"
      ]
     },
     "execution_count": 31,
     "metadata": {},
     "output_type": "execute_result"
    }
   ],
   "source": [
    "circuit = QuantumCircuit(1,1)\n",
    "circuit.rx(pi/2, 0)\n",
    "Latex(lq.show_state_vector(circuit, label='\\psi_{Rx}'))"
   ]
  },
  {
   "cell_type": "code",
   "execution_count": 32,
   "metadata": {},
   "outputs": [
    {
     "data": {
      "text/latex": [
       "\\begin{equation*} \\vert \\psi_{Rx-Rx}\\rangle=1 \\vert0\\rangle\\end{equation*}"
      ],
      "text/plain": [
       "<IPython.core.display.Latex object>"
      ]
     },
     "execution_count": 32,
     "metadata": {},
     "output_type": "execute_result"
    }
   ],
   "source": [
    "circuit.rx(-pi/2, 0)\n",
    "Latex(lq.show_state_vector(circuit, label='\\psi_{Rx-Rx}'))"
   ]
  },
  {
   "cell_type": "markdown",
   "metadata": {},
   "source": [
    "____\n",
    "When you want to perform a measruement on a circuit but also wish to evaluate the transformation matrix or some sub-part of it, you can split the circuit into multiple parts.  Here, the measurement is split off so that we can evalute the circuit in its state prior to the measruement. "
   ]
  },
  {
   "cell_type": "code",
   "execution_count": 35,
   "metadata": {},
   "outputs": [
    {
     "data": {
      "text/latex": [
       "\\begin{equation*} \\vert \\psi_{Meas}\\rangle=1 \\vert0\\rangle\\end{equation*}"
      ],
      "text/plain": [
       "<IPython.core.display.Latex object>"
      ]
     },
     "execution_count": 35,
     "metadata": {},
     "output_type": "execute_result"
    }
   ],
   "source": [
    "circuit = QuantumCircuit(1,1)\n",
    "m = QuantumCircuit(1,1)\n",
    "circuit.rx(pi/2, 0)\n",
    "m.measure(0,0)\n",
    "Latex(lq.show_state_vector(circuit + m, label='\\psi_{Meas}'))"
   ]
  },
  {
   "cell_type": "code",
   "execution_count": 36,
   "metadata": {},
   "outputs": [
    {
     "data": {
      "text/latex": [
       "\\begin{equation*}\\lambda_0=\\frac{1}{\\sqrt{2}}+\\frac{1}{\\sqrt{2}}i,\\; v_0 = \\begin{pmatrix}\\frac{1}{\\sqrt{2}} \\\\ \n",
       "\\frac{1}{\\sqrt{2}} \\\\ \n",
       "\\end{pmatrix}\\quad\\lambda_1=\\frac{1}{\\sqrt{2}}-\\frac{1}{\\sqrt{2}}i,\\; v_1 = \\begin{pmatrix}-\\frac{1}{\\sqrt{2}} \\\\ \n",
       "\\frac{1}{\\sqrt{2}} \\\\ \n",
       "\\end{pmatrix}\\quad\\end{equation*}"
      ],
      "text/plain": [
       "<IPython.core.display.Latex object>"
      ]
     },
     "execution_count": 36,
     "metadata": {},
     "output_type": "execute_result"
    }
   ],
   "source": [
    "Latex(lq.show_eigens(circuit))"
   ]
  },
  {
   "cell_type": "code",
   "execution_count": 38,
   "metadata": {},
   "outputs": [],
   "source": [
    "v = np.array([[1/sqrt(2)], [1/sqrt(2)]])"
   ]
  },
  {
   "cell_type": "markdown",
   "metadata": {},
   "source": [
    "____\n",
    "## Gate Composition\n",
    "\n",
    "Gates are matricies and circuits, which are sequences of gates, a just matricies multiplied together.  However, the prior state vector is on the right, so the gates are applied in \"reverse\" order -- that is, from right-to-left.  The following is the general formula for the decomposition of any unitary matrix:\n",
    "\n",
    "\\begin{equation*}\n",
    "    e^{i\\alpha} \n",
    "    \\begin{pmatrix} e^{-i\\beta/2} & 0 \\\\ \n",
    "                0 & e^{i\\beta/2}\\end{pmatrix}\n",
    "    \\begin{pmatrix} \\cos{\\frac{\\gamma}{2}} & -\\sin{\\frac{\\gamma}{2}} \\\\\n",
    "    \\sin{\\frac{\\gamma}{2}} & \\cos{\\frac{\\gamma}{2}} \\end{pmatrix}\n",
    "    \\begin{pmatrix}e^{-i\\delta/2} & 0 \\\\\n",
    "    0 & e^{i\\delta/2} \\end{pmatrix}\n",
    "\\end{equation*}"
   ]
  },
  {
   "cell_type": "markdown",
   "metadata": {},
   "source": [
    "When working on constructing matricies, you can perform the multiplaction directly using numpy arrays or you can let Qiskit do it for you. Note that matricies are applied from right-to-left:"
   ]
  },
  {
   "cell_type": "code",
   "execution_count": 138,
   "metadata": {},
   "outputs": [
    {
     "data": {
      "text/latex": [
       "\\begin{equation*}\\frac{1}{\\sqrt{2}}\\begin{pmatrix}i & i \\\\ \n",
       "-i & i \\\\ \n",
       "\\end{pmatrix}\\end{equation*}"
      ],
      "text/plain": [
       "<IPython.core.display.Latex object>"
      ]
     },
     "execution_count": 138,
     "metadata": {},
     "output_type": "execute_result"
    }
   ],
   "source": [
    "Latex(a_to_l(lq.pauliX@lq.pauliY@lq.hadamard))"
   ]
  },
  {
   "cell_type": "code",
   "execution_count": 139,
   "metadata": {},
   "outputs": [
    {
     "data": {
      "text/latex": [
       "\\begin{equation*}\\frac{1}{\\sqrt{2}}\\begin{pmatrix}i & i \\\\ \n",
       "-i & i \\\\ \n",
       "\\end{pmatrix}\\end{equation*}"
      ],
      "text/plain": [
       "<IPython.core.display.Latex object>"
      ]
     },
     "execution_count": 139,
     "metadata": {},
     "output_type": "execute_result"
    }
   ],
   "source": [
    "circuit = QuantumCircuit(1)\n",
    "circuit.h(0)\n",
    "circuit.y(0)\n",
    "circuit.x(0)\n",
    "Latex(lq.show_me_the_matrix(circuit))"
   ]
  },
  {
   "cell_type": "markdown",
   "metadata": {},
   "source": [
    "___________\n",
    "The state vector is just the transformation matrix multiplied by the existing state vector.  For a newly intialized qubit, that is just ket('0')"
   ]
  },
  {
   "cell_type": "code",
   "execution_count": 140,
   "metadata": {},
   "outputs": [
    {
     "data": {
      "text/latex": [
       "\\begin{equation*}\\begin{pmatrix}\\frac{1}{\\sqrt{2}}i \\\\ \n",
       "-\\frac{1}{\\sqrt{2}}i \\\\ \n",
       "\\end{pmatrix}\\end{equation*}"
      ],
      "text/plain": [
       "<IPython.core.display.Latex object>"
      ]
     },
     "execution_count": 140,
     "metadata": {},
     "output_type": "execute_result"
    }
   ],
   "source": [
    "Latex(a_to_l(lq.pauliX@lq.pauliY@lq.hadamard@ket('0'), factor_out=False))"
   ]
  },
  {
   "cell_type": "code",
   "execution_count": null,
   "metadata": {},
   "outputs": [],
   "source": []
  },
  {
   "cell_type": "markdown",
   "metadata": {},
   "source": [
    "## Mechanical Composition"
   ]
  },
  {
   "cell_type": "code",
   "execution_count": 175,
   "metadata": {},
   "outputs": [
    {
     "data": {
      "image/png": "[encoded data removed]",
      "text/plain": [
       "<Figure size 602x78.26 with 1 Axes>"
      ]
     },
     "execution_count": 175,
     "metadata": {},
     "output_type": "execute_result"
    }
   ],
   "source": [
    "qr = QuantumRegister(1)\n",
    "custom = QuantumCircuit(qr)\n",
    "\n",
    "alpha = pi/4\n",
    "beta = pi/2\n",
    "gamma = pi/2\n",
    "delta = -pi/2\n",
    "\n",
    "custom.append(lq.global_gate(alpha), [qr[0]])\n",
    "custom.append(lq.rrz_gate(beta), [qr[0]])\n",
    "custom.ry(gamma, qr[0])\n",
    "custom.append(lq.rrz_gate(delta), [qr[0]])\n",
    "\n",
    "custom.draw(output='mpl')"
   ]
  },
  {
   "cell_type": "markdown",
   "metadata": {},
   "source": [
    "## Exercise 1"
   ]
  },
  {
   "cell_type": "code",
   "execution_count": 107,
   "metadata": {},
   "outputs": [
    {
     "name": "stdout",
     "output_type": "stream",
     "text": [
      "alpha= 0, beta= pi, gamma= pi/3, delta=-pi\n"
     ]
    }
   ],
   "source": [
    "u = sqrt(3/4)*ket('0')@bra('0') - sqrt(1/4)*ket('0')@bra('1') + sqrt(1/4)*ket('1')@bra('0') + sqrt(3/4)*ket('1')@bra('1')\n",
    "lq.decompose_single(u)\n"
   ]
  },
  {
   "cell_type": "code",
   "execution_count": 157,
   "metadata": {},
   "outputs": [
    {
     "name": "stdout",
     "output_type": "stream",
     "text": [
      "Reversed: [('0', 746), ('1', 254)]\n"
     ]
    }
   ],
   "source": [
    "qr = QuantumRegister(1)\n",
    "cr = ClassicalRegister(1)\n",
    "circuit = QuantumCircuit(qr, cr)\n",
    "circuit.ry(np.pi/3, qr[0])\n",
    "m = QuantumCircuit(qr, cr)\n",
    "m.measure(qr, cr)\n",
    "answers = lq.execute_simulated(circuit+m ,1000, \n",
    "                              seed_simulator=12345)\n",
    "lq.print_reverse_results(answers)"
   ]
  },
  {
   "cell_type": "markdown",
   "metadata": {},
   "source": [
    "## Exercise 2\n",
    "In this exercies, the negative sign is moved to the last term.  You can verify that this still give the same probability distribution when measured in the standard basis.  But it gives a very different probability distributions from the Ry rotation when they are both measured in the Hadamard basis.  This is because the \"relative phase\" of the systems is different, in this case opposite.  As such, when the system is rotated into a basis that reflects that phase, the results returned will be different (in this case opposite). \n",
    "\n",
    "Here, the system in Exercise 1 was under specified.  That is, in our initial setup, the only thing required was a single axis measurement split 75/25.  This gave several options for how to handle the phase --- none of which affected the outcome of the simple exercies.  For most quantum program, the phase is a major component of the computation and it needs to be properly defined.\n",
    "\n",
    "This exerise introduces lq.decompose_single_qiskit(u) -- which decomposes a single qubit matrix into a single U3 gate.  The decompose_single function would work as well, but would requipe multiple gates.  To keep the example as simple as possible, it is easier to use the qiskit single gate decomposition. "
   ]
  },
  {
   "cell_type": "code",
   "execution_count": 110,
   "metadata": {},
   "outputs": [
    {
     "name": "stdout",
     "output_type": "stream",
     "text": [
      "theta= pi/3, phi= 0, lambda= pi, phase=0\n"
     ]
    }
   ],
   "source": [
    "u = sqrt(3/4)*ket('0')@bra('0') + sqrt(1/4)*ket('0')@bra('1') + sqrt(1/4)*ket('1')@bra('0') - sqrt(3/4)*ket('1')@bra('1')\n",
    "lq.decompose_single_qiskit(u)"
   ]
  },
  {
   "cell_type": "code",
   "execution_count": 174,
   "metadata": {},
   "outputs": [
    {
     "data": {
      "text/latex": [
       "\\begin{equation*}U3(\\pi/3,0,\\pi) = \\begin{pmatrix}\\frac{\\sqrt{3}}{2} & \\frac{1}{2} \\\\ \n",
       "\\frac{1}{2} & -\\frac{\\sqrt{3}}{2} \\\\ \n",
       "\\end{pmatrix}\\end{equation*}"
      ],
      "text/plain": [
       "<IPython.core.display.Latex object>"
      ]
     },
     "execution_count": 174,
     "metadata": {},
     "output_type": "execute_result"
    }
   ],
   "source": [
    "qc = QuantumCircuit(1)\n",
    "qc.u3(pi/3,0, pi, 0)\n",
    "Latex(lq.show_me_the_matrix(qc, label='U3(\\pi/3,0,\\pi)'))"
   ]
  },
  {
   "cell_type": "code",
   "execution_count": 125,
   "metadata": {},
   "outputs": [
    {
     "data": {
      "text/latex": [
       "\\begin{equation*}R_y = \\begin{pmatrix}\\frac{\\sqrt{3}}{2} & -\\frac{1}{2} \\\\ \n",
       "\\frac{1}{2} & \\frac{\\sqrt{3}}{2} \\\\ \n",
       "\\end{pmatrix}\\end{equation*}"
      ],
      "text/plain": [
       "<IPython.core.display.Latex object>"
      ]
     },
     "execution_count": 125,
     "metadata": {},
     "output_type": "execute_result"
    }
   ],
   "source": [
    "qc = QuantumCircuit(1)\n",
    "qc.ry(pi/3, 0)\n",
    "Latex(lq.show_me_the_matrix(qc, label='R_y'))"
   ]
  },
  {
   "cell_type": "code",
   "execution_count": 143,
   "metadata": {},
   "outputs": [
    {
     "name": "stdout",
     "output_type": "stream",
     "text": [
      "Reversed: [('0', 66), ('1', 934)]\n"
     ]
    }
   ],
   "source": [
    "qr = QuantumRegister(1)\n",
    "cr = ClassicalRegister(1)\n",
    "rel_phase = QuantumCircuit(qr, cr)\n",
    "rel_phase.u3(-pi/3,0, pi, qr[0])\n",
    "rel_phase.h(qr[0])\n",
    "\n",
    "m_rel = QuantumCircuit(qr , cr)\n",
    "m_rel.measure(qr[0], cr[0])\n",
    "\n",
    "answers = lq.execute_simulated(rel_phase + m_rel ,1000, \n",
    "                              seed_simulator=12345)\n",
    "lq.print_reverse_results(answers)"
   ]
  },
  {
   "cell_type": "code",
   "execution_count": 137,
   "metadata": {},
   "outputs": [
    {
     "name": "stdout",
     "output_type": "stream",
     "text": [
      "Reversed: [('0', 945), ('1', 55)]\n"
     ]
    }
   ],
   "source": [
    "qr = QuantumRegister(1)\n",
    "cr = ClassicalRegister(1)\n",
    "initial_ry = QuantumCircuit(qr, cr)\n",
    "initial_ry.ry(np.pi/3, qr[0])\n",
    "initial_ry.h(qr[0])\n",
    "\n",
    "m_ry = QuantumCircuit(qr , cr)\n",
    "m_ry.measure(qr[0], cr[0])\n",
    "\n",
    "answers = lq.execute_simulated(initial_ry + m_ry ,1000, \n",
    "                              seed_simulator=12345)\n",
    "lq.print_reverse_results(answers)"
   ]
  },
  {
   "cell_type": "code",
   "execution_count": 148,
   "metadata": {},
   "outputs": [
    {
     "data": {
      "text/latex": [
       "\\begin{equation*} \\vert \\psi_{u3}\\rangle=0.2588 \\vert0\\rangle+0.9659 \\vert1\\rangle\\end{equation*}\\begin{equation} \\\\ \\end{equation}\\begin{equation*} \\vert \\psi_{Ry}\\rangle=0.9659 \\vert0\\rangle+0.2588 \\vert1\\rangle\\end{equation*}"
      ],
      "text/plain": [
       "<IPython.core.display.Latex object>"
      ]
     },
     "execution_count": 148,
     "metadata": {},
     "output_type": "execute_result"
    }
   ],
   "source": [
    "Latex(lq.show_state_vector(rel_phase, label='\\psi_{u3}') + lq.llf \n",
    "      + lq.show_state_vector(initial_ry, label='\\psi_{Ry}'))"
   ]
  },
  {
   "cell_type": "markdown",
   "metadata": {},
   "source": [
    "## Exercise 3\n",
    "See text, no code."
   ]
  },
  {
   "cell_type": "markdown",
   "metadata": {},
   "source": [
    "## Exercise 4"
   ]
  },
  {
   "cell_type": "code",
   "execution_count": 149,
   "metadata": {},
   "outputs": [
    {
     "data": {
      "text/plain": [
       "array([[ 0.70710678,  0.70710678],\n",
       "       [ 0.70710678, -0.70710678]])"
      ]
     },
     "execution_count": 149,
     "metadata": {},
     "output_type": "execute_result"
    }
   ],
   "source": [
    "ket('0')@bra('+')  + ket('1')@bra('-')"
   ]
  },
  {
   "cell_type": "markdown",
   "metadata": {},
   "source": [
    "## Exercise 5"
   ]
  },
  {
   "cell_type": "code",
   "execution_count": 150,
   "metadata": {},
   "outputs": [
    {
     "name": "stdout",
     "output_type": "stream",
     "text": [
      "alpha= pi/2, beta= 0, gamma= pi/2, delta=pi\n"
     ]
    }
   ],
   "source": [
    "lq.decompose_single(lq.hadamard)"
   ]
  },
  {
   "cell_type": "code",
   "execution_count": 153,
   "metadata": {},
   "outputs": [
    {
     "data": {
      "text/latex": [
       "\\begin{equation*}Hadamard = \\frac{1}{\\sqrt{2}}\\begin{pmatrix}1 & 1 \\\\ \n",
       "1 & -1 \\\\ \n",
       "\\end{pmatrix}\\end{equation*}"
      ],
      "text/plain": [
       "<IPython.core.display.Latex object>"
      ]
     },
     "execution_count": 153,
     "metadata": {},
     "output_type": "execute_result"
    }
   ],
   "source": [
    "circuit = QuantumCircuit(1)\n",
    "circuit.rz(pi, 0)\n",
    "circuit.ry(pi/2, 0)\n",
    "Latex(lq.show_me_the_matrix(circuit, label='Hadamard'))"
   ]
  },
  {
   "cell_type": "code",
   "execution_count": 155,
   "metadata": {},
   "outputs": [
    {
     "data": {
      "text/html": [
       "<pre style=\"word-wrap: normal;white-space: pre;line-height: 15px;\">        ┌───┐\n",
       "q_0: |0>┤ H ├\n",
       "        └───┘</pre>"
      ],
      "text/plain": [
       "<qiskit.visualization.text.TextDrawing at 0x13088e320>"
      ]
     },
     "execution_count": 155,
     "metadata": {},
     "output_type": "execute_result"
    }
   ],
   "source": [
    "circuit = QuantumCircuit(1)\n",
    "circuit.h(0)\n",
    "circuit.draw()"
   ]
  },
  {
   "cell_type": "code",
   "execution_count": 154,
   "metadata": {},
   "outputs": [
    {
     "data": {
      "text/html": [
       "<pre style=\"word-wrap: normal;white-space: pre;line-height: 15px;\">        ┌──────────┐\n",
       "q_0: |0>┤ U2(0,pi) ├\n",
       "        └──────────┘</pre>"
      ],
      "text/plain": [
       "<qiskit.visualization.text.TextDrawing at 0x13089ac88>"
      ]
     },
     "execution_count": 154,
     "metadata": {},
     "output_type": "execute_result"
    }
   ],
   "source": [
    "circuit = QuantumCircuit(1)\n",
    "circuit.h(0)\n",
    "circuit.decompose().draw()"
   ]
  },
  {
   "cell_type": "markdown",
   "metadata": {},
   "source": [
    "## Exercise 6"
   ]
  },
  {
   "cell_type": "code",
   "execution_count": 156,
   "metadata": {},
   "outputs": [
    {
     "data": {
      "text/latex": [
       "\\begin{equation*}Hadamard = \\frac{1}{2}\\begin{pmatrix}1+i & 1+i \\\\ \n",
       "1+i & -1-i \\\\ \n",
       "\\end{pmatrix}\\end{equation*}"
      ],
      "text/plain": [
       "<IPython.core.display.Latex object>"
      ]
     },
     "execution_count": 156,
     "metadata": {},
     "output_type": "execute_result"
    }
   ],
   "source": [
    "qr = QuantumRegister(1)\n",
    "circuit = QuantumCircuit(qr)\n",
    "circuit.append(lq.global_gate(pi/4), [qr[0]])\n",
    "circuit.h(qr[0])\n",
    "Latex(lq.show_me_the_matrix(circuit, label='Hadamard'))"
   ]
  },
  {
   "cell_type": "markdown",
   "metadata": {},
   "source": [
    "## Exercise 7"
   ]
  },
  {
   "cell_type": "code",
   "execution_count": 157,
   "metadata": {},
   "outputs": [
    {
     "name": "stdout",
     "output_type": "stream",
     "text": [
      "alpha= pi/4, beta= -pi/2, gamma= pi/2, delta=pi/2\n"
     ]
    }
   ],
   "source": [
    "srn = np.array([[0.5+0.5j, 0.5-0.5j],\n",
    "       [0.5-0.5j, 0.5+0.5j]])\n",
    "lq.decompose_single(srn)"
   ]
  },
  {
   "cell_type": "code",
   "execution_count": 164,
   "metadata": {},
   "outputs": [
    {
     "data": {
      "text/latex": [
       "\\begin{equation*}\\sqrt{NOT} = \\frac{1}{2}\\begin{pmatrix}1+i & 1-i \\\\ \n",
       "1-i & 1+i \\\\ \n",
       "\\end{pmatrix}\\end{equation*}"
      ],
      "text/plain": [
       "<IPython.core.display.Latex object>"
      ]
     },
     "execution_count": 164,
     "metadata": {},
     "output_type": "execute_result"
    }
   ],
   "source": [
    "qr = QuantumRegister(1)\n",
    "circuit = QuantumCircuit(qr)\n",
    "\n",
    "alpha = pi/4\n",
    "beta = -pi/2\n",
    "gamma = pi/2\n",
    "delta = pi/2\n",
    "\n",
    "circuit.append(lq.rrz_gate(delta), [qr[0]])\n",
    "circuit.ry(gamma, qr)\n",
    "circuit.append(lq.rrz_gate(beta), [qr[0]])\n",
    "circuit.append(lq.global_gate(pi/4), [qr[0]])\n",
    "\n",
    "Latex(lq.show_me_the_matrix(circuit, label='\\sqrt{NOT}'))"
   ]
  },
  {
   "cell_type": "code",
   "execution_count": 171,
   "metadata": {},
   "outputs": [
    {
     "data": {
      "text/latex": [
       "\\begin{equation*}\\sqrt{NOT} = \\frac{1}{2}\\begin{pmatrix}1+i & 1-i \\\\ \n",
       "1-i & 1+i \\\\ \n",
       "\\end{pmatrix}\\end{equation*}"
      ],
      "text/plain": [
       "<IPython.core.display.Latex object>"
      ]
     },
     "execution_count": 171,
     "metadata": {},
     "output_type": "execute_result"
    }
   ],
   "source": [
    "qc_srn = QuantumCircuit(1)\n",
    "qc_srn.h(0)\n",
    "qc_srn.s(0)\n",
    "qc_srn.h(0)\n",
    "Latex(lq.show_me_the_matrix(qc_srn, label='\\sqrt{NOT}'))"
   ]
  },
  {
   "cell_type": "code",
   "execution_count": 168,
   "metadata": {},
   "outputs": [
    {
     "name": "stdout",
     "output_type": "stream",
     "text": [
      "theta= pi/2, phi= -pi/2, lambda= pi/2, phase=pi/4\n"
     ]
    }
   ],
   "source": [
    "lq.decompose_single_qiskit(srn)"
   ]
  },
  {
   "cell_type": "code",
   "execution_count": 169,
   "metadata": {},
   "outputs": [
    {
     "data": {
      "text/latex": [
       "\\begin{equation*}\\sqrt{NOT} = \\frac{1}{\\sqrt{2}}\\begin{pmatrix}1 & -i \\\\ \n",
       "-i & 1 \\\\ \n",
       "\\end{pmatrix}\\end{equation*}"
      ],
      "text/plain": [
       "<IPython.core.display.Latex object>"
      ]
     },
     "execution_count": 169,
     "metadata": {},
     "output_type": "execute_result"
    }
   ],
   "source": [
    "qc_no_global = QuantumCircuit(1)\n",
    "qc_no_global.u3(pi/2, -pi/2, pi/2, 0)\n",
    "Latex(lq.show_me_the_matrix(qc_no_global, label='\\sqrt{NOT}'))\n"
   ]
  },
  {
   "cell_type": "code",
   "execution_count": 172,
   "metadata": {},
   "outputs": [
    {
     "data": {
      "text/plain": [
       "True"
      ]
     },
     "execution_count": 172,
     "metadata": {},
     "output_type": "execute_result"
    }
   ],
   "source": [
    "mat = lq.what_is_the_matrix(qc_srn)\n",
    "mat2 = lq.what_is_the_matrix(qc_no_global)\n",
    "import qiskit.quantum_info.operators.predicates as pred\n",
    "pred.matrix_equal(mat, mat2, ignore_phase=True)"
   ]
  },
  {
   "cell_type": "code",
   "execution_count": null,
   "metadata": {},
   "outputs": [],
   "source": []
  }
 ],
 "metadata": {
  "kernelspec": {
   "display_name": "Python 3",
   "language": "python",
   "name": "python3"
  },
  "language_info": {
   "codemirror_mode": {
    "name": "ipython",
    "version": 3
   },
   "file_extension": ".py",
   "mimetype": "text/x-python",
   "name": "python",
   "nbconvert_exporter": "python",
   "pygments_lexer": "ipython3",
   "version": "3.7.2"
  }
 },
 "nbformat": 4,
 "nbformat_minor": 2
}
